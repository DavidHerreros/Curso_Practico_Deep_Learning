{
 "cells": [
  {
   "metadata": {},
   "cell_type": "markdown",
   "source": [
    "# PRÁCTICA 1: MODELOS DE DIFUSION Y MECANISMOS DE ATENCIÓN\n",
    "\n",
    "En esta práctica veremos como podemos definir una de las arquitecturas más novedosas en el campo de las redes neuronales: los **__modelos de difusión__**.\n",
    "\n",
    "En esencia, un modelo de difusión aprende a generar datos similares a una entrada a partir de imágenes con puro ruido. Este tipo de modelos se han vuelto muy populares en la generación de imágenes como DALL-E de OpenAI.\n",
    "\n",
    "Los principales conceptos que cubriremos con esta práctica son los siguientes:\n",
    " - Definir modelos de difusión\n",
    " - Arquitectura U-NET\n",
    " - Mecanismos de atención basados en __visual transformers__\n",
    "\n",
    "Antes de comenzar con el modelo, vamos a importar las librerías que necesitaremos:"
   ],
   "id": "9aada98f0eac7ce1"
  },
  {
   "metadata": {
    "ExecuteTime": {
     "end_time": "2025-05-11T17:33:29.425175Z",
     "start_time": "2025-05-11T17:33:28.936773Z"
    }
   },
   "cell_type": "code",
   "source": "!jupyter nbextension enable --py widgetsnbextension",
   "id": "ecb6b75ed4bc07a8",
   "outputs": [
    {
     "name": "stdout",
     "output_type": "stream",
     "text": [
      "/bin/bash: warning: setlocale: LC_ALL: cannot change locale (en_US.UTF-8)\r\n"
     ]
    },
    {
     "name": "stderr",
     "output_type": "stream",
     "text": [
      "/home/dherreros/miniforge3/envs/pytorch/lib/python3.12/pty.py:95: RuntimeWarning: os.fork() was called. os.fork() is incompatible with multithreaded code, and JAX is multithreaded, so this will likely lead to a deadlock.\n",
      "  pid, fd = os.forkpty()\n"
     ]
    },
    {
     "name": "stdout",
     "output_type": "stream",
     "text": [
      "Enabling notebook extension jupyter-js-widgets/extension...\r\n",
      "      - Validating: \u001B[32mOK\u001B[0m\r\n"
     ]
    }
   ],
   "execution_count": 211
  },
  {
   "metadata": {},
   "cell_type": "markdown",
   "source": "A diferencia de la **Práctica 4**, aquí veremos como usar las funciones de compilación de código en __JAX__ y __XLA__ para mejorar aún la eficiencia de nuestras redes.",
   "id": "7d5aeffe54035bc8"
  },
  {
   "metadata": {
    "ExecuteTime": {
     "end_time": "2025-05-11T17:33:29.444106Z",
     "start_time": "2025-05-11T17:33:29.440531Z"
    }
   },
   "cell_type": "code",
   "source": [
    "import os\n",
    "from typing import List\n",
    "import random\n",
    "from etils import epath\n",
    "\n",
    "# Librerías de JAX\n",
    "import jax\n",
    "from jax import random as jnr, numpy as jnp\n",
    "from jax.tree_util import tree_map\n",
    "from flax import nnx\n",
    "import optax\n",
    "import orbax.checkpoint as ocp\n",
    "\n",
    "# Una librería muy util para ajustar los tamaños de nuestros tensores\n",
    "from einops import rearrange\n",
    "\n",
    "# Torch vision para descargar y preprocesar el conjunto de datos que usaremos para entrenar la red\n",
    "import torch\n",
    "from torchvision import datasets, transforms\n",
    "from torch.utils.data import DataLoader, default_collate\n",
    "\n",
    "# Herramientas adicionales para la visualización de los datos y resultados\n",
    "from tqdm import tqdm\n",
    "import matplotlib.pyplot as plt\n",
    "import matplotlib.animation as animation\n",
    "import numpy as np"
   ],
   "id": "c37b5457ba1e6f83",
   "outputs": [],
   "execution_count": 212
  },
  {
   "metadata": {},
   "cell_type": "markdown",
   "source": [
    "Durante esta práctica usaremos de nuevo el conjunto de datos `FashionMNIST` para entrenar la red. Comenzaremos por descargar y generar el `DataLoader` para poder enviar datos a la red de manera eficiente.\n",
    "\n",
    "Dado que vamos a aprovechar el ``DataLoader`` de __PyTorch__ en __JAX__, necesitamos convertir nuestros lotes a __Numpy__ par que __JAX__ pueda trabajar con los datos. Esto lo haremos usando la funcionalidad ``collate_fn`` del ``DataLoader`` junto con una función que se encargue de hacer esta conversión:"
   ],
   "id": "3269d3b461b27640"
  },
  {
   "metadata": {
    "ExecuteTime": {
     "end_time": "2025-05-11T17:33:29.877874Z",
     "start_time": "2025-05-11T17:33:29.496146Z"
    }
   },
   "cell_type": "code",
   "source": [
    "def numpy_collate(batch):\n",
    "  \"\"\"\n",
    "  Esta funión determina como combinar una lista de muestras en un lote.\n",
    "  default_collate crea tensores de PyTorch, y tree_map se encarga de convertirlos a numpy arrays.\n",
    "  \"\"\"\n",
    "  return tree_map(np.asarray, default_collate(batch))\n",
    "\n",
    "train_dataset = datasets.FashionMNIST(\"./MNIST_DATA\", train=True, download=True, transform=transforms.ToTensor())\n",
    "train_loader = DataLoader(train_dataset, batch_size=64, shuffle=True, drop_last=True, num_workers=0, collate_fn=numpy_collate)"
   ],
   "id": "dfa1df19591a912b",
   "outputs": [],
   "execution_count": 213
  },
  {
   "metadata": {},
   "cell_type": "markdown",
   "source": "Vamos a definir también el dispositivo que usaremos para procesar (GPU):",
   "id": "1001f80568a957b0"
  },
  {
   "metadata": {
    "ExecuteTime": {
     "end_time": "2025-05-11T17:33:29.893811Z",
     "start_time": "2025-05-11T17:33:29.890571Z"
    }
   },
   "cell_type": "code",
   "source": "DEVICE = jax.devices('gpu')[0]",
   "id": "b56473dcb3bda24d",
   "outputs": [],
   "execution_count": 214
  },
  {
   "metadata": {},
   "cell_type": "raw",
   "source": "También podemos aprovechar para visualizar los datos como hemos hecho en prácticas anteriores:",
   "id": "7888f7a908e51213"
  },
  {
   "metadata": {
    "ExecuteTime": {
     "end_time": "2025-05-11T17:33:30.005351Z",
     "start_time": "2025-05-11T17:33:29.943749Z"
    }
   },
   "cell_type": "code",
   "source": [
    "print(\"Inspección de los datos de entrenamiento: \")\n",
    "for _, data in enumerate(train_loader):\n",
    "    x = rearrange(data[0], 'b c w h -> b w h c')\n",
    "    print(\"Tamaño del lote: \",x.shape)\n",
    "    fig, ax = plt.subplots(1, 4, figsize=(10, 4))\n",
    "\n",
    "    for i in range(4):\n",
    "        ax[i].imshow(x[i].squeeze(), cmap=\"gray\")\n",
    "        ax[i].axis(\"off\")\n",
    "    plt.show()\n",
    "    # Hacemos break para no recorrer todo el loader\n",
    "    break"
   ],
   "id": "343dd408272819c9",
   "outputs": [
    {
     "name": "stdout",
     "output_type": "stream",
     "text": [
      "Inspección de los datos de entrenamiento: \n",
      "Tamaño del lote:  (64, 28, 28, 1)\n"
     ]
    },
    {
     "data": {
      "text/plain": [
       "<Figure size 1000x400 with 4 Axes>"
      ],
      "image/png": "[encoded data removed]"
     },
     "metadata": {},
     "output_type": "display_data"
    }
   ],
   "execution_count": 215
  },
  {
   "metadata": {},
   "cell_type": "markdown",
   "source": [
    "Antes de definir nuestra red, vamos a generar un embedding sinusoidal. Este tipo de embeddings permiten transmitir el concepto de \"secuencia\" a nuestros datos:\n",
    "\n",
    "<img src=\"https://miro.medium.com/v2/resize:fit:720/format:webp/0*DEZ4oDAZm0RCOPDb.png\" width=500, heigh=500 />\n",
    "\n",
    "En nuestro caso, los usaremos para definir diferentes momentos en el tiempo: cuando nuestro tiempo sea igual a 0, tendremos imágenes compuestas completamente por ruido. A medida que el tiempo avance, nuestras imágenes iran perdiendo ruido y ganando señal hasta llegar a una imagen limpia del objeto de interés. Por lo tanto, este concepto de tiempo no deja de ser una secuencia de pasos, teniendo cada uno una cantidad de ruido menor.\n"
   ],
   "id": "85c61b2a4d130b3"
  },
  {
   "metadata": {
    "ExecuteTime": {
     "end_time": "2025-05-11T17:33:30.020934Z",
     "start_time": "2025-05-11T17:33:30.017080Z"
    }
   },
   "cell_type": "code",
   "source": [
    "class SinusoidalEmbeddings(nnx.Module):\n",
    "    def __init__(self, time_steps: int, embed_dim: int):\n",
    "        position = jnp.arange(time_steps, dtype=jnp.float32)[:, None]\n",
    "        div = jnp.exp(jnp.arange(0, embed_dim, 2, dtype=jnp.float32) * -(jnp.log(10000.0) / embed_dim))\n",
    "        embeddings = jnp.zeros((time_steps, embed_dim))\n",
    "        embeddings = embeddings.at[:, 0::2].set(jnp.sin(position * div))\n",
    "        embeddings = embeddings.at[:, 1::2].set(jnp.cos(position * div))\n",
    "        self.embeddings = nnx.Variable(jnp.array(embeddings))\n",
    "\n",
    "    def __call__(self, t):\n",
    "        embeds = self.embeddings.value[t]\n",
    "        return embeds[:, None, None, :]"
   ],
   "id": "129ba2c2f5030591",
   "outputs": [],
   "execution_count": 216
  },
  {
   "metadata": {},
   "cell_type": "markdown",
   "source": "Una vez definidos nuestro embedding con sentido de secuencia, podemos comenzar a instanciar nuestra U-NET. En primer lugar, comenzaremos por definir el bloque esencial que compone este tipo de redes: un conjunto de capas convolucionales con conexiones residuales:",
   "id": "3aa56c38b106acaf"
  },
  {
   "metadata": {
    "ExecuteTime": {
     "end_time": "2025-05-11T17:33:30.076549Z",
     "start_time": "2025-05-11T17:33:30.072542Z"
    }
   },
   "cell_type": "code",
   "source": [
    "class ResBlock(nnx.Module):\n",
    "    def __init__(self, C: int, num_groups: int, dropout_prob: float, *, rngs: nnx.Rngs):\n",
    "        self.relu = nnx.relu\n",
    "        self.gnorm1 = nnx.GroupNorm(num_groups=num_groups, num_features=C, rngs=rngs)  # Esta capa normaliza los canales dividiendolas previamente en pequeños grupos\n",
    "        self.gnorm2 = nnx.GroupNorm(num_groups=num_groups, num_features=C, rngs=rngs)  # Esta capa normaliza los canales dividiendolas previamente en pequeños grupos\n",
    "        self.conv1 = nnx.Conv(C, C, kernel_size=(3, 3), strides=(1, 1), padding=\"SAME\", rngs=rngs)\n",
    "        self.conv2 = nnx.Conv(C, C, kernel_size=(3, 3), strides=(1, 1), padding=\"SAME\", rngs=rngs)\n",
    "        self.dropout = nnx.Dropout(dropout_prob, rngs=rngs)\n",
    "\n",
    "    def __call__(self, x, embeddings):\n",
    "        x = x + embeddings[:, :, :, :x.shape[-1]]  # Embeddings vendrá definido por SinusoidalEmbeddings en un \"momento\" determinado de la secuencia de tiempo\n",
    "        r = self.conv1(self.relu(self.gnorm1(x)))\n",
    "        r = self.dropout(r)\n",
    "        r = self.conv2(self.relu(self.gnorm2(r)))\n",
    "        return r + x"
   ],
   "id": "97a85d872c3c880f",
   "outputs": [],
   "execution_count": 217
  },
  {
   "metadata": {},
   "cell_type": "markdown",
   "source": "<img src=\"https://api.wandb.ai/files/wandb_fc/images/projects/605819/472b8f50.png\" width=500, heigh=500 />\n",
   "id": "1e903b92944bd7c9"
  },
  {
   "metadata": {},
   "cell_type": "markdown",
   "source": "Una vez definido el bloque esencial de nuezstra U-NET, podemos pasar a definir cada capa de nuestra red neuronal. Estas capas estarán compuestas por dos bloques residuales (previamente definidos), una capa de atención basada en transformadores visuales, y una capa de convolución/convolución transpuesta (esto dependerá de si esta capa se encuentra en la primera o en la segunda mitad de nuestra U-NET tal y como veremos más adelante):",
   "id": "1f27dff98d89e4d4"
  },
  {
   "metadata": {
    "ExecuteTime": {
     "end_time": "2025-05-11T17:33:30.127170Z",
     "start_time": "2025-05-11T17:33:30.122659Z"
    }
   },
   "cell_type": "code",
   "source": [
    "class UnetLayer(nnx.Module):\n",
    "    def __init__(self, upscale: bool, attention: bool, num_groups: int, dropout_prob: float, num_heads: int, C: int, *, rngs: nnx.Rngs):\n",
    "        rng = jnr.PRNGKey(random.randint(0, 2**32-1)) # En JAX hay que instanciar una random seed manualmente\n",
    "        rng, layer_rb1, layer_rb2, layer_att = jax.random.split(rng, 4)\n",
    "        self.ResBlock1 = ResBlock(C=C, num_groups=num_groups, dropout_prob=dropout_prob, rngs=nnx.Rngs(layer_rb1))\n",
    "        self.ResBlock2 = ResBlock(C=C, num_groups=num_groups, dropout_prob=dropout_prob, rngs=nnx.Rngs(layer_rb2))\n",
    "        if upscale:\n",
    "            # Primera opción: Operación de convolución tranpuesta \"similar\" a PyTorch\n",
    "            self.conv = nnx.ConvTranspose(C, C // 2, kernel_size=(4, 4), strides=(2, 2), padding=\"SAME\", transpose_kernel=True, rngs=rngs)\n",
    "\n",
    "            # Segunda opción: Incrementar el tamaño de la imagen y después hacer una convolución estandar\n",
    "            # self.conv = nnx.Conv(C, C // 2, kernel_size=(4, 4), strides=(1, 1), padding=\"SAME\", rngs=rngs)\n",
    "        else:\n",
    "            self.conv = nnx.Conv(C, C * 2, kernel_size=(3, 3), strides=(2, 2), padding=\"SAME\", rngs=rngs)\n",
    "        if attention:\n",
    "            self.attention_layer = Attention(C, num_heads=num_heads, dropout_prob=dropout_prob, rngs=nnx.Rngs(layer_att))\n",
    "        # self.upscale = upscale\n",
    "\n",
    "    def __call__(self, x, embeddings, train):\n",
    "        x = self.ResBlock1(x, embeddings)\n",
    "        if hasattr(self, 'attention_layer'):\n",
    "            x = self.attention_layer(x, train)\n",
    "        x = self.ResBlock2(x, embeddings)\n",
    "        # if self.upscale:\n",
    "        #     # x_conv = jax.image.resize(x, (x.shape[0], 2 * x.shape[1], 2 * x.shape[2], x.shape[3]),  method='nearest')\n",
    "        #     x_conv = self.conv(x)\n",
    "        #     x_conv = jax.image.resize(x_conv, (x_conv.shape[0], 2 * x_conv.shape[1], 2 * x_conv.shape[2], x_conv.shape[3]),  method='nearest')\n",
    "        # else:\n",
    "        #     x_conv = self.conv(x)\n",
    "        x_conv = self.conv(x)\n",
    "        return x_conv, x"
   ],
   "id": "2bec573c4cac683f",
   "outputs": [],
   "execution_count": 218
  },
  {
   "metadata": {},
   "cell_type": "markdown",
   "source": [
    "Para completar la capa de nuestra U-NET, tenemos que definir la capa con mecanismo de atención. Para más información sobre el mecanismo de funcionamiento de esta capa, es recomendable dirigirse a las diapositivas teóricas del curso.\n",
    "\n",
    "A modo de resumen, la capa de atención se basa en calcular una sería de matrices entrenables a partir de los inputs:\n",
    " - Capa **Q** (Queries): Representa el conjunto de elementos a partir de los cuales calcularemos la atención.\n",
    " - Capa **K** (Keys): Una capa que contiene \"identificadores\" para un determinado valor. Se usa en conjunto con la capa **Q** para determinar cuanta atención hay que prestar a cada valor.\n",
    " - Capa **V** (Values): Esta capa contiene los valores con información (es decir, nuestro input) a los que aplicaremos la atención previamente calculada.\n",
    "\n",
    "Nuestra capa de atención calculará las matrices Q, K y V a partir de los inputs de la capa, aplicando una capa densa (que se puede entender como una proyección de los inputs en base a una matriz entrenable). Previamente a este cálculo, redimensionaremos nuestro input fusionando las dimensiones espaciales de la imagen (generando así una secuencia 1D sobre la que aplicar la atención) y dejando la capa de canales como una capa auxiliar para calcular las features necesarias para derivar las matrices Q, K y V.\n",
    "\n",
    "Una vez calculadas estas matrices, calcularemos la atención de acuerdo a la fórmula:\n",
    "\n",
    "<img src=\"https://miro.medium.com/v2/resize:fit:640/format:webp/1*sXEtwjKCACQ6yfW5T8UolQ.png\" width=500, heigh=500 />\n"
   ],
   "id": "dcff3fcd83a3b2cf"
  },
  {
   "metadata": {
    "ExecuteTime": {
     "end_time": "2025-05-11T17:33:30.176970Z",
     "start_time": "2025-05-11T17:33:30.173314Z"
    }
   },
   "cell_type": "code",
   "source": [
    "class Attention(nnx.Module):\n",
    "    def __init__(self, C: int, num_heads: int, dropout_prob: float, *, rngs: nnx.Rngs):\n",
    "        self.proj1 = nnx.Linear(C, C * 3, rngs=rngs)\n",
    "        self.proj2 = nnx.Linear(C, C, rngs=rngs)\n",
    "        self.num_heads = num_heads\n",
    "        self.dropout_prob = dropout_prob\n",
    "        self.rngs = rngs\n",
    "\n",
    "    def __call__(self, x, train):\n",
    "        # key = self.rngs.noise()\n",
    "\n",
    "        h, w = x.shape[1], x.shape[2]\n",
    "        x = rearrange(x, 'b h w c -> b (h w) c')\n",
    "        x = self.proj1(x)\n",
    "        x = rearrange(x, 'b L (C H K) -> K b H L C', K=3, H=self.num_heads)\n",
    "        q, k, v = x[0], x[1], x[2]\n",
    "        # x = nnx.dot_product_attention(q, k, v, dropout_rate=self.dropout_prob, dropout_rng=key, deterministic=not train)\n",
    "        x = nnx.dot_product_attention(q, k, v)\n",
    "        x = rearrange(x, 'b H (h w) C -> b h w (H C)', h=h, w=w)\n",
    "        x = self.proj2(x)\n",
    "        return x"
   ],
   "id": "e3d81fc911775ff3",
   "outputs": [],
   "execution_count": 219
  },
  {
   "metadata": {},
   "cell_type": "markdown",
   "source": "A partir de las capas previamente definidas, podemos construir nuestra U-Net. Una arquitectura U-NET se basa en una serie de capas simétricas de submuestreado y escalado con conexiones residuales, de tal manera que la salida de la red tenga el mismo tamaño que los datos de entrada. Nuestra clase incluirá un conjunto de listas que nos permitirán definir tanto el número de capas de nuestra U-Net como el encrustamiento de capas de atención solo en determinadas capas.",
   "id": "39c5d5c362f4c88d"
  },
  {
   "metadata": {
    "ExecuteTime": {
     "end_time": "2025-05-11T17:33:30.231482Z",
     "start_time": "2025-05-11T17:33:30.223539Z"
    }
   },
   "cell_type": "code",
   "source": [
    "class UNET(nnx.Module):\n",
    "    def __init__(self,\n",
    "                 Channels: List = [64, 128, 256, 512, 512, 384],\n",
    "                 Attentions: List = [False, True, False, False, False, True],\n",
    "                 Upscales: List = [False, False, False, True, True, True],\n",
    "                 num_groups: int = 32,\n",
    "                 dropout_prob: float = 0.1,\n",
    "                 num_heads: int = 8,\n",
    "                 input_channels: int = 1,\n",
    "                 output_channels: int = 1,\n",
    "                 time_steps: int = 1000,\n",
    "                 *,\n",
    "                 rngs: nnx.Rngs = nnx.Rngs(0)):\n",
    "        self.num_layers = len(Channels)\n",
    "        self.shallow_conv = nnx.Conv(input_channels, Channels[0], kernel_size=(3, 3), strides=(1, 1), padding=\"SAME\", rngs=rngs)\n",
    "        out_channels = (Channels[-1] // 2) + Channels[0]\n",
    "        self.late_conv = nnx.Conv(out_channels, out_channels // 2, kernel_size=(3, 3), strides=(1, 1), padding=\"SAME\", rngs=rngs)\n",
    "        self.output_conv = nnx.Conv(out_channels // 2, output_channels, kernel_size=(1, 1), strides=(1, 1), padding=\"VALID\", rngs=rngs)\n",
    "        self.relu = nnx.relu\n",
    "        self.embeddings = SinusoidalEmbeddings(time_steps=time_steps, embed_dim=max(Channels))\n",
    "        rng = jnr.PRNGKey(random.randint(0, 2**32-1))  # En JAX hay que instanciar una random seed manualmente\n",
    "        for i in range(self.num_layers):\n",
    "            rng, layer_key = jax.random.split(rng, 2)\n",
    "            layer = UnetLayer(\n",
    "                upscale=Upscales[i],\n",
    "                attention=Attentions[i],\n",
    "                num_groups=num_groups,\n",
    "                dropout_prob=dropout_prob,\n",
    "                C=Channels[i],\n",
    "                num_heads=num_heads,\n",
    "                rngs=nnx.Rngs(layer_key)\n",
    "            )\n",
    "            setattr(self, f'Layer{i+1}', layer)\n",
    "\n",
    "    def __call__(self, x, t, train):\n",
    "        x = self.shallow_conv(x)\n",
    "        residuals = []\n",
    "        for i in range(self.num_layers//2):\n",
    "            layer = getattr(self, f'Layer{i+1}')\n",
    "            embeddings = self.embeddings(t)\n",
    "            x, r = layer(x, embeddings, train)\n",
    "            residuals.append(r)\n",
    "        for i in range(self.num_layers//2, self.num_layers):\n",
    "            layer = getattr(self, f'Layer{i+1}')\n",
    "            x = jnp.concat((layer(x, embeddings, train)[0], residuals[self.num_layers-i-1]), axis=-1)\n",
    "        return self.output_conv(self.relu(self.late_conv(x)))"
   ],
   "id": "91acb9a6f4e6a911",
   "outputs": [],
   "execution_count": 220
  },
  {
   "metadata": {},
   "cell_type": "markdown",
   "source": [
    "En este punto, tenemos nuestra red completamente definida y lista para ser entrenada. Sin embargo, aún no tenemos un método para corromper nuestras imágenes con diferentes niveles de ruido dependiendo del momento en el \"tiempo\" en el que se encuentren nuestras imágenes. Recordemos que este \"momento en el tiempo\" hacer referencia al nivel de ruido en las imágenes (siendo t=0 el momento en el que solo hay ruido y t=N el momento en el que nuestra imagen no tiene ruido).\n",
    "\n",
    "Para ello, vamos a definir un ``Scheduler``, el cual nos permitirá recuperar los parámetros necesarios para recuperar el nivel de ruido que corromperá a la imagen en cada momento en el tiempo:"
   ],
   "id": "16a38ae6389d41b4"
  },
  {
   "metadata": {
    "ExecuteTime": {
     "end_time": "2025-05-11T17:33:30.285333Z",
     "start_time": "2025-05-11T17:33:30.282751Z"
    }
   },
   "cell_type": "code",
   "source": [
    "class DDPM_Scheduler(nnx.Module):\n",
    "    def __init__(self, num_time_steps: int=1000):\n",
    "        self.beta = jnp.linspace(1e-4, 0.02, num_time_steps)\n",
    "        alpha = 1 - self.beta\n",
    "        self.alpha = jnp.cumprod(alpha, axis=0)\n",
    "\n",
    "    def __call__(self, t):\n",
    "        return self.beta[t], self.alpha[t]"
   ],
   "id": "78bd69360a834738",
   "outputs": [],
   "execution_count": 221
  },
  {
   "metadata": {},
   "cell_type": "markdown",
   "source": [
    "Una vez definidos todos los componentes necesarios para entrenar la red, podemos proceder con la instanciación del loop de entrenamiento. En ese caso, lo encapsularemos dentro de una función para que sea más sencillo de ejecutar en diferentes scripts.\n",
    "\n",
    "Nuestra función de entrenamiento recibirá como input los principales hiperparámetros a controlar para asegurar que el entrenamiento se ajusta a nuestro requirimientos de hardware. Estos parámetros incluyen:\n",
    "\n",
    "- Número de \"momentos en el tiempo\" (**num_time_steps**): Permite determinar cuantos niveles de ruido habrá entre el primer momento en el tiempo (imagen formada solo por ruido) y el tiempo final (imagen sin ruido)\n",
    "- Número de epochs (**num_epochs**): Permite modificar el número de veces que se recorre el conjunto de entrenamiento\n",
    "- Archivo de punto de guardado (**checkpoint_path**): Permite dar el path a un archivo dónde iremos guardando el estado de la red a medida que el entrenamiento avanza. Esto es muy útil sobre todo cuando el proceso de entrenamiento es largo o queremos analizar el estado de la red en algún punto intermedio del entrenamiento, permitiéndonos recargar el estado de la red en ese punto para hacer inferencia o continuar el entrenamiento desde ese punto."
   ],
   "id": "501bef8125000033"
  },
  {
   "metadata": {
    "ExecuteTime": {
     "end_time": "2025-05-11T17:33:30.338608Z",
     "start_time": "2025-05-11T17:33:30.332896Z"
    }
   },
   "cell_type": "code",
   "source": [
    "@nnx.jit\n",
    "def train_step(model, scheduler, optimizer, x, t, e):\n",
    "    def loss_fn(model, scheduler, x, t, e):\n",
    "        a = scheduler.alpha[t][:, None, None, None]\n",
    "        x = (jnp.sqrt(a) * x) + (jnp.sqrt(1 - a) * e)\n",
    "        output = model(x, t, True)\n",
    "        loss = jnp.mean((output - e) ** 2)\n",
    "        return loss\n",
    "\n",
    "    grad_fn = nnx.value_and_grad(loss_fn)\n",
    "    loss, grads = grad_fn(model, scheduler, x, t, e)\n",
    "    optimizer.update(grads)\n",
    "\n",
    "    return loss\n",
    "\n",
    "def train(batch_size: int=64,\n",
    "          num_time_steps: int=1000,\n",
    "          num_epochs: int=15,\n",
    "          lr=2e-5,\n",
    "          checkpoint_path: epath.PathLike=None):\n",
    "\n",
    "    train_dataset = datasets.FashionMNIST(\"./MNIST_DATA\", train=True, download=True, transform=transforms.ToTensor())\n",
    "    train_loader = DataLoader(train_dataset, batch_size=batch_size, shuffle=True, drop_last=True, num_workers=0, collate_fn=numpy_collate)\n",
    "\n",
    "    scheduler = DDPM_Scheduler(num_time_steps=num_time_steps)\n",
    "\n",
    "    rng = jnr.PRNGKey(random.randint(0, 2**32-1)) # En JAX hay que instanciar una random seed manualmente\n",
    "    rng, model_key, noise_key = jax.random.split(rng, 3)\n",
    "\n",
    "    model = UNET(rngs=nnx.Rngs(model_key, noise=noise_key))\n",
    "    model.train()\n",
    "\n",
    "    optimizer = nnx.Optimizer(model, optax.adam(lr))\n",
    "\n",
    "    for i in range(num_epochs):\n",
    "        total_loss = 0\n",
    "        for bidx, (x, _) in enumerate(tqdm(train_loader, desc=f\"Epoch {i + 1}/{num_epochs}\")):\n",
    "            rng, t_key, noise_key = jnr.split(rng, 3)\n",
    "            x = rearrange(x, 'b c w h -> b w h c')\n",
    "            x = jnp.pad(x, ((0, 0), (2, 2), (2, 2), (0, 0)))\n",
    "            t = jnr.randint(minval=0, maxval=num_time_steps, shape=(batch_size,), key=t_key)\n",
    "            e = jnr.normal(shape=x.shape, key=noise_key)\n",
    "            loss = train_step(model, scheduler, optimizer, x, t, e)\n",
    "            total_loss += loss\n",
    "        print(f'Epoch {i + 1} | Loss {total_loss / (60000 / batch_size):.5f}')\n",
    "\n",
    "    if checkpoint_path is not None:\n",
    "        checkpointer = ocp.StandardCheckpointer()\n",
    "        _, _, state = nnx.split(model, nnx.RngState, ...)\n",
    "        checkpointer.save(checkpoint_path / 'state', state)\n",
    "        checkpointer.wait_until_finished()"
   ],
   "id": "6340e8721cf18b53",
   "outputs": [],
   "execution_count": 222
  },
  {
   "metadata": {},
   "cell_type": "markdown",
   "source": "El siguiente paso consiste en entrenar nuestra red usando la función anterior:",
   "id": "827bc99cc35977fa"
  },
  {
   "metadata": {
    "ExecuteTime": {
     "end_time": "2025-05-11T17:46:34.535910Z",
     "start_time": "2025-05-11T17:33:30.382512Z"
    }
   },
   "cell_type": "code",
   "source": [
    "    checkpoint_path = ocp.test_utils.erase_and_create_empty(os.path.abspath(os.path.join('checkpoints', 'ddpm_checkpoint_jax')))\n",
    "    train(checkpoint_path=checkpoint_path, lr=1e-4, num_epochs=5)"
   ],
   "id": "89b6e1e5c4babd19",
   "outputs": [
    {
     "name": "stderr",
     "output_type": "stream",
     "text": [
      "Epoch 1/5: 100%|██████████| 937/937 [02:42<00:00,  5.78it/s]\n"
     ]
    },
    {
     "name": "stdout",
     "output_type": "stream",
     "text": [
      "Epoch 1 | Loss 0.10307\n"
     ]
    },
    {
     "name": "stderr",
     "output_type": "stream",
     "text": [
      "Epoch 2/5: 100%|██████████| 937/937 [02:32<00:00,  6.13it/s]\n"
     ]
    },
    {
     "name": "stdout",
     "output_type": "stream",
     "text": [
      "Epoch 2 | Loss 0.04576\n"
     ]
    },
    {
     "name": "stderr",
     "output_type": "stream",
     "text": [
      "Epoch 3/5: 100%|██████████| 937/937 [02:34<00:00,  6.07it/s]\n"
     ]
    },
    {
     "name": "stdout",
     "output_type": "stream",
     "text": [
      "Epoch 3 | Loss 0.03576\n"
     ]
    },
    {
     "name": "stderr",
     "output_type": "stream",
     "text": [
      "Epoch 4/5: 100%|██████████| 937/937 [02:34<00:00,  6.05it/s]\n"
     ]
    },
    {
     "name": "stdout",
     "output_type": "stream",
     "text": [
      "Epoch 4 | Loss 0.03141\n"
     ]
    },
    {
     "name": "stderr",
     "output_type": "stream",
     "text": [
      "Epoch 5/5: 100%|██████████| 937/937 [02:35<00:00,  6.04it/s]\n"
     ]
    },
    {
     "name": "stdout",
     "output_type": "stream",
     "text": [
      "Epoch 5 | Loss 0.02783\n"
     ]
    }
   ],
   "execution_count": 223
  },
  {
   "metadata": {},
   "cell_type": "markdown",
   "source": "Una vez hayamos entrenado la red, podemos aprovechar nuestro ``checkpoint`` para recargarla y hacer inferencia de nuestro conjunto de datos para así comprobar si la red es capaz de regenerar nuestras imágenes a partir de puro ruido. Para ello, definiremos en primer lugar una función para representar las imágenes que se generen desde la red.",
   "id": "bef3ab12f8f963c3"
  },
  {
   "metadata": {
    "ExecuteTime": {
     "end_time": "2025-05-11T17:46:34.616842Z",
     "start_time": "2025-05-11T17:46:34.608120Z"
    }
   },
   "cell_type": "code",
   "source": [
    "def display_reverse(images: List, times: List=None, save_gif=True):\n",
    "    if times is not None:\n",
    "        t = 0\n",
    "\n",
    "    if save_gif:\n",
    "        frames = []\n",
    "        fig, ax = plt.subplots()\n",
    "        for i in range(len(images)):\n",
    "            x = images[i].squeeze()\n",
    "            im = ax.imshow(x, animated=True, cmap=\"Grays_r\")\n",
    "            if i == 0:\n",
    "                ax.imshow(x, cmap=\"Grays_r\")\n",
    "            if times is not None:\n",
    "                ax.set_title(\"Time: \" + str(times[t]))\n",
    "                t += 1\n",
    "            ax.axis('off')\n",
    "            fig.tight_layout()\n",
    "            frames.append([im])\n",
    "        ani = animation.ArtistAnimation(fig, frames, interval=200, blit=True,\n",
    "                                        repeat_delay=1000)\n",
    "        writer = animation.PillowWriter(fps=2, bitrate=1800)\n",
    "        ani.save(f\"diffusion_model_example.gif\", writer=writer)\n",
    "    else:\n",
    "        fig, axes = plt.subplots(1, len(images), figsize=(len(images), 1))\n",
    "        for i, ax in enumerate(axes.flat):\n",
    "            x = images[i].squeeze()\n",
    "            ax.imshow(x, cmap=\"Grays\")\n",
    "            if times is not None:\n",
    "                ax.set_title(\"Time: \" + str(times[t]))\n",
    "                t += 1\n",
    "            ax.axis('off')\n",
    "        fig.tight_layout()\n",
    "        plt.show()"
   ],
   "id": "58abc8e7a4f85884",
   "outputs": [],
   "execution_count": 224
  },
  {
   "metadata": {},
   "cell_type": "markdown",
   "source": [
    "A continuación definiremos una nueva función que nos permitirá hacer inferencia con la red. Esta función aprovechará el archivo ``checkpoint.pth`` para recargar el estado de la red y así poder utilizarla para predecir imágenes a partir de puro ruido.\n",
    "\n",
    "Para ello, aprovecharemos nuestro ``DDPM_Scheduler`` para generar los parámetros que necesitaremos para generar los diferentes niveles de ruido. De manera intuitiva, el proceso de inferencia es exactamente igual al de entrenamiento pero en sentido opuesto: empezaremos con imágenes de ruido y progresivamente la red irá disminuyendo el ruido hasta conseguir una imagen única que se parezca a las imágenes de entrenamiento. Cada vez que generemos una nueva imagen de ruido, obtendremos una imagen única diferente."
   ],
   "id": "677c1cbf74c7d3fa"
  },
  {
   "metadata": {
    "ExecuteTime": {
     "end_time": "2025-05-11T17:46:34.719770Z",
     "start_time": "2025-05-11T17:46:34.706316Z"
    }
   },
   "cell_type": "code",
   "source": [
    "@nnx.jit\n",
    "def eval_model(model, x, t):\n",
    "    return model(x, t, False)\n",
    "\n",
    "def inference(checkpoint_path: epath.PathLike=None,\n",
    "              num_time_steps: int=1000):\n",
    "    rng = jnr.PRNGKey(random.randint(0, 2**32-1))  # En JAX hay que instanciar una random seed manualmente\n",
    "    rng, model_key, noise_key = jax.random.split(rng, 3)\n",
    "\n",
    "    checkpointer = ocp.StandardCheckpointer()\n",
    "    model = UNET(rngs=nnx.Rngs(model_key, noise=noise_key))\n",
    "    abstract_model = nnx.eval_shape(lambda: model)\n",
    "    _, _, abstract_state = nnx.split(abstract_model, nnx.RngState, ...)\n",
    "    state_restored = checkpointer.restore(checkpoint_path / 'state', abstract_state)\n",
    "    nnx.update(model, state_restored)\n",
    "    model.eval()\n",
    "\n",
    "    scheduler = DDPM_Scheduler(num_time_steps=num_time_steps)\n",
    "    times = [0,15,50,100,200,300,400,550,700,999]\n",
    "    images = []\n",
    "\n",
    "    for i in range(1):\n",
    "        rng, img_rng = jnr.split(rng, 2)\n",
    "        z = jnr.normal(key=img_rng, shape=(1, 32, 32, 1))\n",
    "        for t in reversed(range(1, num_time_steps)):\n",
    "            img_rng, noise_key = jnr.split(img_rng, 2)\n",
    "            t = jnp.array([t])\n",
    "            temp = (scheduler.beta[t] / ( (jnp.sqrt( 1 - scheduler.alpha[t])) * (jnp.sqrt(1 - scheduler.beta[t]))))\n",
    "            z = (1 / (jnp.sqrt(1 - scheduler.beta[t]))) * z - (temp * eval_model(model, z, t))\n",
    "            if t[0] in times:\n",
    "                images.append(np.array(z))\n",
    "            e = jnr.normal(key=noise_key, shape=(1, 32, 32, 1))\n",
    "            z = z + (e * jnp.sqrt(scheduler.beta[t]))\n",
    "        temp = scheduler.beta[0] / ((jnp.sqrt(1 - scheduler.alpha[0])) * (jnp.sqrt(1 - scheduler.beta[0])))\n",
    "        x = (1 / (jnp.sqrt(1 - scheduler.beta[0]))) * z - (temp * eval_model(model, z, jnp.array([0])))\n",
    "\n",
    "        images.append(np.array(x))\n",
    "        display_reverse(images, times=list(reversed(times)))\n",
    "        images = []"
   ],
   "id": "f4d5f7cd21fcb20e",
   "outputs": [],
   "execution_count": 225
  },
  {
   "metadata": {},
   "cell_type": "markdown",
   "source": "A continuación, probaremos la capacidad de inferencia de la red:",
   "id": "6aa39e3bd2ac8dd1"
  },
  {
   "metadata": {
    "ExecuteTime": {
     "end_time": "2025-05-11T17:47:18.328993Z",
     "start_time": "2025-05-11T17:46:34.761735Z"
    }
   },
   "cell_type": "code",
   "source": "inference(checkpoint_path)",
   "id": "3019333251290ffc",
   "outputs": [
    {
     "name": "stderr",
     "output_type": "stream",
     "text": [
      "/home/dherreros/miniforge3/envs/pytorch/lib/python3.12/site-packages/orbax/checkpoint/_src/serialization/type_handlers.py:1251: UserWarning: Sharding info not provided when restoring. Populating sharding info from sharding file. Please note restoration time will be slightly increased due to reading from file. Note also that this option is unsafe when restoring on a different topology than the checkpoint was saved with.\n",
      "  warnings.warn(\n"
     ]
    },
    {
     "data": {
      "text/plain": [
       "<Figure size 640x480 with 1 Axes>"
      ],
      "image/png": "[encoded data removed]"
     },
     "metadata": {},
     "output_type": "display_data"
    }
   ],
   "execution_count": 226
  },
  {
   "metadata": {},
   "cell_type": "markdown",
   "source": "<img src=\"diffusion_model_example.gif\" width=500, heigh=500 />",
   "id": "54fee1589c919b44"
  }
 ],
 "metadata": {
  "kernelspec": {
   "display_name": "Python 3",
   "language": "python",
   "name": "python3"
  },
  "language_info": {
   "codemirror_mode": {
    "name": "ipython",
    "version": 2
   },
   "file_extension": ".py",
   "mimetype": "text/x-python",
   "name": "python",
   "nbconvert_exporter": "python",
   "pygments_lexer": "ipython2",
   "version": "2.7.6"
  }
 },
 "nbformat": 4,
 "nbformat_minor": 5
}
