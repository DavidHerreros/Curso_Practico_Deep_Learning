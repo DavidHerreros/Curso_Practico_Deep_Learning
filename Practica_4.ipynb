{
 "cells": [
  {
   "metadata": {},
   "cell_type": "markdown",
   "source": [
    "# PRÁCTICA 1: MODELOS DE DIFUSION Y MECANISMOS DE ATENCIÓN\n",
    "\n",
    "En esta práctica veremos como podemos definir una de las arquitecturas más novedosas en el campo de las redes neuronales: los **__modelos de difusión__**.\n",
    "\n",
    "En esencia, un modelo de difusión aprende a generar datos similares a una entrada a partir de imágenes con puro ruido. Este tipo de modelos se han vuelto muy populares en la generación de imágenes como DALL-E de OpenAI.\n",
    "\n",
    "Los principales conceptos que cubriremos con esta práctica son los siguientes:\n",
    " - Definir modelos de difusión\n",
    " - Arquitectura U-NET\n",
    " - Mecanismos de atención basados en __visual transformers__\n",
    "\n",
    "Antes de comenzar con el modelo, vamos a importar las librerías que necesitaremos:"
   ],
   "id": "9aada98f0eac7ce1"
  },
  {
   "metadata": {
    "ExecuteTime": {
     "end_time": "2025-05-05T09:07:06.166743Z",
     "start_time": "2025-05-05T09:07:05.011137Z"
    }
   },
   "cell_type": "code",
   "source": "!jupyter nbextension enable --py widgetsnbextension",
   "id": "ecb6b75ed4bc07a8",
   "outputs": [
    {
     "name": "stderr",
     "output_type": "stream",
     "text": [
      "Enabling notebook extension jupyter-js-widgets/extension...\n",
      "      - Validating: ok\n"
     ]
    }
   ],
   "execution_count": 64
  },
  {
   "metadata": {
    "ExecuteTime": {
     "end_time": "2025-05-05T09:07:06.175857Z",
     "start_time": "2025-05-05T09:07:06.172423Z"
    }
   },
   "cell_type": "code",
   "source": [
    "import os\n",
    "from typing import List\n",
    "import random\n",
    "import math\n",
    "import shutil\n",
    "\n",
    "# Librerías de PyTorch\n",
    "import torch\n",
    "import torch.nn as nn\n",
    "import torch.nn.functional as F\n",
    "import torch.optim as optim\n",
    "\n",
    "# Una librería muy util para ajustar los tamaños de nuestros tensores\n",
    "from einops import rearrange\n",
    "\n",
    "# Torch vision para descargar y preprocesar el conjunto de datos que usaremos para entrenar la red\n",
    "from torchvision import datasets, transforms\n",
    "from torch.utils.data import DataLoader\n",
    "\n",
    "# Herramientas adicionales para la visualización de los datos y resultados\n",
    "from tqdm import tqdm\n",
    "import matplotlib.pyplot as plt\n",
    "import matplotlib.animation as animation\n",
    "import numpy as np"
   ],
   "id": "c37b5457ba1e6f83",
   "outputs": [],
   "execution_count": 65
  },
  {
   "metadata": {},
   "cell_type": "markdown",
   "source": "Durante esta práctica usaremos de nuevo el conjunto de datos `FashionMNIST` para entrenar la red. Comenzaremos por descargar y generar el `DataLoader` para poder enviar datos a la red de manera eficiente:",
   "id": "3269d3b461b27640"
  },
  {
   "metadata": {
    "ExecuteTime": {
     "end_time": "2025-05-05T09:07:06.225797Z",
     "start_time": "2025-05-05T09:07:06.191864Z"
    }
   },
   "cell_type": "code",
   "source": [
    "train_dataset = datasets.FashionMNIST(\"./MNIST_DATA\", train=True, download=True,transform=transforms.ToTensor())\n",
    "train_loader = DataLoader(train_dataset, batch_size=64, shuffle=True, drop_last=True, num_workers=4)"
   ],
   "id": "dfa1df19591a912b",
   "outputs": [],
   "execution_count": 66
  },
  {
   "metadata": {},
   "cell_type": "raw",
   "source": "También podemos aprovechar para visualizar los datos como hemos hecho en prácticas anteriores:",
   "id": "7888f7a908e51213"
  },
  {
   "metadata": {
    "ExecuteTime": {
     "end_time": "2025-05-05T09:07:16.488885Z",
     "start_time": "2025-05-05T09:07:06.229818Z"
    }
   },
   "cell_type": "code",
   "source": [
    "print(\"Inspección de los datos de entrenamiento: \")\n",
    "for _, data in enumerate(train_loader):\n",
    "    print(\"Tamaño del lote: \", data[0].shape)\n",
    "    fig, ax = plt.subplots(1, 4, figsize=(10, 4))\n",
    "\n",
    "    for i in range(4):\n",
    "        ax[i].imshow(data[0][i].squeeze(), cmap=\"gray\")\n",
    "        ax[i].axis(\"off\")\n",
    "    plt.show()\n",
    "    # Hacemos break para no recorrer todo el loader\n",
    "    break"
   ],
   "id": "343dd408272819c9",
   "outputs": [
    {
     "name": "stdout",
     "output_type": "stream",
     "text": [
      "Inspección de los datos de entrenamiento: \n",
      "Tamaño del lote:  torch.Size([64, 1, 28, 28])\n"
     ]
    },
    {
     "data": {
      "text/plain": [
       "<Figure size 1000x400 with 4 Axes>"
      ],
      "image/png": "[encoded data removed]"
     },
     "metadata": {},
     "output_type": "display_data"
    }
   ],
   "execution_count": 67
  },
  {
   "metadata": {},
   "cell_type": "markdown",
   "source": [
    "Antes de definir nuestra red, vamos a generar un embedding sinusoidal. Este tipo de embeddings permiten transmitir el concepto de \"secuencia\" a nuestros datos:\n",
    "\n",
    "<img src=\"https://miro.medium.com/v2/resize:fit:720/format:webp/0*DEZ4oDAZm0RCOPDb.png\" width=500, heigh=500 />\n",
    "\n",
    "En nuestro caso, los usaremos para definir diferentes momentos en el tiempo: cuando nuestro tiempo sea igual a 0, tendremos imágenes compuestas completamente por ruido. A medida que el tiempo avance, nuestras imágenes iran perdiendo ruido y ganando señal hasta llegar a una imagen limpia del objeto de interés. Por lo tanto, este concepto de tiempo no deja de ser una secuencia de pasos, teniendo cada uno una cantidad de ruido menor.\n"
   ],
   "id": "85c61b2a4d130b3"
  },
  {
   "metadata": {
    "ExecuteTime": {
     "end_time": "2025-05-05T09:07:16.500536Z",
     "start_time": "2025-05-05T09:07:16.495937Z"
    }
   },
   "cell_type": "code",
   "source": [
    "class SinusoidalEmbeddings(nn.Module):\n",
    "    def __init__(self, time_steps:int, embed_dim: int):\n",
    "        super().__init__()\n",
    "        position = torch.arange(time_steps).unsqueeze(1).float()\n",
    "        div = torch.exp(torch.arange(0, embed_dim, 2).float() * -(math.log(10000.0) / embed_dim))\n",
    "        embeddings = torch.zeros(time_steps, embed_dim, requires_grad=False)\n",
    "        embeddings[:, 0::2] = torch.sin(position * div)\n",
    "        embeddings[:, 1::2] = torch.cos(position * div)\n",
    "        self.embeddings = embeddings\n",
    "\n",
    "    def forward(self, x, t):\n",
    "        embeds = self.embeddings[t].to(x.device)\n",
    "        return embeds[:, :, None, None]"
   ],
   "id": "129ba2c2f5030591",
   "outputs": [],
   "execution_count": 68
  },
  {
   "metadata": {},
   "cell_type": "markdown",
   "source": "Una vez definidos nuestro embedding con sentido de secuencia, podemos comenzar a instanciar nuestra U-NET. En primer lugar, comenzaremos por definir el bloque esencial que compone este tipo de redes: un conjunto de capas convolucionales con conexiones residuales:",
   "id": "3aa56c38b106acaf"
  },
  {
   "metadata": {
    "ExecuteTime": {
     "end_time": "2025-05-05T09:07:16.512633Z",
     "start_time": "2025-05-05T09:07:16.508472Z"
    }
   },
   "cell_type": "code",
   "source": [
    "class ResBlock(nn.Module):\n",
    "    def __init__(self, C: int, num_groups: int, dropout_prob: float):\n",
    "        super().__init__()\n",
    "        self.relu = nn.ReLU(inplace=True)\n",
    "        self.gnorm1 = nn.GroupNorm(num_groups=num_groups, num_channels=C)  # Esta capa normaliza los canales dividiendolas previamente en pequeños grupos\n",
    "        self.gnorm2 = nn.GroupNorm(num_groups=num_groups, num_channels=C)  # Esta capa normaliza los canales dividiendolas previamente en pequeños grupos\n",
    "        self.conv1 = nn.Conv2d(C, C, kernel_size=3, padding=1)\n",
    "        self.conv2 = nn.Conv2d(C, C, kernel_size=3, padding=1)\n",
    "        self.dropout = nn.Dropout(p=dropout_prob, inplace=True)\n",
    "\n",
    "    def forward(self, x, embeddings):\n",
    "        x = x + embeddings[:, :x.shape[1], :, :]  # Embeddings vendrá definido por SinusoidalEmbeddings en un \"momento\" determinado de la secuencia de tiempo\n",
    "        r = self.conv1(self.relu(self.gnorm1(x)))\n",
    "        r = self.dropout(r)\n",
    "        r = self.conv2(self.relu(self.gnorm2(r)))\n",
    "        return r + x"
   ],
   "id": "97a85d872c3c880f",
   "outputs": [],
   "execution_count": 69
  },
  {
   "metadata": {},
   "cell_type": "markdown",
   "source": "<img src=\"https://api.wandb.ai/files/wandb_fc/images/projects/605819/472b8f50.png\" width=500, heigh=500 />\n",
   "id": "1e903b92944bd7c9"
  },
  {
   "metadata": {},
   "cell_type": "markdown",
   "source": "Una vez definido el bloque esencial de nuezstra U-NET, podemos pasar a definir cada capa de nuestra red neuronal. Estas capas estarán compuestas por dos bloques residuales (previamente definidos), una capa de atención basada en transformadores visuales, y una capa de convolución/convolución transpuesta (esto dependerá de si esta capa se encuentra en la primera o en la segunda mitad de nuestra U-NET tal y como veremos más adelante):",
   "id": "1f27dff98d89e4d4"
  },
  {
   "metadata": {
    "ExecuteTime": {
     "end_time": "2025-05-05T09:07:16.534664Z",
     "start_time": "2025-05-05T09:07:16.529888Z"
    }
   },
   "cell_type": "code",
   "source": [
    "class UnetLayer(nn.Module):\n",
    "    def __init__(self,\n",
    "            upscale: bool,\n",
    "            attention: bool,\n",
    "            num_groups: int,\n",
    "            dropout_prob: float,\n",
    "            num_heads: int,\n",
    "            C: int):\n",
    "        super().__init__()\n",
    "        self.ResBlock1 = ResBlock(C=C, num_groups=num_groups, dropout_prob=dropout_prob)\n",
    "        self.ResBlock2 = ResBlock(C=C, num_groups=num_groups, dropout_prob=dropout_prob)\n",
    "        if upscale:\n",
    "            self.conv = nn.ConvTranspose2d(C, C // 2, kernel_size=4, stride=2, padding=1)\n",
    "        else:\n",
    "            self.conv = nn.Conv2d(C, C * 2, kernel_size=3, stride=2, padding=1)\n",
    "        if attention:\n",
    "            self.attention_layer = Attention(C, num_heads=num_heads, dropout_prob=dropout_prob)\n",
    "\n",
    "    def forward(self, x, embeddings):\n",
    "        x = self.ResBlock1(x, embeddings)\n",
    "        if hasattr(self, 'attention_layer'):\n",
    "            x = self.attention_layer(x)\n",
    "        x = self.ResBlock2(x, embeddings)\n",
    "        return self.conv(x), x"
   ],
   "id": "2bec573c4cac683f",
   "outputs": [],
   "execution_count": 70
  },
  {
   "metadata": {},
   "cell_type": "markdown",
   "source": [
    "Para completar la capa de nuestra U-NET, tenemos que definir la capa con mecanismo de atención. Para más información sobre el mecanismo de funcionamiento de esta capa, es recomendable dirigirse a las diapositivas teóricas del curso.\n",
    "\n",
    "A modo de resumen, la capa de atención se basa en calcular una sería de matrices entrenables a partir de los inputs:\n",
    " - Capa **Q** (Queries): Representa el conjunto de elementos a partir de los cuales calcularemos la atención.\n",
    " - Capa **K** (Keys): Una capa que contiene \"identificadores\" para un determinado valor. Se usa en conjunto con la capa **Q** para determinar cuanta atención hay que prestar a cada valor.\n",
    " - Capa **V** (Values): Esta capa contiene los valores con información (es decir, nuestro input) a los que aplicaremos la atención previamente calculada.\n",
    "\n",
    "Nuestra capa de atención calculará las matrices Q, K y V a partir de los inputs de la capa, aplicando una capa densa (que se puede entender como una proyección de los inputs en base a una matriz entrenable). Previamente a este cálculo, redimensionaremos nuestro input fusionando las dimensiones espaciales de la imagen (generando así una secuencia 1D sobre la que aplicar la atención) y dejando la capa de canales como una capa auxiliar para calcular las features necesarias para derivar las matrices Q, K y V.\n",
    "\n",
    "Una vez calculadas estas matrices, calcularemos la atención de acuerdo a la fórmula:\n",
    "\n",
    "<img src=\"https://miro.medium.com/v2/resize:fit:640/format:webp/1*sXEtwjKCACQ6yfW5T8UolQ.png\" width=500, heigh=500 />\n"
   ],
   "id": "dcff3fcd83a3b2cf"
  },
  {
   "metadata": {
    "ExecuteTime": {
     "end_time": "2025-05-05T09:07:16.542739Z",
     "start_time": "2025-05-05T09:07:16.538680Z"
    }
   },
   "cell_type": "code",
   "source": [
    "class Attention(nn.Module):\n",
    "    def __init__(self, C: int, num_heads: int, dropout_prob: float):\n",
    "        super().__init__()\n",
    "        self.proj1 = nn.Linear(C, C * 3)\n",
    "        self.proj2 = nn.Linear(C, C)\n",
    "        self.num_heads = num_heads\n",
    "        self.dropout_prob = dropout_prob\n",
    "\n",
    "    def forward(self, x):\n",
    "        h, w = x.shape[2:]\n",
    "        x = rearrange(x, 'b c h w -> b (h w) c')\n",
    "        x = self.proj1(x)\n",
    "        x = rearrange(x, 'b L (C H K) -> K b H L C', K=3, H=self.num_heads)\n",
    "        q, k, v = x[0], x[1], x[2]\n",
    "        x = F.scaled_dot_product_attention(q, k, v, is_causal=False, dropout_p=self.dropout_prob)\n",
    "        x = rearrange(x, 'b H (h w) C -> b h w (C H)', h=h, w=w)\n",
    "        x = self.proj2(x)\n",
    "        return rearrange(x, 'b h w C -> b C h w')"
   ],
   "id": "e3d81fc911775ff3",
   "outputs": [],
   "execution_count": 71
  },
  {
   "metadata": {},
   "cell_type": "markdown",
   "source": "A partir de las capas previamente definidas, podemos construir nuestra U-Net. Una arquitectura U-NET se basa en una serie de capas simétricas de submuestreado y escalado con conexiones residuales, de tal manera que la salida de la red tenga el mismo tamaño que los datos de entrada. Nuestra clase incluirá un conjunto de listas que nos permitirán definir tanto el número de capas de nuestra U-Net como el encrustamiento de capas de atención solo en determinadas capas.",
   "id": "39c5d5c362f4c88d"
  },
  {
   "metadata": {
    "ExecuteTime": {
     "end_time": "2025-05-05T09:07:16.558013Z",
     "start_time": "2025-05-05T09:07:16.551014Z"
    }
   },
   "cell_type": "code",
   "source": [
    "class UNET(nn.Module):\n",
    "    def __init__(self,\n",
    "            Channels: List = [64, 128, 256, 512, 512, 384],\n",
    "            Attentions: List = [False, True, False, False, False, True],\n",
    "            Upscales: List = [False, False, False, True, True, True],\n",
    "            num_groups: int = 32,\n",
    "            dropout_prob: float = 0.1,\n",
    "            num_heads: int = 8,\n",
    "            input_channels: int = 1,\n",
    "            output_channels: int = 1,\n",
    "            time_steps: int = 1000):\n",
    "        super().__init__()\n",
    "        self.num_layers = len(Channels)\n",
    "        self.shallow_conv = nn.Conv2d(input_channels, Channels[0], kernel_size=3, padding=1)\n",
    "        out_channels = (Channels[-1] // 2)+Channels[0]\n",
    "        self.late_conv = nn.Conv2d(out_channels, out_channels // 2, kernel_size=3, padding=1)\n",
    "        self.output_conv = nn.Conv2d(out_channels // 2, output_channels, kernel_size=1)\n",
    "        self.relu = nn.ReLU(inplace=True)\n",
    "        self.embeddings = SinusoidalEmbeddings(time_steps=time_steps, embed_dim=max(Channels))\n",
    "        for i in range(self.num_layers):\n",
    "            layer = UnetLayer(\n",
    "                upscale=Upscales[i],\n",
    "                attention=Attentions[i],\n",
    "                num_groups=num_groups,\n",
    "                dropout_prob=dropout_prob,\n",
    "                C=Channels[i],\n",
    "                num_heads=num_heads\n",
    "            )\n",
    "            setattr(self, f'Layer{i+1}', layer)\n",
    "\n",
    "    def forward(self, x, t):\n",
    "        x = self.shallow_conv(x)\n",
    "        residuals = []\n",
    "        for i in range(self.num_layers//2):\n",
    "            layer = getattr(self, f'Layer{i+1}')\n",
    "            embeddings = self.embeddings(x, t)\n",
    "            x, r = layer(x, embeddings)\n",
    "            residuals.append(r)\n",
    "        for i in range(self.num_layers//2, self.num_layers):\n",
    "            layer = getattr(self, f'Layer{i+1}')\n",
    "            x = torch.concat((layer(x, embeddings)[0], residuals[self.num_layers-i-1]), dim=1)\n",
    "        return self.output_conv(self.relu(self.late_conv(x)))"
   ],
   "id": "91acb9a6f4e6a911",
   "outputs": [],
   "execution_count": 72
  },
  {
   "metadata": {},
   "cell_type": "markdown",
   "source": [
    "En este punto, tenemos nuestra red completamente definida y lista para ser entrenada. Sin embargo, aún no tenemos un método para corromper nuestras imágenes con diferentes niveles de ruido dependiendo del momento en el \"tiempo\" en el que se encuentren nuestras imágenes. Recordemos que este \"momento en el tiempo\" hacer referencia al nivel de ruido en las imágenes (siendo t=0 el momento en el que solo hay ruido y t=N el momento en el que nuestra imagen no tiene ruido).\n",
    "\n",
    "Para ello, vamos a definir un ``Scheduler``, el cual nos permitirá recuperar los parámetros necesarios para recuperar el nivel de ruido que corromperá a la imagen en cada momento en el tiempo:"
   ],
   "id": "16a38ae6389d41b4"
  },
  {
   "metadata": {
    "ExecuteTime": {
     "end_time": "2025-05-05T09:07:16.572548Z",
     "start_time": "2025-05-05T09:07:16.568547Z"
    }
   },
   "cell_type": "code",
   "source": [
    "class DDPM_Scheduler(nn.Module):\n",
    "    def __init__(self, num_time_steps: int=1000):\n",
    "        super().__init__()\n",
    "        self.beta = torch.linspace(1e-4, 0.02, num_time_steps, requires_grad=False)\n",
    "        alpha = 1 - self.beta\n",
    "        self.alpha = torch.cumprod(alpha, dim=0).requires_grad_(False)\n",
    "\n",
    "    def forward(self, t):\n",
    "        return self.beta[t], self.alpha[t]\n",
    "\n",
    "def set_seed(seed: int = 42):\n",
    "    torch.manual_seed(seed)\n",
    "    torch.cuda.manual_seed_all(seed)\n",
    "    torch.backends.cudnn.deterministic = True\n",
    "    torch.backends.cudnn.benchmark = False\n",
    "    np.random.seed(seed)\n",
    "    random.seed(seed)"
   ],
   "id": "78bd69360a834738",
   "outputs": [],
   "execution_count": 73
  },
  {
   "metadata": {},
   "cell_type": "markdown",
   "source": [
    "Como se puede observar en la celda anterior, además de nuestro scheduler (``DDPM_Scheduler``) también se incluye la función ``set_seed``. Por norma general, esta función solo la usaremos en el caso de querer reproducir de manera exacta los resultados de un entrenamiento determinado.\n",
    "\n",
    "Es importante recordar en este momento que el proceso de entrenamiento de una red es estocástico, lo que da lugar a resultados con cierta variabilidad en cada entrenamiento. Esto se debe a la presencia de ciertos números aleatorios que son diferentes en cada ejecución. El método ``set_seed`` fuerza a que estos números aleatorios sean los mismos en cada ejecución, permitiendo así reproducir los resultados mientras comprobamos que la red funciona correctamente. Una vez hagamos estas comprobaciones, es importante dejar de usar el método para poder tener variabilidad en nuestros entrenamientos."
   ],
   "id": "2002b486a5133b5c"
  },
  {
   "metadata": {},
   "cell_type": "markdown",
   "source": [
    "Una vez definidos todos los componentes necesarios para entrenar la red, podemos proceder con la instanciación del loop de entrenamiento. En ese caso, lo encapsularemos dentro de una función para que sea más sencillo de ejecutar en diferentes scripts.\n",
    "\n",
    "Nuestra función de entrenamiento recibirá como input los principales hiperparámetros a controlar para asegurar que el entrenamiento se ajusta a nuestro requirimientos de hardware. Estos parámetros incluyen:\n",
    "\n",
    " - Número de \"momentos en el tiempo\" (**num_time_steps**): Permite determinar cuantos niveles de ruido habrá entre el primer momento en el tiempo (imagen formada solo por ruido) y el tiempo final (imagen sin ruido)\n",
    " - Número de epochs (**num_epochs**): Permite modificar el número de veces que se recorre el conjunto de entrenamiento\n",
    " - **seed**: Este parámetro se usa para controlar la función ``set_seed``, permitiendo así determinar si nuestro entranamiento es estocástico o lo fijamos para que de siempre el mismo resultado. El valor por defecto indica que el proceso será estocástico.\n",
    " - Archivo de punto de guardado (**checkpoint_path**): Permite dar el path a un archivo dónde iremos guardando el estado de la red a medida que el entrenamiento avanza. Esto es muy útil sobre todo cuando el proceso de entrenamiento es largo o queremos analizar el estado de la red en algún punto intermedio del entrenamiento, permitiéndonos recargar el estado de la red en ese punto para hacer inferencia o continuar el entrenamiento desde ese punto."
   ],
   "id": "501bef8125000033"
  },
  {
   "metadata": {
    "ExecuteTime": {
     "end_time": "2025-05-05T09:07:16.590960Z",
     "start_time": "2025-05-05T09:07:16.584724Z"
    }
   },
   "cell_type": "code",
   "source": [
    "def train(batch_size: int=64,\n",
    "          num_time_steps: int=1000,\n",
    "          num_epochs: int=15,\n",
    "          seed: int=-1,\n",
    "          lr=2e-5,\n",
    "          checkpoint_path: str=None):\n",
    "    set_seed(random.randint(0, 2**32-1)) if seed == -1 else set_seed(seed)\n",
    "\n",
    "    train_dataset = datasets.FashionMNIST(\"./MNIST_DATA\", train=True, download=True,transform=transforms.ToTensor())\n",
    "    train_loader = DataLoader(train_dataset, batch_size=batch_size, shuffle=True, drop_last=True, num_workers=4)\n",
    "\n",
    "    scheduler = DDPM_Scheduler(num_time_steps=num_time_steps)\n",
    "    model = UNET().cuda()\n",
    "    optimizer = optim.Adam(model.parameters(), lr=lr)\n",
    "    if checkpoint_path is not None and os.path.isdir(checkpoint_path):\n",
    "        checkpoint = torch.load(checkpoint_path)\n",
    "        model.load_state_dict(checkpoint['weights'])\n",
    "        optimizer.load_state_dict(checkpoint['optimizer'])\n",
    "    elif checkpoint_path is not None and not os.path.isdir(checkpoint_path):\n",
    "        os.makedirs(checkpoint_path)\n",
    "    criterion = nn.MSELoss(reduction='mean')\n",
    "\n",
    "    for i in range(num_epochs):\n",
    "        total_loss = 0\n",
    "        for bidx, (x,_) in enumerate(tqdm(train_loader, desc=f\"Epoch {i + 1}/{num_epochs}\")):\n",
    "            x = x.cuda()\n",
    "            x = F.pad(x, (2, 2, 2, 2))\n",
    "            t = torch.randint(0, num_time_steps, (batch_size,))\n",
    "            e = torch.randn_like(x, requires_grad=False)\n",
    "            a = scheduler.alpha[t].view(batch_size, 1, 1, 1).cuda()\n",
    "            x = (torch.sqrt(a) * x) + (torch.sqrt(1 - a) * e)\n",
    "            output = model(x, t)\n",
    "            optimizer.zero_grad()\n",
    "            loss = criterion(output, e)\n",
    "            total_loss += loss.item()\n",
    "            loss.backward()\n",
    "            optimizer.step()\n",
    "        print(f'Epoch {i + 1} | Loss {total_loss / (60000 / batch_size):.5f}')\n",
    "\n",
    "    checkpoint = {\n",
    "        'weights': model.state_dict(),\n",
    "        'optimizer': optimizer.state_dict(),\n",
    "    }\n",
    "    if checkpoint_path is not None:\n",
    "        torch.save(checkpoint, os.path.join(checkpoint_path, \"checkpoint.pth\"))"
   ],
   "id": "6340e8721cf18b53",
   "outputs": [],
   "execution_count": 74
  },
  {
   "metadata": {},
   "cell_type": "markdown",
   "source": "El siguiente paso consiste en entrenar nuestra red usando la función anterior:",
   "id": "827bc99cc35977fa"
  },
  {
   "metadata": {
    "ExecuteTime": {
     "end_time": "2025-05-05T09:23:49.337082Z",
     "start_time": "2025-05-05T09:07:16.604815Z"
    }
   },
   "cell_type": "code",
   "source": [
    "    if os.path.isdir(os.path.join('checkpoints')):\n",
    "        shutil.rmtree(os.path.join('checkpoints'))\n",
    "    train(checkpoint_path=os.path.join('checkpoints', 'ddpm_checkpoint'), lr=1e-4, num_epochs=5)"
   ],
   "id": "89b6e1e5c4babd19",
   "outputs": [
    {
     "name": "stderr",
     "output_type": "stream",
     "text": [
      "Epoch 1/5: 100%|██████████| 937/937 [03:12<00:00,  4.88it/s]\n"
     ]
    },
    {
     "name": "stdout",
     "output_type": "stream",
     "text": [
      "Epoch 1 | Loss 0.06651\n"
     ]
    },
    {
     "name": "stderr",
     "output_type": "stream",
     "text": [
      "Epoch 2/5: 100%|██████████| 937/937 [03:23<00:00,  4.61it/s]\n"
     ]
    },
    {
     "name": "stdout",
     "output_type": "stream",
     "text": [
      "Epoch 2 | Loss 0.03234\n"
     ]
    },
    {
     "name": "stderr",
     "output_type": "stream",
     "text": [
      "Epoch 3/5: 100%|██████████| 937/937 [03:09<00:00,  4.94it/s]\n"
     ]
    },
    {
     "name": "stdout",
     "output_type": "stream",
     "text": [
      "Epoch 3 | Loss 0.02733\n"
     ]
    },
    {
     "name": "stderr",
     "output_type": "stream",
     "text": [
      "Epoch 4/5: 100%|██████████| 937/937 [03:14<00:00,  4.82it/s]\n"
     ]
    },
    {
     "name": "stdout",
     "output_type": "stream",
     "text": [
      "Epoch 4 | Loss 0.02570\n"
     ]
    },
    {
     "name": "stderr",
     "output_type": "stream",
     "text": [
      "Epoch 5/5: 100%|██████████| 937/937 [03:32<00:00,  4.41it/s]\n"
     ]
    },
    {
     "name": "stdout",
     "output_type": "stream",
     "text": [
      "Epoch 5 | Loss 0.02421\n"
     ]
    }
   ],
   "execution_count": 75
  },
  {
   "metadata": {},
   "cell_type": "markdown",
   "source": "Una vez hayamos entrenado la red, podemos aprovechar nuestro archivo ``checkpoint.pth`` para recargarla y hacer inferencia de nuestro conjunto de datos para así comprobar si la red es capaz de regenerar nuestras imágenes a partir de puro ruido. Para ello, definiremos en primer lugar una función para representar las imágenes que se generen desde la red:",
   "id": "bef3ab12f8f963c3"
  },
  {
   "metadata": {
    "ExecuteTime": {
     "end_time": "2025-05-05T09:33:15.463421Z",
     "start_time": "2025-05-05T09:33:15.457696Z"
    }
   },
   "cell_type": "code",
   "source": [
    "def display_reverse(images: List, times: List=None, save_gif=True):\n",
    "    if times is not None:\n",
    "        t = 0\n",
    "\n",
    "    if save_gif:\n",
    "        frames = []\n",
    "        fig, ax = plt.subplots()\n",
    "        for i in range(len(images)):\n",
    "            x = images[i].squeeze(0)\n",
    "            x = rearrange(x, 'c h w -> h w c')\n",
    "            x = x.numpy()\n",
    "            im = ax.imshow(x, animated=True, cmap=\"Grays_r\")\n",
    "            if i == 0:\n",
    "                ax.imshow(x, cmap=\"Grays_r\")\n",
    "            if times is not None:\n",
    "                ax.set_title(\"Time: \" + str(times[t]))\n",
    "                t += 1\n",
    "            ax.axis('off')\n",
    "            fig.tight_layout()\n",
    "            frames.append([im])\n",
    "        ani = animation.ArtistAnimation(fig, frames, interval=200, blit=True,\n",
    "                                        repeat_delay=1000)\n",
    "        writer = animation.PillowWriter(fps=2, bitrate=1800)\n",
    "        ani.save(f\"diffusion_model_example.gif\", writer=writer)\n",
    "    else:\n",
    "        fig, axes = plt.subplots(1, len(images), figsize=(len(images), 1))\n",
    "        for i, ax in enumerate(axes.flat):\n",
    "            x = images[i].squeeze(0)\n",
    "            x = rearrange(x, 'c h w -> h w c')\n",
    "            x = x.numpy()\n",
    "            ax.imshow(x, cmap=\"Grays\")\n",
    "            if times is not None:\n",
    "                ax.set_title(\"Time: \" + str(times[t]))\n",
    "                t += 1\n",
    "            ax.axis('off')\n",
    "        fig.tight_layout()\n",
    "        plt.show()"
   ],
   "id": "58abc8e7a4f85884",
   "outputs": [],
   "execution_count": 91
  },
  {
   "metadata": {},
   "cell_type": "markdown",
   "source": [
    "A continuación definiremos una nueva función que nos permitirá hacer inferencia con la red. Esta función aprovechará el archivo ``checkpoint.pth`` para recargar el estado de la red y así poder utilizarla para predecir imágenes a partir de puro ruido.\n",
    "\n",
    "Para ello, aprovecharemos nuestro ``DDPM_Scheduler`` para generar los parámetros que necesitaremos para generar los diferentes niveles de ruido. De manera intuitiva, el proceso de inferencia es exactamente igual al de entrenamiento pero en sentido opuesto: empezaremos con imágenes de ruido y progresivamente la red irá disminuyendo el ruido hasta conseguir una imagen única que se parezca a las imágenes de entrenamiento. Cada vez que generemos una nueva imagen de ruido, obtendremos una imagen única diferente."
   ],
   "id": "677c1cbf74c7d3fa"
  },
  {
   "metadata": {
    "ExecuteTime": {
     "end_time": "2025-05-05T09:33:17.720213Z",
     "start_time": "2025-05-05T09:33:17.714471Z"
    }
   },
   "cell_type": "code",
   "source": [
    "def inference(checkpoint_path: str=None,\n",
    "              num_time_steps: int=1000):\n",
    "    checkpoint = torch.load(os.path.join(checkpoint_path, \"checkpoint.pth\"))\n",
    "    model = UNET().cuda()\n",
    "    model.load_state_dict(checkpoint['weights'])\n",
    "    scheduler = DDPM_Scheduler(num_time_steps=num_time_steps)\n",
    "    times = [0,15,50,100,200,300,400,550,700,999]\n",
    "    images = []\n",
    "\n",
    "    with torch.no_grad():\n",
    "        model = model.eval()\n",
    "        for i in range(1):\n",
    "            z = torch.randn(1, 1, 32, 32)\n",
    "            for t in reversed(range(1, num_time_steps)):\n",
    "                t = [t]\n",
    "                temp = (scheduler.beta[t] / ( (torch.sqrt( 1 - scheduler.alpha[t])) * (torch.sqrt(1 - scheduler.beta[t]))))\n",
    "                z = (1 / (torch.sqrt(1 - scheduler.beta[t]))) * z - (temp * model(z.cuda(), t).cpu())\n",
    "                if t[0] in times:\n",
    "                    images.append(z)\n",
    "                e = torch.randn(1, 1, 32, 32)\n",
    "                z = z + (e * torch.sqrt(scheduler.beta[t]))\n",
    "            temp = scheduler.beta[0] / ((torch.sqrt(1 - scheduler.alpha[0])) * (torch.sqrt(1 - scheduler.beta[0])))\n",
    "            x = (1 / (torch.sqrt(1 - scheduler.beta[0]))) * z - (temp * model(z.cuda(), [0]).cpu())\n",
    "\n",
    "            images.append(x)\n",
    "            display_reverse(images, times=list(reversed(times)))\n",
    "            images = []"
   ],
   "id": "f4d5f7cd21fcb20e",
   "outputs": [],
   "execution_count": 92
  },
  {
   "metadata": {},
   "cell_type": "markdown",
   "source": "A continuación, probaremos la capacidad de inferencia de la red:",
   "id": "6aa39e3bd2ac8dd1"
  },
  {
   "metadata": {
    "ExecuteTime": {
     "end_time": "2025-05-05T09:33:29.352241Z",
     "start_time": "2025-05-05T09:33:21.166209Z"
    }
   },
   "cell_type": "code",
   "source": "inference(os.path.join('checkpoints', 'ddpm_checkpoint'))",
   "id": "3019333251290ffc",
   "outputs": [
    {
     "data": {
      "text/plain": [
       "<Figure size 640x480 with 1 Axes>"
      ],
      "image/png": "[encoded data removed]"
     },
     "metadata": {},
     "output_type": "display_data"
    }
   ],
   "execution_count": 93
  },
  {
   "metadata": {},
   "cell_type": "markdown",
   "source": "<img src=\"diffusion_model_example.gif\" width=500, heigh=500 />",
   "id": "54fee1589c919b44"
  }
 ],
 "metadata": {
  "kernelspec": {
   "display_name": "Python 3",
   "language": "python",
   "name": "python3"
  },
  "language_info": {
   "codemirror_mode": {
    "name": "ipython",
    "version": 2
   },
   "file_extension": ".py",
   "mimetype": "text/x-python",
   "name": "python",
   "nbconvert_exporter": "python",
   "pygments_lexer": "ipython2",
   "version": "2.7.6"
  }
 },
 "nbformat": 4,
 "nbformat_minor": 5
}
