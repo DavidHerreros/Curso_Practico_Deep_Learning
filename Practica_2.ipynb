{
 "cells": [
  {
   "metadata": {},
   "cell_type": "markdown",
   "source": [
    "# PRÁCTICA 2: AUTOENCODERS Y PRECISIÓN MIXTA\n",
    "\n",
    "En esta práctica vamos a aprender a definir una red neuronal desde cero con el objetivo de clasificar un conjunto de imágenes. Para ello, usaremos una arquitectura muy conocida llamada **_Autoencoder_**.\n",
    "\n",
    "El objetivo de esta arquitectura consiste en codificar un conjunto de datos hacia una determinada representación a la que denominamos **_espacio latente_** usando una red neuronal. Posteriormente, este espacio codificado es decodificado por una segunda red nueronal para recuperar los datos de entrada. Una vez entrenada la red, el espacio latente puede ser visualizado para dar evaluar la capacidad de la red a la hora de diferenciar entre los diferentes tipos de imágenes con las que fue entrenada.\n",
    "\n",
    "En primer lugar, importaremos todas las librerías necesarias para definir nuestro autoencoder."
   ],
   "id": "c762eed88e18ba70"
  },
  {
   "cell_type": "code",
   "id": "e3bb26189d3d348e",
   "metadata": {
    "ExecuteTime": {
     "end_time": "2025-04-29T13:23:45.928488Z",
     "start_time": "2025-04-29T13:23:44.857387Z"
    }
   },
   "source": [
    "!jupyter nbextension enable --py widgetsnbextension"
   ],
   "outputs": [
    {
     "name": "stderr",
     "output_type": "stream",
     "text": [
      "Enabling notebook extension jupyter-js-widgets/extension...\n",
      "      - Validating: ok\n"
     ]
    }
   ],
   "execution_count": 45
  },
  {
   "cell_type": "code",
   "id": "945a549696356b8",
   "metadata": {
    "ExecuteTime": {
     "end_time": "2025-04-29T13:23:45.936518Z",
     "start_time": "2025-04-29T13:23:45.932498Z"
    }
   },
   "source": [
    "import os\n",
    "import random\n",
    "\n",
    "# Librerías de PyTorch\n",
    "import torch\n",
    "from torch import nn\n",
    "import torch.nn.functional as F\n",
    "from torch.utils.data import DataLoader\n",
    "\n",
    "# Torch summary para hacer comprobacionesde la red\n",
    "from torchsummary import summary\n",
    "\n",
    "# Torch vision para descargar y preprocesar el conjunto de datos que usaremos para entrenar la red\n",
    "import torchvision\n",
    "from torchvision import transforms\n",
    "from torchvision.datasets import FashionMNIST\n",
    "\n",
    "# Herramientas adicionales para la visualización de los datos y resultados\n",
    "from PIL import Image\n",
    "from tqdm.notebook import tqdm\n",
    "import numpy as np\n",
    "import matplotlib.pyplot as plt"
   ],
   "outputs": [],
   "execution_count": 46
  },
  {
   "metadata": {},
   "cell_type": "markdown",
   "source": [
    "En segundo lugar haremos una serie de comprobaciones para determinar si podemos usar o no una GPU para entrenar la red. El uso de GPU en entrenamiento es altamente recomendable por no decir necesario para que los tiempos de ejecución sean asumibles.\n",
    "\n",
    "También aprovecharemos para definir una serie de parámetros de configuración para nuestra red:\n",
    "   - **Batch size**: Por normal general, los conjuntos de datos usados para entrenar una red neuronal tienen un gran tamaño. Esto impide que podamos cargar todos estos datos directamente en nuestra GPU. Por ello, es una práctica común entrear la red en un \"subconjunto\" de los datos más pequeño, calcular los gradientes y optimizar los parámetros de la red. El tamaño de este subconjunto es conocido como \"batch size\" y suele estar comprendido entre 8 y 1024 (aumentando generalmente en potencias de 2).\n",
    "   - **Epochs**: El paso de todas los lotes que componen el conjunto de datos por la red neuronal se conoce como una epoch. Es decir, cuando se completa una epoch la red ha visto el conjunto de datos completo. Generalmente, una sola epoch no es suficiente para entrenar una red neuronal, por lo que se suele recorre el conjunto de datos de entrada varias veces hasta que la red se ha optimizado por completo. El número total de veces que se recorre un dataset/epochs es un parámetro más a definir en nuestra red.\n",
    "   - **Learning rate**: Cada vez que se calcula el gradiente para un lote, el optimizador se encarga de actualizar los valores de los parámetros de la red a partir de este gradiente. Sin embargo, este gradiente solo nos define la \"dirección\" de la actualización. La \"cantidad\" en la que los parámetros se mueven en esa \"dirección\" viene determinada por el learning rate: cuanto más alto, mayor será la actualización de los parámetros de la red en base a la dirección del gradiente. Un valor alto puede ayudar a optimizar los parámetros más rápido, aunque también puede inducir divergencia. Aunque este valor depende de la red y el optimizador usado, por lo general se suele usar un valor entre 1e<sup>-3</sup> y 1e<sup>-5</sup>."
   ],
   "id": "93461d6bd19b419b"
  },
  {
   "cell_type": "code",
   "id": "4d81d8158c9ac8da",
   "metadata": {
    "ExecuteTime": {
     "end_time": "2025-04-29T13:23:46.004443Z",
     "start_time": "2025-04-29T13:23:46.001321Z"
    }
   },
   "source": [
    "DEVICE = \"cuda\" if torch.cuda.is_available() else \"cpu\"\n",
    "print(\"El proyecto se ejecutará en: \", DEVICE)\n",
    "\n",
    "config = {\n",
    "    \"batch_size\": 64,\n",
    "    \"epochs\": 3,\n",
    "    \"lr\": 1e-4,   # learning rate\n",
    "}"
   ],
   "outputs": [
    {
     "name": "stdout",
     "output_type": "stream",
     "text": [
      "El proyecto se ejecutará en:  cuda\n"
     ]
    }
   ],
   "execution_count": 47
  },
  {
   "metadata": {},
   "cell_type": "markdown",
   "source": [
    "Una vez terminada esta configuración preliminar, vamos a descargar los datos que usaremos para entrenar la red neuronal. El conjunto que usaremos se conoce como `FashionMNIST` y consiste de un conjunto de imágenes de diferentes prendas de ropa. Además, cada imagen contiene un identificador que determine el tipo de prenda de la images (por ejemplo, camiseta, zapatillas...)\n",
    "\n",
    "Antes de descargar los datos, definiremos una función para convertir las imágenes originales (PIL arrays) a Tensores."
   ],
   "id": "c483fd45c8cdc15b"
  },
  {
   "cell_type": "code",
   "id": "4c7795e3d1c25501",
   "metadata": {
    "ExecuteTime": {
     "end_time": "2025-04-29T13:23:46.011449Z",
     "start_time": "2025-04-29T13:23:46.007450Z"
    }
   },
   "source": [
    "def collate_fn(batch):\n",
    "    process = transforms.Compose([\n",
    "                transforms.ToTensor(),\n",
    "                transforms.Pad([2])]\n",
    "                )\n",
    "\n",
    "    # x - imágenes; procesamos cada imagen en el lote\n",
    "    x = [process(data[0]) for data in batch]\n",
    "    x = torch.concat(x).unsqueeze(1)\n",
    "\n",
    "    # y - labels, hay que convertirlos al tipo LongTensor\n",
    "    y = torch.LongTensor([data[1] for data in batch])\n",
    "\n",
    "    return x, y"
   ],
   "outputs": [],
   "execution_count": 48
  },
  {
   "metadata": {},
   "cell_type": "markdown",
   "source": "A continuación se descargan los datos:",
   "id": "42e848e804cce531"
  },
  {
   "cell_type": "code",
   "id": "20f67973d4bbfb7d",
   "metadata": {
    "ExecuteTime": {
     "end_time": "2025-04-29T13:23:46.109206Z",
     "start_time": "2025-04-29T13:23:46.072849Z"
    }
   },
   "source": [
    "labels = [\"Camiseta\",\n",
    "          \"Vaqueros\",\n",
    "          \"Jersey\",\n",
    "          \"Vestido\",\n",
    "          \"Abrigo\",\n",
    "          \"Sandalia\",\n",
    "          \"Falda\",\n",
    "          \"Deportiva\",\n",
    "          \"Bolso\",\n",
    "          \"Zapato\"]\n",
    "\n",
    "# Descarga de los datos\n",
    "train_data = FashionMNIST(\"./MNIST_DATA\", train=True, download=True)\n",
    "valid_data = FashionMNIST(\"./MNIST_DATA\", train=False, download=True)\n",
    "\n",
    "# Generamos los DataLoader\n",
    "train_loader = DataLoader(train_data, batch_size=config[\"batch_size\"],\n",
    "                          shuffle=True, collate_fn=collate_fn)\n",
    "valid_loader = DataLoader(valid_data, batch_size=config[\"batch_size\"],\n",
    "                           shuffle=False, collate_fn=collate_fn)"
   ],
   "outputs": [],
   "execution_count": 49
  },
  {
   "metadata": {},
   "cell_type": "markdown",
   "source": [
    "Al comienzo, definimos los identificadores para cada una de las imágenes.\n",
    "\n",
    "Posteriomente descargamos el conjunto de entrenamiento y validación:\n",
    "   - **Conjunto de entrenamiento**: Compuesto por las imágenes que usaremos para entrenar y actualizar los parámetros de la red\n",
    "   - **Conjunto de validación**: Cada un número determinado de epochs, evaluremos este conjunto con la red para obtener una predicción. Esta predicción **NO SE USARÁ PARA ENTRENAR LA RED**. El objetivo es evaluar si las predicciones son las correctas para determinar si la red neuronal tiene capacidad de generalización o está aprendiendo a memorizar los datos de entrenamiento\n",
    "\n",
    "Una vez hemos descargado los datos, podemos hacer una comprobación rápida para inspeccionar las imágenes:\n"
   ],
   "id": "9347cda691c0a565"
  },
  {
   "cell_type": "code",
   "id": "536cac402bb51991",
   "metadata": {
    "ExecuteTime": {
     "end_time": "2025-04-29T13:23:46.193145Z",
     "start_time": "2025-04-29T13:23:46.112357Z"
    }
   },
   "source": [
    "print(\"Inspección de los datos de entrenamiento: \")\n",
    "for _, data in enumerate(train_loader):\n",
    "    print(\"Tamaño del lote: \", data[0].shape)\n",
    "    fig, ax = plt.subplots(1, 4, figsize=(10, 4))\n",
    "\n",
    "    for i in range(4):\n",
    "        ax[i].imshow(data[0][i].squeeze(), cmap=\"gray\")\n",
    "        ax[i].axis(\"off\")\n",
    "        ax[i].set_title(labels[data[1][i]])\n",
    "    plt.show()\n",
    "    # Usamos break para no recorrer todo el DataLoader\n",
    "    break"
   ],
   "outputs": [
    {
     "name": "stdout",
     "output_type": "stream",
     "text": [
      "Inspección de los datos de entrenamiento: \n",
      "Tamaño del lote:  torch.Size([64, 1, 32, 32])\n"
     ]
    },
    {
     "data": {
      "text/plain": [
       "<Figure size 1000x400 with 4 Axes>"
      ],
      "image/png": "[encoded data removed]"
     },
     "metadata": {},
     "output_type": "display_data"
    }
   ],
   "execution_count": 50
  },
  {
   "metadata": {},
   "cell_type": "markdown",
   "source": "Ha llegado el momento de definir nuestra red neuronal de codificación y decodificación. En primer lugar, definiremos una seria de atributos que serán de utilidad para definir las capas de nuestras redes:",
   "id": "8039a23a7fbcca67"
  },
  {
   "cell_type": "code",
   "id": "a9ba3f6791e5dbb2",
   "metadata": {
    "ExecuteTime": {
     "end_time": "2025-04-29T13:23:46.239214Z",
     "start_time": "2025-04-29T13:23:46.236091Z"
    }
   },
   "source": [
    "# Model parameters:\n",
    "LAYERS = 3  # Cantidad de capas en la red\n",
    "KERNELS = [3, 3, 3]  # Tamaño del kernel de convolución (uno para cada capa)\n",
    "CHANNELS = [32, 64, 128]  # Cantidad de canales/filtros que se calcularán en cada capa\n",
    "STRIDES = [2, 2, 2]  # Parámetro que determina el movimiento del filtro a través de los datos de entrada. Al realizar una operación de convolución, este parámetros determina cuántas unidades se desplaza el filtro en cada paso. Este desplazamiento puede ser horizontal, vertical o ambos, según su configuración.\n",
    "LINEAR_DIM = 2048  # Tamaño de las capas densas (el número de neuronas de cada capa densa)"
   ],
   "outputs": [],
   "execution_count": 51
  },
  {
   "metadata": {},
   "cell_type": "markdown",
   "source": "Ahora definimos la red de codificación:",
   "id": "c4f25fb39d2bc9d4"
  },
  {
   "cell_type": "code",
   "id": "ecd15a664b9c57ac",
   "metadata": {
    "ExecuteTime": {
     "end_time": "2025-04-29T13:23:46.373666Z",
     "start_time": "2025-04-29T13:23:46.271029Z"
    }
   },
   "source": [
    "# Siempre que definimos una red, creamos una clase que hereda de nn.Module\n",
    "class Encoder(nn.Module):\n",
    "\n",
    "    def __init__(self, output_dim=2, use_batchnorm=False, use_dropout=False):\n",
    "        super(Encoder, self).__init__()\n",
    "\n",
    "        # Dimensión del espacio codificado (espacio latente)\n",
    "        self.output_dim = output_dim\n",
    "\n",
    "        # Variables que determinan si se usan capas de dropout y de normalización de lotes\n",
    "        self.use_dropout = use_dropout\n",
    "        self.use_batchnorm = use_batchnorm\n",
    "\n",
    "        # Hyperparámetros de las capas convolucionales\n",
    "        self.layers = LAYERS\n",
    "        self.kernels = KERNELS\n",
    "        self.channels = CHANNELS\n",
    "        self.strides = STRIDES\n",
    "        self.conv = self.get_convs()  # Esta función define las capas como un modelo secuencial (es opcional, pero ayuda a organizar el código)\n",
    "\n",
    "        # Capas densas para generar el espacio latente\n",
    "        self.fc_dim = LINEAR_DIM\n",
    "        self.flatten = nn.Flatten()\n",
    "        self.linear = nn.Linear(self.fc_dim, self.output_dim)\n",
    "\n",
    "\n",
    "    def get_convs(self):\n",
    "        \"\"\"\n",
    "        generating convolutional layers based on model's\n",
    "        hyper parameters\n",
    "        \"\"\"\n",
    "        conv_layers = nn.Sequential()  # Definimos un modelo secuencial (cada capa se ejecuta una detrás de otra)\n",
    "        for i in range(self.layers):\n",
    "            if i == 0: conv_layers.append(nn.Conv2d(1,  # Número de canales de la imagen de entrada (1 si es imagen en escala de grises, 3 si es RGB)\n",
    "                                              self.channels[i],  # Número de filtros que genera esta capa en la salida\n",
    "                                              kernel_size=self.kernels[i],\n",
    "                                              stride=self.strides[i],\n",
    "                                              padding=1)\n",
    "                                         )\n",
    "\n",
    "            else: conv_layers.append(nn.Conv2d(self.channels[i-1],\n",
    "                                         self.channels[i],\n",
    "                                         kernel_size=self.kernels[i],\n",
    "                                         stride=self.strides[i],\n",
    "                                         padding=1))\n",
    "\n",
    "            if self.use_batchnorm:\n",
    "                conv_layers.append(nn.BatchNorm2d(self.channels[i]))\n",
    "\n",
    "            # Here we use ReLU as activation function\n",
    "            conv_layers.append(nn.ReLU())\n",
    "\n",
    "            if self.use_dropout:\n",
    "                conv_layers.append(nn.Dropout2d(0.15))\n",
    "\n",
    "        return conv_layers\n",
    "\n",
    "\n",
    "    # Este método es obligatorio y se usa para determinar el flujo de ejecución de la red neuronal\n",
    "    def forward(self, x):\n",
    "        x = self.conv(x)\n",
    "        x = self.flatten(x)\n",
    "        return self.linear(x)\n",
    "\n",
    "summary(Encoder().to(DEVICE), input_size=(1,32,32))"
   ],
   "outputs": [
    {
     "name": "stdout",
     "output_type": "stream",
     "text": [
      "----------------------------------------------------------------\n",
      "        Layer (type)               Output Shape         Param #\n",
      "================================================================\n",
      "            Conv2d-1           [-1, 32, 16, 16]             320\n",
      "              ReLU-2           [-1, 32, 16, 16]               0\n",
      "            Conv2d-3             [-1, 64, 8, 8]          18,496\n",
      "              ReLU-4             [-1, 64, 8, 8]               0\n",
      "            Conv2d-5            [-1, 128, 4, 4]          73,856\n",
      "              ReLU-6            [-1, 128, 4, 4]               0\n",
      "           Flatten-7                 [-1, 2048]               0\n",
      "            Linear-8                    [-1, 2]           4,098\n",
      "================================================================\n",
      "Total params: 96,770\n",
      "Trainable params: 96,770\n",
      "Non-trainable params: 0\n",
      "----------------------------------------------------------------\n",
      "Input size (MB): 0.00\n",
      "Forward/backward pass size (MB): 0.23\n",
      "Params size (MB): 0.37\n",
      "Estimated Total Size (MB): 0.61\n",
      "----------------------------------------------------------------\n"
     ]
    }
   ],
   "execution_count": 52
  },
  {
   "metadata": {},
   "cell_type": "markdown",
   "source": "A continuación definimos la red de decodificación, que es un espejo de la red de codificación (aunque no es obligatorio):",
   "id": "cf60edce60ea1345"
  },
  {
   "cell_type": "code",
   "id": "d6c534f7a12e5896",
   "metadata": {
    "ExecuteTime": {
     "end_time": "2025-04-29T13:23:46.416444Z",
     "start_time": "2025-04-29T13:23:46.404936Z"
    }
   },
   "source": [
    "class Decoder(nn.Module):\n",
    "\n",
    "    def __init__(self, input_dim=2, use_batchnorm=False, use_dropout=False):\n",
    "\n",
    "        super(Decoder, self).__init__()\n",
    "\n",
    "        # Variables que determinan si se usan capas de dropout y de normalización de lotes\n",
    "        self.use_dropout = use_dropout\n",
    "        self.use_batchnorm = use_batchnorm\n",
    "\n",
    "        self.fc_dim = LINEAR_DIM\n",
    "        self.input_dim = input_dim\n",
    "\n",
    "        # Hyperparámetros de las capas convolucionales\n",
    "        self.layers = LAYERS\n",
    "        self.kernels = KERNELS\n",
    "        self.channels = CHANNELS[::-1] # flip the channel dimensions\n",
    "        self.strides = STRIDES\n",
    "\n",
    "        # Al ser un espejo de la red de codificación, primero usaremos capas densas y luego convolucionales transpuestas\n",
    "        self.linear = nn.Linear(self.input_dim, self.fc_dim)\n",
    "        self.conv =  self.get_convs()\n",
    "\n",
    "        self.output = nn.Conv2d(self.channels[-1], 1, kernel_size=1, stride=1)\n",
    "\n",
    "    def get_convs(self):\n",
    "        conv_layers = nn.Sequential()\n",
    "        for i in range(self.layers):\n",
    "\n",
    "            if i == 0: conv_layers.append(\n",
    "                            nn.ConvTranspose2d(self.channels[i],\n",
    "                                               self.channels[i],\n",
    "                                               kernel_size=self.kernels[i],\n",
    "                                               stride=self.strides[i],\n",
    "                                               padding=1,\n",
    "                                               output_padding=1)\n",
    "                            )\n",
    "\n",
    "            else: conv_layers.append(\n",
    "                            nn.ConvTranspose2d(self.channels[i-1],\n",
    "                                               self.channels[i],\n",
    "                                               kernel_size=self.kernels[i],\n",
    "                                               stride=self.strides[i],\n",
    "                                               padding=1,\n",
    "                                               output_padding=1\n",
    "                                              )\n",
    "                            )\n",
    "\n",
    "            if self.use_batchnorm and i != self.layers - 1:\n",
    "                conv_layers.append(nn.BatchNorm2d(self.channels[i]))\n",
    "\n",
    "            conv_layers.append(nn.ReLU())\n",
    "\n",
    "            if self.use_dropout:\n",
    "                conv_layers.append(nn.Dropout2d(0.15))\n",
    "\n",
    "        return conv_layers\n",
    "\n",
    "\n",
    "    def forward(self, x):\n",
    "        x = self.linear(x)\n",
    "        # reshape 3D tensor to 4D tensor\n",
    "        x = x.reshape(x.shape[0], 128, 4, 4)\n",
    "        x = self.conv(x)\n",
    "        return self.output(x)\n",
    "\n",
    "summary(Decoder().to(DEVICE), input_size=(2, ))"
   ],
   "outputs": [
    {
     "name": "stdout",
     "output_type": "stream",
     "text": [
      "----------------------------------------------------------------\n",
      "        Layer (type)               Output Shape         Param #\n",
      "================================================================\n",
      "            Linear-1                 [-1, 2048]           6,144\n",
      "   ConvTranspose2d-2            [-1, 128, 8, 8]         147,584\n",
      "              ReLU-3            [-1, 128, 8, 8]               0\n",
      "   ConvTranspose2d-4           [-1, 64, 16, 16]          73,792\n",
      "              ReLU-5           [-1, 64, 16, 16]               0\n",
      "   ConvTranspose2d-6           [-1, 32, 32, 32]          18,464\n",
      "              ReLU-7           [-1, 32, 32, 32]               0\n",
      "            Conv2d-8            [-1, 1, 32, 32]              33\n",
      "================================================================\n",
      "Total params: 246,017\n",
      "Trainable params: 246,017\n",
      "Non-trainable params: 0\n",
      "----------------------------------------------------------------\n",
      "Input size (MB): 0.00\n",
      "Forward/backward pass size (MB): 0.90\n",
      "Params size (MB): 0.94\n",
      "Estimated Total Size (MB): 1.84\n",
      "----------------------------------------------------------------\n"
     ]
    }
   ],
   "execution_count": 53
  },
  {
   "metadata": {},
   "cell_type": "markdown",
   "source": "Una vez hemos definido las dos redes neuronales, es conveniente hacer una nueva red neuronal que aune las dos anteriores. Esta nueva red será nuestro **_autoencoder_** y simplificará enormemente su uso más adelante:",
   "id": "36cfd9e80e21233f"
  },
  {
   "cell_type": "code",
   "id": "1cb8798d703f616d",
   "metadata": {
    "ExecuteTime": {
     "end_time": "2025-04-29T13:23:46.465312Z",
     "start_time": "2025-04-29T13:23:46.452001Z"
    }
   },
   "source": [
    "class AutoEncoder(nn.Module):\n",
    "\n",
    "    def __init__(self):\n",
    "        super(AutoEncoder, self).__init__()\n",
    "        self.encoder = Encoder(output_dim=2,\n",
    "                               use_batchnorm=True, use_dropout=False)\n",
    "        self.decoder = Decoder(input_dim=2,\n",
    "                               use_batchnorm=True, use_dropout=False)\n",
    "\n",
    "    def forward(self, x):\n",
    "        return self.decoder(self.encoder(x))\n",
    "\n",
    "model = AutoEncoder()\n",
    "model.to(DEVICE)"
   ],
   "outputs": [
    {
     "data": {
      "text/plain": [
       "AutoEncoder(\n",
       "  (encoder): Encoder(\n",
       "    (conv): Sequential(\n",
       "      (0): Conv2d(1, 32, kernel_size=(3, 3), stride=(2, 2), padding=(1, 1))\n",
       "      (1): BatchNorm2d(32, eps=1e-05, momentum=0.1, affine=True, track_running_stats=True)\n",
       "      (2): ReLU()\n",
       "      (3): Conv2d(32, 64, kernel_size=(3, 3), stride=(2, 2), padding=(1, 1))\n",
       "      (4): BatchNorm2d(64, eps=1e-05, momentum=0.1, affine=True, track_running_stats=True)\n",
       "      (5): ReLU()\n",
       "      (6): Conv2d(64, 128, kernel_size=(3, 3), stride=(2, 2), padding=(1, 1))\n",
       "      (7): BatchNorm2d(128, eps=1e-05, momentum=0.1, affine=True, track_running_stats=True)\n",
       "      (8): ReLU()\n",
       "    )\n",
       "    (flatten): Flatten(start_dim=1, end_dim=-1)\n",
       "    (linear): Linear(in_features=2048, out_features=2, bias=True)\n",
       "  )\n",
       "  (decoder): Decoder(\n",
       "    (linear): Linear(in_features=2, out_features=2048, bias=True)\n",
       "    (conv): Sequential(\n",
       "      (0): ConvTranspose2d(128, 128, kernel_size=(3, 3), stride=(2, 2), padding=(1, 1), output_padding=(1, 1))\n",
       "      (1): BatchNorm2d(128, eps=1e-05, momentum=0.1, affine=True, track_running_stats=True)\n",
       "      (2): ReLU()\n",
       "      (3): ConvTranspose2d(128, 64, kernel_size=(3, 3), stride=(2, 2), padding=(1, 1), output_padding=(1, 1))\n",
       "      (4): BatchNorm2d(64, eps=1e-05, momentum=0.1, affine=True, track_running_stats=True)\n",
       "      (5): ReLU()\n",
       "      (6): ConvTranspose2d(64, 32, kernel_size=(3, 3), stride=(2, 2), padding=(1, 1), output_padding=(1, 1))\n",
       "      (7): ReLU()\n",
       "    )\n",
       "    (output): Conv2d(32, 1, kernel_size=(1, 1), stride=(1, 1))\n",
       "  )\n",
       ")"
      ]
     },
     "execution_count": 54,
     "metadata": {},
     "output_type": "execute_result"
    }
   ],
   "execution_count": 54
  },
  {
   "metadata": {},
   "cell_type": "markdown",
   "source": "Una vez definido nuestro autoencoder, podemos empezar a escribir nuestro loop de entrenamiento. Sin embargo, antes de hablar sobre el entrenamiento, vamos a definir una serie de funciones para representar el espacio latente codificado a medida que entrenamos, para así poder comprender como la red neuronal aprende de manera progresiva a clasificar nuestro datos:",
   "id": "93810a1cb4ab5ccd"
  },
  {
   "cell_type": "code",
   "id": "88ef725126b061f7",
   "metadata": {
    "ExecuteTime": {
     "end_time": "2025-04-29T13:23:46.523809Z",
     "start_time": "2025-04-29T13:23:46.517327Z"
    }
   },
   "source": [
    "def plotting(step:int=0, show=False):\n",
    "\n",
    "    model.eval()  # Pasamos el modelo a modo evaluación (en este modo, las capas de Dropout y BatchNorm se desactivan para mejorar la precisión de las predicciones)\n",
    "\n",
    "    points = []\n",
    "    label_idcs = []\n",
    "\n",
    "    path = \"./ScatterPlots\"\n",
    "    if not os.path.exists(path): os.mkdir(path)\n",
    "\n",
    "    for i, data in enumerate(valid_loader):\n",
    "        img, label = [d.to(DEVICE) for d in data]\n",
    "        # Solo necesitamos codificar las imágenes\n",
    "        proj = model.encoder(img)\n",
    "        points.extend(proj.detach().cpu().numpy())\n",
    "        label_idcs.extend(label.detach().cpu().numpy())\n",
    "        del img, label\n",
    "\n",
    "    points = np.array(points)\n",
    "\n",
    "    # Creamos nuestra gráfica\n",
    "    fig, ax = plt.subplots(figsize=(10, 10) if not show else (8, 8))\n",
    "    scatter = ax.scatter(x=points[:, 0], y=points[:, 1], s=5.0,\n",
    "                c=label_idcs, cmap='tab10', alpha=0.9, zorder=2)\n",
    "    plt.title(\"Step {}\".format(step))\n",
    "    handles, _ = scatter.legend_elements()\n",
    "    plt.legend(handles=handles, labels=labels)\n",
    "\n",
    "    ax.spines[\"right\"].set_visible(False)\n",
    "    ax.spines[\"top\"].set_visible(False)\n",
    "\n",
    "    ax.set_xlim([-10, 10])\n",
    "    ax.set_ylim([-10, 10])\n",
    "\n",
    "    if show:\n",
    "        ax.grid(True, color=\"lightgray\", alpha=1.0, zorder=0)\n",
    "        plt.show()\n",
    "    else:\n",
    "        # Aqui guardamos la gráfica actual\n",
    "        plt.savefig(f\"{path}/Step_{step:03d}.png\", bbox_inches=\"tight\")\n",
    "        plt.close() # Es importante no olvidarse de cerrar la figura para que no se quede cargada en memoria\n",
    "        model.train()\n",
    "\n",
    "# Conversión de las gráficas a un formato GIF\n",
    "def save_gif():\n",
    "\n",
    "  frames = []\n",
    "  imgs = sorted(os.listdir(\"./ScatterPlots\"))\n",
    "\n",
    "  for im in imgs:\n",
    "      new_frame = Image.open(\"./ScatterPlots/\" + im)\n",
    "      frames.append(new_frame)\n",
    "\n",
    "  frames[0].save(\"latentspace.gif\", format=\"GIF\",\n",
    "                 append_images=frames[1:],\n",
    "                 save_all=True,\n",
    "                 duration=200, loop=0)"
   ],
   "outputs": [],
   "execution_count": 55
  },
  {
   "metadata": {},
   "cell_type": "markdown",
   "source": "Antes de definir el loop de entrenamiento, vamos a definir unas variables de configuración y el optimizador para poder usarlas durante el entrenamiento:",
   "id": "8d64d82d775f834c"
  },
  {
   "cell_type": "code",
   "id": "912c4a969fd8493c",
   "metadata": {
    "ExecuteTime": {
     "end_time": "2025-04-29T13:23:46.557654Z",
     "start_time": "2025-04-29T13:23:46.554298Z"
    }
   },
   "source": [
    "criterion = nn.MSELoss()  # Usaremos como función de péridida el error cuadrático medio\n",
    "optimizer = torch.optim.AdamW(model.parameters(), lr=config[\"lr\"], weight_decay=1e-5)\n",
    "\n",
    "# For mixed precision training\n",
    "scaler = torch.amp.GradScaler(\"cuda\")  # Para poder hacer mixed precision training (explicación en la siguiente celda)\n",
    "steps = 0  # Variable para contar el número de steps/lotes que ha ido viendo la red"
   ],
   "outputs": [],
   "execution_count": 56
  },
  {
   "metadata": {},
   "cell_type": "markdown",
   "source": [
    "### UN POCO DE TEORÍA SOBRE EL ENTRENAMIENTO CON MEZCLA DE PRECISIÓN\n",
    "\n",
    "Como se puede ver en la celda anterior, hemos definido una variable llamada \"scaler\". Esta variable nos permitirá hacer un entrenamiento con mezcla de precisión.\n",
    "\n",
    "Durante el entrenamiento estándar de redes neuronales, se utiliza `Float32` para representar los parámetros del modelo, a costa de un mayor requerimiento de memoria. En el entrenamiento de precisión mixta, se utiliza ``Float16`` para almacenar los pesos, las activaciones y los gradientes durante las iteraciones de entrenamiento.\n",
    "\n",
    "Sin embargo, como vimos anteriormente, esto crea un problema, ya que el rango de valores que puede almacenar ``Float16`` es menor que el de ``Float32``, y la precisión disminuye a medida que el número se reduce. Esto se traduce en una disminución de la precisión del modelo, en consonancia con la precisión de los valores de punto flotante calculados.\n",
    "\n",
    "Para evitar esto, se almacena una copia maestra de los pesos en ``Float32``. Esta se convierte a ``Float16`` durante parte de cada iteración de entrenamiento (un pase hacia adelante, backpropagation y actualización de pesos). Al final de la iteración, los gradientes de pesos se utilizan para actualizar los pesos maestros durante el paso del optimizador.\n",
    "\n",
    "Aquí, podemos observar la ventaja de conservar la copia ``Float32`` de los pesos. Dado que la tasa de aprendizaje suele ser baja, al multiplicarlos por los gradientes, estos pueden ser valores minúsculos. Para Float16, cualquier número con una magnitud menor a 2<sup>-24</sup> se equiparará a cero, ya que no se puede representar (este es el límite desnormalizado para ``Float16``). Por lo tanto, al completar las actualizaciones en ``Float32``, estos valores de actualización se pueden conservar.\n",
    "\n",
    "Por lo anterior, es conveniente hacer una escalado de la función de pérdidas, un proceso mediante el cual el valor de la pérdida se multiplica por un factor de escala después de completar el paso hacia adelante y antes de la backprogation. La regla de la cadena dicta que todos los gradientes se escalan posteriormente por el mismo factor, lo que los mantiene dentro del rango de ``Float16``.\n",
    "\n",
    "Una vez calculados los gradientes, se pueden dividir por el mismo factor de escala, antes de usarlos para actualizar los pesos maestros en ``Float32``, como se describe en la sección anterior.\n",
    "\n",
    "El uso de ``Float16`` y ``Float32`` es la razón por la que esta técnica se denomina entrenamiento de precisión mixta.\n",
    "\n"
   ],
   "id": "54d1efb607602562"
  },
  {
   "metadata": {},
   "cell_type": "markdown",
   "source": [
    "A continuación vamos a deifinir el loop de entraniento. Para tener el código más ordenado, definiremos dos funciones:\n",
    "   - **Función \"train\"**: Contiene toda la lógica necesaria para entrenar el modelo durante una epoch completa\n",
    "   - **Función \"validate\"**: Contiene toda la lógica para evaluar el módelo en un conjunto de datos (pero sin actualizar los parámetros de la red con estos datos)"
   ],
   "id": "5da0cc706018517e"
  },
  {
   "cell_type": "code",
   "id": "9a2c922f39064606",
   "metadata": {
    "ExecuteTime": {
     "end_time": "2025-04-29T13:23:46.623836Z",
     "start_time": "2025-04-29T13:23:46.617265Z"
    }
   },
   "source": [
    "def train(model, dataloader, criterion, optimizer, save_distrib=False):\n",
    "    # Esta variable solo la usamos para hacer un seguimiento del entranamiento y poder guardar los espacios latentes\n",
    "    global steps\n",
    "\n",
    "    model.train()\n",
    "    train_loss = 0.0\n",
    "\n",
    "    # Barra de progreso\n",
    "    batch_bar = tqdm(total=len(dataloader), dynamic_ncols=True,\n",
    "                     leave=False, position=0, desc=\"Train\")\n",
    "\n",
    "    for i, batch in enumerate(dataloader):\n",
    "\n",
    "        optimizer.zero_grad()\n",
    "        x = batch[0].to(DEVICE)\n",
    "\n",
    "        # Aquí implementamos el entrenamiento con mezcla de precisión\n",
    "        with torch.amp.autocast(\"cuda\"):\n",
    "            y_recons = model(x)\n",
    "            loss = criterion(y_recons, x)\n",
    "\n",
    "        train_loss += loss.item()\n",
    "\n",
    "        scaler.scale(loss).backward()\n",
    "        scaler.step(optimizer)\n",
    "        scaler.update()\n",
    "\n",
    "        batch_bar.set_postfix(\n",
    "            loss=f\"{train_loss/(i+1):.4f}\",\n",
    "            lr = f\"{optimizer.param_groups[0]['lr']:.4f}\"\n",
    "        )\n",
    "        batch_bar.update()\n",
    "\n",
    "        # Guardamos el estado del espacio latente para su posterior visualización\n",
    "        if steps % 10 == 0 and save_distrib and steps <= 400: plotting(steps)\n",
    "        steps += 1\n",
    "\n",
    "        # Eliminamos el cache no necesario de la GPU para ahorrar memoriar\n",
    "        torch.cuda.empty_cache()\n",
    "        del x, y_recons\n",
    "\n",
    "    batch_bar.close()\n",
    "    train_loss /= len(dataloader)\n",
    "\n",
    "    return train_loss\n",
    "\n",
    "\n",
    "def validate(model, dataloader, criterion):\n",
    "\n",
    "    model.eval()  # Usamos el modelo en modo evaluación (capas de Dropout y BatchNorm desactivadas)\n",
    "    valid_loss = 0.0\n",
    "\n",
    "    # Barra de progreso\n",
    "    batch_bar = tqdm(total=len(dataloader), dynamic_ncols=True,\n",
    "                     leave=False, position=0, desc=\"Validation\")\n",
    "\n",
    "    for i, batch in enumerate(dataloader):\n",
    "        x = batch[0].to(DEVICE)\n",
    "\n",
    "        with torch.no_grad():  # No necesitamos los gradientes en la validación\n",
    "            y_recons = model(x)\n",
    "            loss = criterion(y_recons, x)\n",
    "\n",
    "        valid_loss += loss.item()\n",
    "\n",
    "        batch_bar.set_postfix(\n",
    "            loss=f\"{valid_loss/(i+1):.4f}\",\n",
    "            lr = f\"{optimizer.param_groups[0]['lr']:.4f}\"\n",
    "        )\n",
    "        batch_bar.update()\n",
    "\n",
    "        torch.cuda.empty_cache()\n",
    "        del x, y_recons\n",
    "\n",
    "    batch_bar.close()\n",
    "    valid_loss /= len(dataloader)\n",
    "\n",
    "    return valid_loss"
   ],
   "outputs": [],
   "execution_count": 57
  },
  {
   "metadata": {},
   "cell_type": "markdown",
   "source": "A continuación definimos el loop de entrenamiento y entrenamos nuestra red neuronal:",
   "id": "d6dcf54432994e63"
  },
  {
   "cell_type": "code",
   "id": "933bc06c819164ff",
   "metadata": {
    "ExecuteTime": {
     "end_time": "2025-04-29T13:25:41.614051Z",
     "start_time": "2025-04-29T13:23:46.625892Z"
    }
   },
   "source": [
    "for i in range(config[\"epochs\"]):\n",
    "\n",
    "    curr_lr = float(optimizer.param_groups[0][\"lr\"])\n",
    "    train_loss = train(model, train_loader, criterion,\n",
    "                       optimizer, save_distrib=True)\n",
    "    valid_loss = validate(model, valid_loader, criterion)\n",
    "\n",
    "    print(f\"Epoch {i+1}/{config['epochs']}\\nTrain loss: {train_loss:.4f}\\t Validation loss: {valid_loss:.4f}\\tlr: {curr_lr:.4f}\")"
   ],
   "outputs": [
    {
     "data": {
      "text/plain": [
       "Train:   0%|          | 0/938 [00:00<?, ?it/s]"
      ],
      "application/vnd.jupyter.widget-view+json": {
       "version_major": 2,
       "version_minor": 0,
       "model_id": "a1f9fe4032b64aeb89f9b51f881ea5e1"
      }
     },
     "metadata": {},
     "output_type": "display_data"
    },
    {
     "data": {
      "text/plain": [
       "Validation:   0%|          | 0/157 [00:00<?, ?it/s]"
      ],
      "application/vnd.jupyter.widget-view+json": {
       "version_major": 2,
       "version_minor": 0,
       "model_id": "f6aeead22b87404498c8ae3ec6dbc276"
      }
     },
     "metadata": {},
     "output_type": "display_data"
    },
    {
     "name": "stdout",
     "output_type": "stream",
     "text": [
      "Epoch 1/3\n",
      "Train loss: 0.0307\t Validation loss: 0.0256\tlr: 0.0001\n"
     ]
    },
    {
     "data": {
      "text/plain": [
       "Train:   0%|          | 0/938 [00:00<?, ?it/s]"
      ],
      "application/vnd.jupyter.widget-view+json": {
       "version_major": 2,
       "version_minor": 0,
       "model_id": "0af8aef3359d4d4a8abdbb753fd0322a"
      }
     },
     "metadata": {},
     "output_type": "display_data"
    },
    {
     "data": {
      "text/plain": [
       "Validation:   0%|          | 0/157 [00:00<?, ?it/s]"
      ],
      "application/vnd.jupyter.widget-view+json": {
       "version_major": 2,
       "version_minor": 0,
       "model_id": "c23c2da6f994468ab77defad0480dc7f"
      }
     },
     "metadata": {},
     "output_type": "display_data"
    },
    {
     "name": "stdout",
     "output_type": "stream",
     "text": [
      "Epoch 2/3\n",
      "Train loss: 0.0254\t Validation loss: 0.0247\tlr: 0.0001\n"
     ]
    },
    {
     "data": {
      "text/plain": [
       "Train:   0%|          | 0/938 [00:00<?, ?it/s]"
      ],
      "application/vnd.jupyter.widget-view+json": {
       "version_major": 2,
       "version_minor": 0,
       "model_id": "235758b89fb24693bbdde02ec98a05fe"
      }
     },
     "metadata": {},
     "output_type": "display_data"
    },
    {
     "data": {
      "text/plain": [
       "Validation:   0%|          | 0/157 [00:00<?, ?it/s]"
      ],
      "application/vnd.jupyter.widget-view+json": {
       "version_major": 2,
       "version_minor": 0,
       "model_id": "b8c8590305234faf8c42848f70f22564"
      }
     },
     "metadata": {},
     "output_type": "display_data"
    },
    {
     "name": "stdout",
     "output_type": "stream",
     "text": [
      "Epoch 3/3\n",
      "Train loss: 0.0244\t Validation loss: 0.0241\tlr: 0.0001\n"
     ]
    }
   ],
   "execution_count": 58
  },
  {
   "metadata": {},
   "cell_type": "markdown",
   "source": "Una vez terminado el entrenamiento, podemos visualizar el proceso de optimización del espacio latente:",
   "id": "c922829467b0860c"
  },
  {
   "metadata": {
    "ExecuteTime": {
     "end_time": "2025-04-29T13:25:42.514849Z",
     "start_time": "2025-04-29T13:25:41.668980Z"
    }
   },
   "cell_type": "code",
   "source": "save_gif()",
   "id": "5178b2196f3c89f0",
   "outputs": [],
   "execution_count": 59
  },
  {
   "metadata": {},
   "cell_type": "markdown",
   "source": "<img src=\"latentspace.gif\" width=500, heigh=500 />",
   "id": "3349ebff527b7df4"
  },
  {
   "metadata": {},
   "cell_type": "markdown",
   "source": "<img src=\"ScatterPlots/Step_400.png\" width=500, heigh=500 />",
   "id": "3d1d0855d13121b7"
  },
  {
   "metadata": {},
   "cell_type": "markdown",
   "source": "Por último, podemos seleccionar puntos aleatorios del espacio latente anterior y aprovechar la red de decodificación para comprobar que la red neuronal ha aprendedido correctamente a recuperar los datos de entrada a partir del espacio codificado:",
   "id": "86110f11aca6ccd2"
  },
  {
   "metadata": {
    "ExecuteTime": {
     "end_time": "2025-04-29T13:25:42.683184Z",
     "start_time": "2025-04-29T13:25:42.519293Z"
    }
   },
   "cell_type": "code",
   "source": [
    "# Muestras aleatorias de puntos en el espacio codificado\n",
    "xs = [random.uniform(-6.0, 8.0) for i in range(8)]\n",
    "ys = [random.uniform(-7.5, 10.0) for i in range(8)]\n",
    "\n",
    "points = list(zip(xs, ys))\n",
    "coords = torch.tensor(points).unsqueeze(1).to(DEVICE)\n",
    "\n",
    "nrows, ncols = 2, 4\n",
    "fig, axes = plt.subplots(nrows, ncols, figsize=(10, 5))\n",
    "\n",
    "model.eval()\n",
    "with torch.no_grad():\n",
    "    generates = [model.decoder(coord) for coord in coords]\n",
    "\n",
    "# Muestra las imágenes decodificadas a partir de los puntos anteriores\n",
    "idx = 0\n",
    "for row in range(0, nrows):\n",
    "    for col in range(0, ncols):\n",
    "        ax = axes[row, col]\n",
    "        im = generates[idx].squeeze().detach().cpu()\n",
    "        ax.imshow(im, cmap=\"gray\")\n",
    "        ax.axis(\"off\")\n",
    "        coord = coords[idx].detach().cpu().numpy()[0]\n",
    "        ax.set_title(f\"({coord[0]:.3f}, {coord[1]:.3f})\")\n",
    "        idx += 1\n",
    "\n",
    "plt.show()"
   ],
   "id": "a0bf81eef4958397",
   "outputs": [
    {
     "data": {
      "text/plain": [
       "<Figure size 1000x500 with 8 Axes>"
      ],
      "image/png": "[encoded data removed]"
     },
     "metadata": {},
     "output_type": "display_data"
    }
   ],
   "execution_count": 60
  }
 ],
 "metadata": {
  "kernelspec": {
   "display_name": "Python 3 (ipykernel)",
   "language": "python",
   "name": "python3"
  },
  "language_info": {
   "codemirror_mode": {
    "name": "ipython",
    "version": 3
   },
   "file_extension": ".py",
   "mimetype": "text/x-python",
   "name": "python",
   "nbconvert_exporter": "python",
   "pygments_lexer": "ipython3",
   "version": "3.12.9"
  }
 },
 "nbformat": 4,
 "nbformat_minor": 5
}
