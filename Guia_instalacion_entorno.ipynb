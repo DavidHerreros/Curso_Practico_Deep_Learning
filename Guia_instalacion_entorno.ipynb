{
 "cells": [
  {
   "metadata": {},
   "cell_type": "markdown",
   "source": [
    "# GUÍA DE INSTALACIÓN\n",
    "\n",
    "Al ejecutar las siguientes celdas, se instalarán todos los componentes necesarios para ejecutar las prácticas incluidas en este repositorio.\n",
    "\n",
    "Es recomendable instalar y ejecutar Jupyter desde un entorno aislado (Conda, Virtualenv...) para evitar problemas de incompatibilidades o sobreescribir instalaciones.\n",
    "\n",
    "Todos los notebooks fueron probados con Python 3.11.x"
   ],
   "id": "36138f1c9a1494b8"
  },
  {
   "metadata": {},
   "cell_type": "code",
   "outputs": [],
   "execution_count": null,
   "source": [
    "!pip install torch torchvision torchaudio --index-url https://download.pytorch.org/whl/cu118  # Cambiar cu118 por la versión de Cuda del sistema\n",
    "!pip install ipywidgets widgetsnbextension torchsummary einops tqdm matplotlib\n",
    "!pip install -U \"jax[cuda12]\"  # Cambiar cuda11 por la versión de nuestro CUDA\n",
    "!pip install flax\n",
    "!pip install -q clu\n",
    "!jupyter contrib nbextension install --user"
   ],
   "id": "c5325f9b06efcdc0"
  }
 ],
 "metadata": {
  "kernelspec": {
   "display_name": "Python 3",
   "language": "python",
   "name": "python3"
  },
  "language_info": {
   "codemirror_mode": {
    "name": "ipython",
    "version": 2
   },
   "file_extension": ".py",
   "mimetype": "text/x-python",
   "name": "python",
   "nbconvert_exporter": "python",
   "pygments_lexer": "ipython2",
   "version": "2.7.6"
  }
 },
 "nbformat": 4,
 "nbformat_minor": 5
}
