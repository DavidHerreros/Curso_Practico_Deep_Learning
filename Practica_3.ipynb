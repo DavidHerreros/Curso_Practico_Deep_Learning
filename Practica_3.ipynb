{
 "cells": [
  {
   "metadata": {},
   "cell_type": "markdown",
   "source": [
    "# PRÁCTICA 3: TRIPLET LOSS\n",
    "\n",
    "En esta práctica vamos a aprender a modificar el **__Autoencoder__** de la **Práctica 2** usando una función de pérdida conocida como __triplet loss__. Junto con esta modificación, aprenderemos a generar ``DataLoaders`` desde cero para poder ajustar la carga de datos a las necesidades de la red.\n",
    "\n",
    "El objetivo de esta función de pérdida consiste en mejorar la capacidad de clasificación del **__espacio latente__** de nuestra red, forzando a que las muestras pertenecientes a una clase determinada estén más aisladas con respecto a otras clases diferentes.\n",
    "\n",
    "En primer lugar, importaremos todas las librerías necesarias para definir nuestro autoencoder."
   ],
   "id": "c762eed88e18ba70"
  },
  {
   "cell_type": "code",
   "id": "e3bb26189d3d348e",
   "metadata": {
    "ExecuteTime": {
     "end_time": "2025-05-12T12:27:44.446650Z",
     "start_time": "2025-05-12T12:27:43.965887Z"
    }
   },
   "source": [
    "!jupyter nbextension enable --py widgetsnbextension"
   ],
   "outputs": [
    {
     "name": "stdout",
     "output_type": "stream",
     "text": [
      "/bin/bash: warning: setlocale: LC_ALL: cannot change locale (en_US.UTF-8)\r\n",
      "Enabling notebook extension jupyter-js-widgets/extension...\r\n",
      "      - Validating: \u001B[32mOK\u001B[0m\r\n"
     ]
    }
   ],
   "execution_count": 1
  },
  {
   "cell_type": "code",
   "id": "945a549696356b8",
   "metadata": {
    "ExecuteTime": {
     "end_time": "2025-05-12T12:27:47.643016Z",
     "start_time": "2025-05-12T12:27:44.665306Z"
    }
   },
   "source": [
    "import os\n",
    "import random\n",
    "\n",
    "# Librerías de PyTorch\n",
    "import torch\n",
    "from torch import nn\n",
    "from torch.utils.data import DataLoader, Dataset\n",
    "\n",
    "# Torch summary para hacer comprobacionesde la red\n",
    "from torchsummary import summary\n",
    "\n",
    "# Torch vision para descargar y preprocesar el conjunto de datos que usaremos para entrenar la red\n",
    "from torchvision import transforms\n",
    "from torchvision.datasets import FashionMNIST\n",
    "\n",
    "# Herramientas adicionales para la visualización de los datos y resultados\n",
    "from PIL import Image\n",
    "from tqdm.notebook import tqdm\n",
    "import numpy as np\n",
    "import matplotlib.pyplot as plt"
   ],
   "outputs": [],
   "execution_count": 2
  },
  {
   "metadata": {},
   "cell_type": "markdown",
   "source": [
    "En segundo lugar haremos una serie de comprobaciones para determinar si podemos usar o no una GPU para entrenar la red. El uso de GPU en entrenamiento es altamente recomendable por no decir necesario para que los tiempos de ejecución sean asumibles.\n",
    "\n",
    "También aprovecharemos para definir una serie de parámetros de configuración para nuestra red:\n",
    "   - **Batch size**: Por normal general, los conjuntos de datos usados para entrenar una red neuronal tienen un gran tamaño. Esto impide que podamos cargar todos estos datos directamente en nuestra GPU. Por ello, es una práctica común entrear la red en un \"subconjunto\" de los datos más pequeño, calcular los gradientes y optimizar los parámetros de la red. El tamaño de este subconjunto es conocido como \"batch size\" y suele estar comprendido entre 8 y 1024 (aumentando generalmente en potencias de 2).\n",
    "   - **Epochs**: El paso de todas los lotes que componen el conjunto de datos por la red neuronal se conoce como una epoch. Es decir, cuando se completa una epoch la red ha visto el conjunto de datos completo. Generalmente, una sola epoch no es suficiente para entrenar una red neuronal, por lo que se suele recorre el conjunto de datos de entrada varias veces hasta que la red se ha optimizado por completo. El número total de veces que se recorre un dataset/epochs es un parámetro más a definir en nuestra red.\n",
    "   - **Learning rate**: Cada vez que se calcula el gradiente para un lote, el optimizador se encarga de actualizar los valores de los parámetros de la red a partir de este gradiente. Sin embargo, este gradiente solo nos define la \"dirección\" de la actualización. La \"cantidad\" en la que los parámetros se mueven en esa \"dirección\" viene determinada por el learning rate: cuanto más alto, mayor será la actualización de los parámetros de la red en base a la dirección del gradiente. Un valor alto puede ayudar a optimizar los parámetros más rápido, aunque también puede inducir divergencia. Aunque este valor depende de la red y el optimizador usado, por lo general se suele usar un valor entre 1e<sup>-3</sup> y 1e<sup>-5</sup>."
   ],
   "id": "93461d6bd19b419b"
  },
  {
   "metadata": {
    "ExecuteTime": {
     "end_time": "2025-05-12T12:27:48.238148Z",
     "start_time": "2025-05-12T12:27:47.651904Z"
    }
   },
   "cell_type": "code",
   "source": [
    "DEVICE = \"cuda\" if torch.cuda.is_available() else \"cpu\"\n",
    "print(\"El proyecto se ejecutará en: \", DEVICE)\n",
    "\n",
    "config = {\n",
    "    \"batch_size\": 64,\n",
    "    \"epochs\": 50,\n",
    "    \"lr\": 1e-4,   # learning rate\n",
    "}"
   ],
   "id": "4d81d8158c9ac8da",
   "outputs": [
    {
     "name": "stdout",
     "output_type": "stream",
     "text": [
      "El proyecto se ejecutará en:  cuda\n"
     ]
    }
   ],
   "execution_count": 3
  },
  {
   "metadata": {},
   "cell_type": "markdown",
   "source": [
    "Una vez terminada esta configuración preliminar, vamos a descargar los datos que usaremos para entrenar la red neuronal. El conjunto que usaremos se conoce como `FashionMNIST` y consiste de un conjunto de imágenes de diferentes prendas de ropa. Además, cada imagen contiene un identificador que determine el tipo de prenda de la images (por ejemplo, camiseta, zapatillas...)\n",
    "\n",
    "Antes de descargar los datos, definiremos una función para convertir las imágenes originales (PIL arrays) a Tensores."
   ],
   "id": "c483fd45c8cdc15b"
  },
  {
   "metadata": {
    "ExecuteTime": {
     "end_time": "2025-05-12T12:27:48.300664Z",
     "start_time": "2025-05-12T12:27:48.261558Z"
    }
   },
   "cell_type": "code",
   "source": [
    "def collate_fn(batch):\n",
    "    process = transforms.Compose([transforms.Pad([2]), transforms.ConvertImageDtype(torch.float32)])\n",
    "\n",
    "    positive_samples = [process(data[0][0]) for data in batch]\n",
    "    positive_samples = torch.stack(positive_samples, dim=0).unsqueeze(dim=1)\n",
    "\n",
    "    anchor_samples = [process(data[0][1]) for data in batch]\n",
    "    anchor_samples = torch.stack(anchor_samples, dim=0).unsqueeze(dim=1)\n",
    "\n",
    "    negative_samples = [process(data[0][2]) for data in batch]\n",
    "    negative_samples = torch.stack(negative_samples, dim=0).unsqueeze(dim=1)\n",
    "\n",
    "    # y - labels, hay que convertirlos al tipo LongTensor\n",
    "    y = torch.LongTensor([data[1] for data in batch])\n",
    "\n",
    "    return [positive_samples, anchor_samples, negative_samples], y"
   ],
   "id": "4c7795e3d1c25501",
   "outputs": [],
   "execution_count": 4
  },
  {
   "metadata": {},
   "cell_type": "markdown",
   "source": "A continuación se descargan los datos:",
   "id": "42e848e804cce531"
  },
  {
   "cell_type": "code",
   "id": "20f67973d4bbfb7d",
   "metadata": {
    "ExecuteTime": {
     "end_time": "2025-05-12T12:27:48.917264Z",
     "start_time": "2025-05-12T12:27:48.315011Z"
    }
   },
   "source": [
    "labels = [\"Camiseta\",\n",
    "          \"Vaqueros\",\n",
    "          \"Jersey\",\n",
    "          \"Vestido\",\n",
    "          \"Abrigo\",\n",
    "          \"Sandalia\",\n",
    "          \"Falda\",\n",
    "          \"Deportiva\",\n",
    "          \"Bolso\",\n",
    "          \"Zapato\"]\n",
    "\n",
    "# Descarga de los datos\n",
    "train_data = FashionMNIST(\"./MNIST_DATA\", train=True, download=True)\n",
    "valid_data = FashionMNIST(\"./MNIST_DATA\", train=False, download=True)"
   ],
   "outputs": [],
   "execution_count": 5
  },
  {
   "metadata": {},
   "cell_type": "markdown",
   "source": [
    "En esta ocasión, vamos a aprender a generar un ``DataLoader`` propio para poder generar los datos necesarios para la función de pérdida de __triplet loss__. Esta función de pérdida requiere de tres componentes:\n",
    " - **Muestra positiva**: Representa el lote de datos que vamos a clasificar.\n",
    " - **Muestra de anclaje**: Para cada muestra del primer lote, este segundo lote contiene muestras que pertenezcan a la misma clase que las muestras positivas. Nos servirán para forzar a que la red aprenda a clasificar estas muestras cerca unas de otras.\n",
    "- **Muestra negativa**: Para cada muestra del primer lote, este segundo lote contiene muestras que pertenezcan a una clase diferente a las de las muestras positivas. Nos servirán para forzar a que la red aprenda a clasificar estas muestras lejos de las muestras positivas.\n",
    "\n",
    "En base a lo anterior, definiremos nuestro nuevo ``DataLoader`` para que tenga la capacidad de generar estos tres tipos de muestras:\n"
   ],
   "id": "9347cda691c0a565"
  },
  {
   "metadata": {
    "ExecuteTime": {
     "end_time": "2025-05-12T12:27:48.949570Z",
     "start_time": "2025-05-12T12:27:48.927497Z"
    }
   },
   "cell_type": "code",
   "source": [
    "class TripletDataset(Dataset):\n",
    "    def __init__(self, data, labels):\n",
    "        self.data = data\n",
    "        self.labels = labels\n",
    "        self.indices = torch.arange(0, len(data))\n",
    "        self.classes, self.imgs_per_class = torch.unique(labels, return_counts=True)\n",
    "\n",
    "    def __len__(self):\n",
    "        return self.imgs_per_class[0]\n",
    "\n",
    "    def __getitem__(self, positive_idx):\n",
    "        anchor_class = self.labels[positive_idx]\n",
    "        negative_class = random.choice([c for c in self.classes if c != anchor_class])\n",
    "\n",
    "        aux = self.labels == anchor_class\n",
    "        aux[positive_idx] = 0  # No queremos escoger como anchor el mismo id de imagen que positive\n",
    "        anchor_idx = random.choice(self.indices[aux])\n",
    "        negative_idx = random.choice(self.indices[self.labels == negative_class])\n",
    "\n",
    "        positive_img = self.data[positive_idx]\n",
    "        anchor_img = self.data[anchor_idx]\n",
    "        negative_img = self.data[negative_idx]\n",
    "\n",
    "        return [positive_img, anchor_img, negative_img], self.labels[positive_idx]\n",
    "\n",
    "# Generamos los DataLoader\n",
    "train_loader = DataLoader(TripletDataset(train_data.data, train_data.targets), batch_size=config[\"batch_size\"],\n",
    "                          shuffle=True, collate_fn=collate_fn)\n",
    "valid_loader = DataLoader(TripletDataset(valid_data.data, valid_data.targets), batch_size=config[\"batch_size\"],\n",
    "                           shuffle=False, collate_fn=collate_fn)"
   ],
   "id": "57930a5f8e1369c5",
   "outputs": [],
   "execution_count": 6
  },
  {
   "metadata": {},
   "cell_type": "markdown",
   "source": [
    "Los conjuntos descargados incluyen:\n",
    "   - **Conjunto de entrenamiento**: Compuesto por las imágenes que usaremos para entrenar y actualizar los parámetros de la red\n",
    "   - **Conjunto de validación**: Cada un número determinado de epochs, evaluremos este conjunto con la red para obtener una predicción. Esta predicción **NO SE USARÁ PARA ENTRENAR LA RED**. El objetivo es evaluar si las predicciones son las correctas para determinar si la red neuronal tiene capacidad de generalización o está aprendiendo a memorizar los datos de entrenamiento\n",
    "\n",
    "Una vez hemos descargado los datos, podemos hacer una comprobación rápida para inspeccionar las imágenes:"
   ],
   "id": "7b7183ede1b5decc"
  },
  {
   "cell_type": "code",
   "id": "536cac402bb51991",
   "metadata": {
    "ExecuteTime": {
     "end_time": "2025-05-12T12:27:49.102198Z",
     "start_time": "2025-05-12T12:27:48.975656Z"
    }
   },
   "source": [
    "print(\"Inspección de los datos de entrenamiento: \")\n",
    "for _, data in enumerate(train_loader):\n",
    "    print(\"Tamaño del lote: \", data[0][0].shape)\n",
    "    fig, ax = plt.subplots(1, 4, figsize=(10, 4))\n",
    "\n",
    "    for i in range(4):\n",
    "        ax[i].imshow(data[0][0][i].squeeze().numpy(), cmap=\"gray\")\n",
    "        ax[i].axis(\"off\")\n",
    "        ax[i].set_title(labels[data[1][i]])\n",
    "    plt.show()\n",
    "    # Usamos break para no recorrer todo el DataLoader\n",
    "    break"
   ],
   "outputs": [
    {
     "name": "stdout",
     "output_type": "stream",
     "text": [
      "Inspección de los datos de entrenamiento: \n",
      "Tamaño del lote:  torch.Size([64, 1, 32, 32])\n"
     ]
    },
    {
     "data": {
      "text/plain": [
       "<Figure size 1000x400 with 4 Axes>"
      ],
      "image/png": "[encoded data removed]"
     },
     "metadata": {},
     "output_type": "display_data"
    }
   ],
   "execution_count": 7
  },
  {
   "metadata": {},
   "cell_type": "markdown",
   "source": "A continuación vamos a definir nuestra __triplet loss__. La definiremos como una clase para que sea más sencillo de utilizar en el loop de entrenamiento:",
   "id": "414ea2fe74c956e9"
  },
  {
   "metadata": {
    "ExecuteTime": {
     "end_time": "2025-05-12T12:27:49.119308Z",
     "start_time": "2025-05-12T12:27:49.116286Z"
    }
   },
   "cell_type": "code",
   "source": [
    "class TripletMarginLoss(nn.Module):\n",
    "    def __init__(self, margin=1.0):\n",
    "        super(TripletMarginLoss, self).__init__()\n",
    "        self.margin = margin\n",
    "\n",
    "    def forward(self, positive, anchor, negative):\n",
    "        pos_dist = torch.nn.functional.pairwise_distance(anchor, positive)\n",
    "        neg_dist = torch.nn.functional.pairwise_distance(anchor, negative)\n",
    "        loss = torch.mean(torch.relu(pos_dist - neg_dist + self.margin))\n",
    "        return loss"
   ],
   "id": "c93b68f28656ceb",
   "outputs": [],
   "execution_count": 8
  },
  {
   "metadata": {},
   "cell_type": "markdown",
   "source": "Ha llegado el momento de definir nuestra red neuronal de codificación y decodificación. En primer lugar, definiremos una seria de atributos que serán de utilidad para definir las capas de nuestras redes:",
   "id": "8039a23a7fbcca67"
  },
  {
   "cell_type": "code",
   "id": "a9ba3f6791e5dbb2",
   "metadata": {
    "ExecuteTime": {
     "end_time": "2025-05-12T12:27:49.203846Z",
     "start_time": "2025-05-12T12:27:49.199888Z"
    }
   },
   "source": [
    "# Model parameters:\n",
    "LAYERS = 3  # Cantidad de capas en la red\n",
    "KERNELS = [3, 3, 3]  # Tamaño del kernel de convolución (uno para cada capa)\n",
    "CHANNELS = [32, 64, 128]  # Cantidad de canales/filtros que se calcularán en cada capa\n",
    "STRIDES = [2, 2, 2]  # Parámetro que determina el movimiento del filtro a través de los datos de entrada. Al realizar una operación de convolución, este parámetros determina cuántas unidades se desplaza el filtro en cada paso. Este desplazamiento puede ser horizontal, vertical o ambos, según su configuración.\n",
    "LINEAR_DIM = 2048  # Tamaño de las capas densas (el número de neuronas de cada capa densa)"
   ],
   "outputs": [],
   "execution_count": 9
  },
  {
   "metadata": {},
   "cell_type": "markdown",
   "source": "Ahora definimos la red de codificación:",
   "id": "c4f25fb39d2bc9d4"
  },
  {
   "cell_type": "code",
   "id": "ecd15a664b9c57ac",
   "metadata": {
    "ExecuteTime": {
     "end_time": "2025-05-12T12:27:50.125735Z",
     "start_time": "2025-05-12T12:27:49.265370Z"
    }
   },
   "source": [
    "# Siempre que definimos una red, creamos una clase que hereda de nn.Module\n",
    "class Encoder(nn.Module):\n",
    "\n",
    "    def __init__(self, output_dim=2, use_batchnorm=False, use_dropout=False):\n",
    "        super(Encoder, self).__init__()\n",
    "\n",
    "        # Dimensión del espacio codificado (espacio latente)\n",
    "        self.output_dim = output_dim\n",
    "\n",
    "        # Variables que determinan si se usan capas de dropout y de normalización de lotes\n",
    "        self.use_dropout = use_dropout\n",
    "        self.use_batchnorm = use_batchnorm\n",
    "\n",
    "        # Hyperparámetros de las capas convolucionales\n",
    "        self.layers = LAYERS\n",
    "        self.kernels = KERNELS\n",
    "        self.channels = CHANNELS\n",
    "        self.strides = STRIDES\n",
    "        self.conv = self.get_convs()  # Esta función define las capas como un modelo secuencial (es opcional, pero ayuda a organizar el código)\n",
    "\n",
    "        # Capas densas para generar el espacio latente\n",
    "        self.fc_dim = LINEAR_DIM\n",
    "        self.flatten = nn.Flatten()\n",
    "        self.linear = nn.Linear(self.fc_dim, self.output_dim)\n",
    "\n",
    "\n",
    "    def get_convs(self):\n",
    "        \"\"\"\n",
    "        generating convolutional layers based on model's\n",
    "        hyper parameters\n",
    "        \"\"\"\n",
    "        conv_layers = nn.Sequential()  # Definimos un modelo secuencial (cada capa se ejecuta una detrás de otra)\n",
    "        for i in range(self.layers):\n",
    "            if i == 0: conv_layers.append(nn.Conv2d(1,  # Número de canales de la imagen de entrada (1 si es imagen en escala de grises, 3 si es RGB)\n",
    "                                              self.channels[i],  # Número de filtros que genera esta capa en la salida\n",
    "                                              kernel_size=self.kernels[i],\n",
    "                                              stride=self.strides[i],\n",
    "                                              padding=1)\n",
    "                                         )\n",
    "\n",
    "            else: conv_layers.append(nn.Conv2d(self.channels[i-1],\n",
    "                                         self.channels[i],\n",
    "                                         kernel_size=self.kernels[i],\n",
    "                                         stride=self.strides[i],\n",
    "                                         padding=1))\n",
    "\n",
    "            if self.use_batchnorm:\n",
    "                conv_layers.append(nn.BatchNorm2d(self.channels[i]))\n",
    "\n",
    "            # Here we use ReLU as activation function\n",
    "            conv_layers.append(nn.ReLU())\n",
    "\n",
    "            if self.use_dropout:\n",
    "                conv_layers.append(nn.Dropout2d(0.15))\n",
    "\n",
    "        return conv_layers\n",
    "\n",
    "\n",
    "    # Este método es obligatorio y se usa para determinar el flujo de ejecución de la red neuronal\n",
    "    def forward(self, x):\n",
    "        x = self.conv(x)\n",
    "        x = self.flatten(x)\n",
    "        return self.linear(x)\n",
    "\n",
    "summary(Encoder().to(DEVICE), input_size=(1,32,32))"
   ],
   "outputs": [
    {
     "name": "stdout",
     "output_type": "stream",
     "text": [
      "----------------------------------------------------------------\n",
      "        Layer (type)               Output Shape         Param #\n",
      "================================================================\n",
      "            Conv2d-1           [-1, 32, 16, 16]             320\n",
      "              ReLU-2           [-1, 32, 16, 16]               0\n",
      "            Conv2d-3             [-1, 64, 8, 8]          18,496\n",
      "              ReLU-4             [-1, 64, 8, 8]               0\n",
      "            Conv2d-5            [-1, 128, 4, 4]          73,856\n",
      "              ReLU-6            [-1, 128, 4, 4]               0\n",
      "           Flatten-7                 [-1, 2048]               0\n",
      "            Linear-8                    [-1, 2]           4,098\n",
      "================================================================\n",
      "Total params: 96,770\n",
      "Trainable params: 96,770\n",
      "Non-trainable params: 0\n",
      "----------------------------------------------------------------\n",
      "Input size (MB): 0.00\n",
      "Forward/backward pass size (MB): 0.23\n",
      "Params size (MB): 0.37\n",
      "Estimated Total Size (MB): 0.61\n",
      "----------------------------------------------------------------\n"
     ]
    }
   ],
   "execution_count": 10
  },
  {
   "metadata": {},
   "cell_type": "markdown",
   "source": "A continuación definimos la red de decodificación, que es un espejo de la red de codificación (aunque no es obligatorio):",
   "id": "cf60edce60ea1345"
  },
  {
   "cell_type": "code",
   "id": "d6c534f7a12e5896",
   "metadata": {
    "ExecuteTime": {
     "end_time": "2025-05-12T12:27:50.295370Z",
     "start_time": "2025-05-12T12:27:50.180362Z"
    }
   },
   "source": [
    "class Decoder(nn.Module):\n",
    "\n",
    "    def __init__(self, input_dim=2, use_batchnorm=False, use_dropout=False):\n",
    "\n",
    "        super(Decoder, self).__init__()\n",
    "\n",
    "        # Variables que determinan si se usan capas de dropout y de normalización de lotes\n",
    "        self.use_dropout = use_dropout\n",
    "        self.use_batchnorm = use_batchnorm\n",
    "\n",
    "        self.fc_dim = LINEAR_DIM\n",
    "        self.input_dim = input_dim\n",
    "\n",
    "        # Hyperparámetros de las capas convolucionales\n",
    "        self.layers = LAYERS\n",
    "        self.kernels = KERNELS\n",
    "        self.channels = CHANNELS[::-1] # flip the channel dimensions\n",
    "        self.strides = STRIDES\n",
    "\n",
    "        # Al ser un espejo de la red de codificación, primero usaremos capas densas y luego convolucionales transpuestas\n",
    "        self.linear = nn.Linear(self.input_dim, self.fc_dim)\n",
    "        self.conv =  self.get_convs()\n",
    "\n",
    "        self.output = nn.Conv2d(self.channels[-1], 1, kernel_size=1, stride=1)\n",
    "\n",
    "    def get_convs(self):\n",
    "        conv_layers = nn.Sequential()\n",
    "        for i in range(self.layers):\n",
    "\n",
    "            if i == 0: conv_layers.append(\n",
    "                            nn.ConvTranspose2d(self.channels[i],\n",
    "                                               self.channels[i],\n",
    "                                               kernel_size=self.kernels[i],\n",
    "                                               stride=self.strides[i],\n",
    "                                               padding=1,\n",
    "                                               output_padding=1)\n",
    "                            )\n",
    "\n",
    "            else: conv_layers.append(\n",
    "                            nn.ConvTranspose2d(self.channels[i-1],\n",
    "                                               self.channels[i],\n",
    "                                               kernel_size=self.kernels[i],\n",
    "                                               stride=self.strides[i],\n",
    "                                               padding=1,\n",
    "                                               output_padding=1\n",
    "                                              )\n",
    "                            )\n",
    "\n",
    "            if self.use_batchnorm and i != self.layers - 1:\n",
    "                conv_layers.append(nn.BatchNorm2d(self.channels[i]))\n",
    "\n",
    "            conv_layers.append(nn.ReLU())\n",
    "\n",
    "            if self.use_dropout:\n",
    "                conv_layers.append(nn.Dropout2d(0.15))\n",
    "\n",
    "        return conv_layers\n",
    "\n",
    "\n",
    "    def forward(self, x):\n",
    "        x = self.linear(x)\n",
    "        # reshape 3D tensor to 4D tensor\n",
    "        x = x.reshape(x.shape[0], 128, 4, 4)\n",
    "        x = self.conv(x)\n",
    "        return self.output(x)\n",
    "\n",
    "summary(Decoder().to(DEVICE), input_size=(2, ))"
   ],
   "outputs": [
    {
     "name": "stdout",
     "output_type": "stream",
     "text": [
      "----------------------------------------------------------------\n",
      "        Layer (type)               Output Shape         Param #\n",
      "================================================================\n",
      "            Linear-1                 [-1, 2048]           6,144\n",
      "   ConvTranspose2d-2            [-1, 128, 8, 8]         147,584\n",
      "              ReLU-3            [-1, 128, 8, 8]               0\n",
      "   ConvTranspose2d-4           [-1, 64, 16, 16]          73,792\n",
      "              ReLU-5           [-1, 64, 16, 16]               0\n",
      "   ConvTranspose2d-6           [-1, 32, 32, 32]          18,464\n",
      "              ReLU-7           [-1, 32, 32, 32]               0\n",
      "            Conv2d-8            [-1, 1, 32, 32]              33\n",
      "================================================================\n",
      "Total params: 246,017\n",
      "Trainable params: 246,017\n",
      "Non-trainable params: 0\n",
      "----------------------------------------------------------------\n",
      "Input size (MB): 0.00\n",
      "Forward/backward pass size (MB): 0.90\n",
      "Params size (MB): 0.94\n",
      "Estimated Total Size (MB): 1.84\n",
      "----------------------------------------------------------------\n"
     ]
    }
   ],
   "execution_count": 11
  },
  {
   "metadata": {},
   "cell_type": "markdown",
   "source": "Una vez hemos definido las dos redes neuronales, es conveniente hacer una nueva red neuronal que aune las dos anteriores. Esta nueva red será nuestro **_autoencoder_** y simplificará enormemente su uso más adelante:",
   "id": "36cfd9e80e21233f"
  },
  {
   "cell_type": "code",
   "id": "1cb8798d703f616d",
   "metadata": {
    "ExecuteTime": {
     "end_time": "2025-05-12T12:27:50.355257Z",
     "start_time": "2025-05-12T12:27:50.343752Z"
    }
   },
   "source": [
    "class AutoEncoder(nn.Module):\n",
    "\n",
    "    def __init__(self):\n",
    "        super(AutoEncoder, self).__init__()\n",
    "        self.encoder = Encoder(output_dim=2,\n",
    "                               use_batchnorm=True, use_dropout=False)\n",
    "        self.decoder = Decoder(input_dim=2,\n",
    "                               use_batchnorm=True, use_dropout=False)\n",
    "\n",
    "    def forward(self, x):\n",
    "        return self.decoder(self.encoder(x))\n",
    "\n",
    "model = AutoEncoder()\n",
    "model.to(DEVICE)"
   ],
   "outputs": [
    {
     "data": {
      "text/plain": [
       "AutoEncoder(\n",
       "  (encoder): Encoder(\n",
       "    (conv): Sequential(\n",
       "      (0): Conv2d(1, 32, kernel_size=(3, 3), stride=(2, 2), padding=(1, 1))\n",
       "      (1): BatchNorm2d(32, eps=1e-05, momentum=0.1, affine=True, track_running_stats=True)\n",
       "      (2): ReLU()\n",
       "      (3): Conv2d(32, 64, kernel_size=(3, 3), stride=(2, 2), padding=(1, 1))\n",
       "      (4): BatchNorm2d(64, eps=1e-05, momentum=0.1, affine=True, track_running_stats=True)\n",
       "      (5): ReLU()\n",
       "      (6): Conv2d(64, 128, kernel_size=(3, 3), stride=(2, 2), padding=(1, 1))\n",
       "      (7): BatchNorm2d(128, eps=1e-05, momentum=0.1, affine=True, track_running_stats=True)\n",
       "      (8): ReLU()\n",
       "    )\n",
       "    (flatten): Flatten(start_dim=1, end_dim=-1)\n",
       "    (linear): Linear(in_features=2048, out_features=2, bias=True)\n",
       "  )\n",
       "  (decoder): Decoder(\n",
       "    (linear): Linear(in_features=2, out_features=2048, bias=True)\n",
       "    (conv): Sequential(\n",
       "      (0): ConvTranspose2d(128, 128, kernel_size=(3, 3), stride=(2, 2), padding=(1, 1), output_padding=(1, 1))\n",
       "      (1): BatchNorm2d(128, eps=1e-05, momentum=0.1, affine=True, track_running_stats=True)\n",
       "      (2): ReLU()\n",
       "      (3): ConvTranspose2d(128, 64, kernel_size=(3, 3), stride=(2, 2), padding=(1, 1), output_padding=(1, 1))\n",
       "      (4): BatchNorm2d(64, eps=1e-05, momentum=0.1, affine=True, track_running_stats=True)\n",
       "      (5): ReLU()\n",
       "      (6): ConvTranspose2d(64, 32, kernel_size=(3, 3), stride=(2, 2), padding=(1, 1), output_padding=(1, 1))\n",
       "      (7): ReLU()\n",
       "    )\n",
       "    (output): Conv2d(32, 1, kernel_size=(1, 1), stride=(1, 1))\n",
       "  )\n",
       ")"
      ]
     },
     "execution_count": 12,
     "metadata": {},
     "output_type": "execute_result"
    }
   ],
   "execution_count": 12
  },
  {
   "metadata": {},
   "cell_type": "markdown",
   "source": "Una vez definido nuestro autoencoder, podemos empezar a escribir nuestro loop de entrenamiento. Sin embargo, antes de hablar sobre el entrenamiento, vamos a definir una serie de funciones para representar el espacio latente codificado a medida que entrenamos, para así poder comprender como la red neuronal aprende de manera progresiva a clasificar nuestro datos:",
   "id": "93810a1cb4ab5ccd"
  },
  {
   "cell_type": "code",
   "id": "88ef725126b061f7",
   "metadata": {
    "ExecuteTime": {
     "end_time": "2025-05-12T12:27:50.449014Z",
     "start_time": "2025-05-12T12:27:50.444502Z"
    }
   },
   "source": [
    "def plotting(step:int=0, show=False):\n",
    "\n",
    "    model.eval()  # Pasamos el modelo a modo evaluación (en este modo, las capas de Dropout y BatchNorm se desactivan para mejorar la precisión de las predicciones)\n",
    "\n",
    "    points = []\n",
    "    label_idcs = []\n",
    "\n",
    "    path = \"./ScatterPlots_TripletLoss\"\n",
    "    if not os.path.exists(path): os.mkdir(path)\n",
    "\n",
    "    for i, data in enumerate(valid_loader):\n",
    "        img, label = [d for d in data]\n",
    "        img = img[0].to(DEVICE)\n",
    "        # Solo necesitamos codificar las imágenes\n",
    "        proj = model.encoder(img)\n",
    "        points.extend(proj.detach().cpu().numpy())\n",
    "        label_idcs.extend(label.detach().cpu().numpy())\n",
    "        del img, label\n",
    "\n",
    "    points = np.array(points)\n",
    "\n",
    "    # Creamos nuestra gráfica\n",
    "    fig, ax = plt.subplots(figsize=(10, 10) if not show else (8, 8))\n",
    "    scatter = ax.scatter(x=points[:, 0], y=points[:, 1], s=5.0,\n",
    "                c=label_idcs, cmap='tab10', alpha=0.9, zorder=2)\n",
    "    plt.title(\"Step {}\".format(step))\n",
    "    handles, _ = scatter.legend_elements()\n",
    "    plt.legend(handles=handles, labels=labels)\n",
    "\n",
    "    ax.spines[\"right\"].set_visible(False)\n",
    "    ax.spines[\"top\"].set_visible(False)\n",
    "\n",
    "    #ax.set_xlim([-10, 10])\n",
    "    #ax.set_ylim([-10, 10])\n",
    "\n",
    "    if show:\n",
    "        ax.grid(True, color=\"lightgray\", alpha=1.0, zorder=0)\n",
    "        plt.show()\n",
    "    else:\n",
    "        # Aqui guardamos la gráfica actual\n",
    "        plt.savefig(f\"{path}/Step_{step:04d}.png\", bbox_inches=\"tight\")\n",
    "        plt.close() # Es importante no olvidarse de cerrar la figura para que no se quede cargada en memoria\n",
    "        model.train()\n",
    "\n",
    "# Conversión de las gráficas a un formato GIF\n",
    "def save_gif():\n",
    "\n",
    "  frames = []\n",
    "  imgs = sorted(os.listdir(\"./ScatterPlots_TripletLoss\"))\n",
    "\n",
    "  for im in imgs:\n",
    "      new_frame = Image.open(\"./ScatterPlots_TripletLoss/\" + im)\n",
    "      frames.append(new_frame)\n",
    "\n",
    "  frames[0].save(\"latentspace_triplet_loss.gif\", format=\"GIF\",\n",
    "                 append_images=frames[1:],\n",
    "                 save_all=True,\n",
    "                 duration=200, loop=0)"
   ],
   "outputs": [],
   "execution_count": 13
  },
  {
   "metadata": {},
   "cell_type": "markdown",
   "source": "Antes de definir el loop de entrenamiento, vamos a definir unas variables de configuración y el optimizador para poder usarlas durante el entrenamiento:",
   "id": "8d64d82d775f834c"
  },
  {
   "cell_type": "code",
   "id": "912c4a969fd8493c",
   "metadata": {
    "ExecuteTime": {
     "end_time": "2025-05-12T12:27:50.502486Z",
     "start_time": "2025-05-12T12:27:50.499318Z"
    }
   },
   "source": [
    "criterion = nn.MSELoss()  # Usaremos como función de péridida el error cuadrático medio\n",
    "triplet_loss_fn = TripletMarginLoss(margin=1.0)  # El atributo \"margin\" controla como de cerca se tenderán a colocar muestras pertenecientes a la misma clase (así evitamos overfitting)\n",
    "optimizer = torch.optim.AdamW(model.parameters(), lr=config[\"lr\"], weight_decay=1e-5)\n",
    "\n",
    "# For mixed precision training\n",
    "scaler = torch.amp.GradScaler(\"cuda\")  # Para poder hacer mixed precision training (explicación en la siguiente celda)\n",
    "steps = 0  # Variable para contar el número de steps/lotes que ha ido viendo la red"
   ],
   "outputs": [],
   "execution_count": 14
  },
  {
   "metadata": {},
   "cell_type": "markdown",
   "source": [
    "### UN POCO DE TEORÍA SOBRE EL ENTRENAMIENTO CON MEZCLA DE PRECISIÓN\n",
    "\n",
    "Como se puede ver en la celda anterior, hemos definido una variable llamada \"scaler\". Esta variable nos permitirá hacer un entrenamiento con mezcla de precisión.\n",
    "\n",
    "Durante el entrenamiento estándar de redes neuronales, se utiliza `Float32` para representar los parámetros del modelo, a costa de un mayor requerimiento de memoria. En el entrenamiento de precisión mixta, se utiliza ``Float16`` para almacenar los pesos, las activaciones y los gradientes durante las iteraciones de entrenamiento.\n",
    "\n",
    "Sin embargo, como vimos anteriormente, esto crea un problema, ya que el rango de valores que puede almacenar ``Float16`` es menor que el de ``Float32``, y la precisión disminuye a medida que el número se reduce. Esto se traduce en una disminución de la precisión del modelo, en consonancia con la precisión de los valores de punto flotante calculados.\n",
    "\n",
    "Para evitar esto, se almacena una copia maestra de los pesos en ``Float32``. Esta se convierte a ``Float16`` durante parte de cada iteración de entrenamiento (un pase hacia adelante, backpropagation y actualización de pesos). Al final de la iteración, los gradientes de pesos se utilizan para actualizar los pesos maestros durante el paso del optimizador.\n",
    "\n",
    "Aquí, podemos observar la ventaja de conservar la copia ``Float32`` de los pesos. Dado que la tasa de aprendizaje suele ser baja, al multiplicarlos por los gradientes, estos pueden ser valores minúsculos. Para Float16, cualquier número con una magnitud menor a 2<sup>-24</sup> se equiparará a cero, ya que no se puede representar (este es el límite desnormalizado para ``Float16``). Por lo tanto, al completar las actualizaciones en ``Float32``, estos valores de actualización se pueden conservar.\n",
    "\n",
    "Por lo anterior, es conveniente hacer una escalado de la función de pérdidas, un proceso mediante el cual el valor de la pérdida se multiplica por un factor de escala después de completar el paso hacia adelante y antes de la backprogation. La regla de la cadena dicta que todos los gradientes se escalan posteriormente por el mismo factor, lo que los mantiene dentro del rango de ``Float16``.\n",
    "\n",
    "Una vez calculados los gradientes, se pueden dividir por el mismo factor de escala, antes de usarlos para actualizar los pesos maestros en ``Float32``, como se describe en la sección anterior.\n",
    "\n",
    "El uso de ``Float16`` y ``Float32`` es la razón por la que esta técnica se denomina entrenamiento de precisión mixta.\n",
    "\n"
   ],
   "id": "54d1efb607602562"
  },
  {
   "metadata": {},
   "cell_type": "markdown",
   "source": [
    "A continuación vamos a deifinir el loop de entraniento. Para tener el código más ordenado, definiremos dos funciones:\n",
    "   - **Función \"train\"**: Contiene toda la lógica necesaria para entrenar el modelo durante una epoch completa\n",
    "   - **Función \"validate\"**: Contiene toda la lógica para evaluar el módelo en un conjunto de datos (pero sin actualizar los parámetros de la red con estos datos)"
   ],
   "id": "5da0cc706018517e"
  },
  {
   "cell_type": "code",
   "id": "9a2c922f39064606",
   "metadata": {
    "ExecuteTime": {
     "end_time": "2025-05-12T12:27:50.566213Z",
     "start_time": "2025-05-12T12:27:50.561003Z"
    }
   },
   "source": [
    "def train(model, dataloader, criterion, triplet_loss_fn, optimizer, save_distrib=False):\n",
    "    # Esta variable solo la usamos para hacer un seguimiento del entranamiento y poder guardar los espacios latentes\n",
    "    global steps\n",
    "\n",
    "    model.train()\n",
    "    train_loss = 0.0\n",
    "\n",
    "    # Barra de progreso\n",
    "    batch_bar = tqdm(total=len(dataloader), dynamic_ncols=True,\n",
    "                     leave=False, position=0, desc=\"Train\")\n",
    "\n",
    "    for i, batch in enumerate(dataloader):\n",
    "\n",
    "        optimizer.zero_grad()\n",
    "        positives = batch[0][0].to(DEVICE)\n",
    "        anchors = batch[0][1].to(DEVICE)\n",
    "        negatives = batch[0][2].to(DEVICE)\n",
    "\n",
    "        # Aquí implementamos el entrenamiento con mezcla de precisión\n",
    "        with torch.amp.autocast(\"cuda\"):\n",
    "            latent_positives = model.encoder(positives)\n",
    "            latent_anchors = model.encoder(anchors)\n",
    "            latent_negatives = model.encoder(negatives)\n",
    "            y_recons = model.decoder(latent_positives)\n",
    "            triplet_loss = triplet_loss_fn(latent_positives, latent_anchors, latent_negatives)\n",
    "            representation_loss = criterion(y_recons, positives)\n",
    "            loss = representation_loss + triplet_loss\n",
    "\n",
    "        train_loss += loss.item()\n",
    "\n",
    "        scaler.scale(loss).backward()\n",
    "        scaler.step(optimizer)\n",
    "        scaler.update()\n",
    "\n",
    "        batch_bar.set_postfix(\n",
    "            loss=f\"{train_loss/(i+1):.4f}\",\n",
    "            lr = f\"{optimizer.param_groups[0]['lr']:.4f}\"\n",
    "        )\n",
    "        batch_bar.update()\n",
    "\n",
    "        # Guardamos el estado del espacio latente para su posterior visualización\n",
    "        if steps % 100 == 0 and save_distrib and steps <= 4000: plotting(steps)\n",
    "        steps += 1\n",
    "\n",
    "        # Eliminamos el cache no necesario de la GPU para ahorrar memoriar\n",
    "        torch.cuda.empty_cache()\n",
    "        del positives, anchors, negatives, y_recons\n",
    "\n",
    "    batch_bar.close()\n",
    "    train_loss /= len(dataloader)\n",
    "\n",
    "    return train_loss\n",
    "\n",
    "\n",
    "def validate(model, dataloader, criterion, triplet_loss_fn):\n",
    "\n",
    "    model.eval()  # Usamos el modelo en modo evaluación (capas de Dropout y BatchNorm desactivadas)\n",
    "    valid_loss = 0.0\n",
    "\n",
    "    # Barra de progreso\n",
    "    batch_bar = tqdm(total=len(dataloader), dynamic_ncols=True,\n",
    "                     leave=False, position=0, desc=\"Validation\")\n",
    "\n",
    "    for i, batch in enumerate(dataloader):\n",
    "        positives = batch[0][0].to(DEVICE)\n",
    "        anchors = batch[0][1].to(DEVICE)\n",
    "        negatives = batch[0][2].to(DEVICE)\n",
    "\n",
    "        with torch.no_grad():  # No necesitamos los gradientes en la validación\n",
    "            latent_positives = model.encoder(positives)\n",
    "            latent_anchors = model.encoder(anchors)\n",
    "            latent_negatives = model.encoder(negatives)\n",
    "            y_recons = model.decoder(latent_positives)\n",
    "            triplet_loss = triplet_loss_fn(latent_positives, latent_anchors, latent_negatives)\n",
    "            representation_loss = criterion(y_recons, positives)\n",
    "            loss = representation_loss + triplet_loss\n",
    "\n",
    "        valid_loss += loss.item()\n",
    "\n",
    "        batch_bar.set_postfix(\n",
    "            loss=f\"{valid_loss/(i+1):.4f}\",\n",
    "            lr = f\"{optimizer.param_groups[0]['lr']:.4f}\"\n",
    "        )\n",
    "        batch_bar.update()\n",
    "\n",
    "        torch.cuda.empty_cache()\n",
    "        del positives, anchors, negatives, y_recons\n",
    "\n",
    "    batch_bar.close()\n",
    "    valid_loss /= len(dataloader)\n",
    "\n",
    "    return valid_loss"
   ],
   "outputs": [],
   "execution_count": 15
  },
  {
   "metadata": {},
   "cell_type": "markdown",
   "source": "A continuación definimos el loop de entrenamiento y entrenamos nuestra red neuronal:",
   "id": "d6dcf54432994e63"
  },
  {
   "cell_type": "code",
   "id": "933bc06c819164ff",
   "metadata": {
    "ExecuteTime": {
     "end_time": "2025-05-12T12:31:52.886230Z",
     "start_time": "2025-05-12T12:27:50.638900Z"
    }
   },
   "source": [
    "for i in range(config[\"epochs\"]):\n",
    "\n",
    "    curr_lr = float(optimizer.param_groups[0][\"lr\"])\n",
    "    train_loss = train(model, train_loader, criterion,\n",
    "                       triplet_loss_fn, optimizer, save_distrib=True)\n",
    "    valid_loss = validate(model, valid_loader, criterion, triplet_loss_fn)\n",
    "\n",
    "    print(f\"Epoch {i+1}/{config['epochs']}\\nTrain loss: {train_loss:.4f}\\t Validation loss: {valid_loss:.4f}\\tlr: {curr_lr:.4f}\")"
   ],
   "outputs": [
    {
     "data": {
      "text/plain": [
       "Train:   0%|          | 0/94 [00:00<?, ?it/s]"
      ],
      "application/vnd.jupyter.widget-view+json": {
       "version_major": 2,
       "version_minor": 0,
       "model_id": "7d947eb0815b4d00a3fbf5998074a07c"
      }
     },
     "metadata": {},
     "output_type": "display_data"
    },
    {
     "data": {
      "text/plain": [
       "Validation:   0%|          | 0/16 [00:00<?, ?it/s]"
      ],
      "application/vnd.jupyter.widget-view+json": {
       "version_major": 2,
       "version_minor": 0,
       "model_id": "230e1d3af08a44ebb64e792f94ca85d5"
      }
     },
     "metadata": {},
     "output_type": "display_data"
    },
    {
     "name": "stdout",
     "output_type": "stream",
     "text": [
      "Epoch 1/50\n",
      "Train loss: 0.4430\t Validation loss: 0.2990\tlr: 0.0001\n"
     ]
    },
    {
     "data": {
      "text/plain": [
       "Train:   0%|          | 0/94 [00:00<?, ?it/s]"
      ],
      "application/vnd.jupyter.widget-view+json": {
       "version_major": 2,
       "version_minor": 0,
       "model_id": "1ec4cd353cd54fdcaac7b5be0ff9f947"
      }
     },
     "metadata": {},
     "output_type": "display_data"
    },
    {
     "data": {
      "text/plain": [
       "Validation:   0%|          | 0/16 [00:00<?, ?it/s]"
      ],
      "application/vnd.jupyter.widget-view+json": {
       "version_major": 2,
       "version_minor": 0,
       "model_id": "65ef77eaec6b4bd387fd42a9431b38f5"
      }
     },
     "metadata": {},
     "output_type": "display_data"
    },
    {
     "name": "stdout",
     "output_type": "stream",
     "text": [
      "Epoch 2/50\n",
      "Train loss: 0.2728\t Validation loss: 0.2721\tlr: 0.0001\n"
     ]
    },
    {
     "data": {
      "text/plain": [
       "Train:   0%|          | 0/94 [00:00<?, ?it/s]"
      ],
      "application/vnd.jupyter.widget-view+json": {
       "version_major": 2,
       "version_minor": 0,
       "model_id": "4b4c36ac6c8c415c81b52d4225c66f06"
      }
     },
     "metadata": {},
     "output_type": "display_data"
    },
    {
     "data": {
      "text/plain": [
       "Validation:   0%|          | 0/16 [00:00<?, ?it/s]"
      ],
      "application/vnd.jupyter.widget-view+json": {
       "version_major": 2,
       "version_minor": 0,
       "model_id": "8892127b835f4a2e88dfb1deb92a07de"
      }
     },
     "metadata": {},
     "output_type": "display_data"
    },
    {
     "name": "stdout",
     "output_type": "stream",
     "text": [
      "Epoch 3/50\n",
      "Train loss: 0.2632\t Validation loss: 0.2743\tlr: 0.0001\n"
     ]
    },
    {
     "data": {
      "text/plain": [
       "Train:   0%|          | 0/94 [00:00<?, ?it/s]"
      ],
      "application/vnd.jupyter.widget-view+json": {
       "version_major": 2,
       "version_minor": 0,
       "model_id": "1645d09e676b4840ad6b9fd35217580a"
      }
     },
     "metadata": {},
     "output_type": "display_data"
    },
    {
     "data": {
      "text/plain": [
       "Validation:   0%|          | 0/16 [00:00<?, ?it/s]"
      ],
      "application/vnd.jupyter.widget-view+json": {
       "version_major": 2,
       "version_minor": 0,
       "model_id": "dd4b0afcc01f45c592370861cf5a2ed2"
      }
     },
     "metadata": {},
     "output_type": "display_data"
    },
    {
     "name": "stdout",
     "output_type": "stream",
     "text": [
      "Epoch 4/50\n",
      "Train loss: 0.2389\t Validation loss: 0.2382\tlr: 0.0001\n"
     ]
    },
    {
     "data": {
      "text/plain": [
       "Train:   0%|          | 0/94 [00:00<?, ?it/s]"
      ],
      "application/vnd.jupyter.widget-view+json": {
       "version_major": 2,
       "version_minor": 0,
       "model_id": "487ea0202b124d52b4bab253f632359a"
      }
     },
     "metadata": {},
     "output_type": "display_data"
    },
    {
     "data": {
      "text/plain": [
       "Validation:   0%|          | 0/16 [00:00<?, ?it/s]"
      ],
      "application/vnd.jupyter.widget-view+json": {
       "version_major": 2,
       "version_minor": 0,
       "model_id": "8e076e7102664121ac240bf574c8e3e6"
      }
     },
     "metadata": {},
     "output_type": "display_data"
    },
    {
     "name": "stdout",
     "output_type": "stream",
     "text": [
      "Epoch 5/50\n",
      "Train loss: 0.2158\t Validation loss: 0.2052\tlr: 0.0001\n"
     ]
    },
    {
     "data": {
      "text/plain": [
       "Train:   0%|          | 0/94 [00:00<?, ?it/s]"
      ],
      "application/vnd.jupyter.widget-view+json": {
       "version_major": 2,
       "version_minor": 0,
       "model_id": "082fbbf786d4435bb19854e2655d6aa4"
      }
     },
     "metadata": {},
     "output_type": "display_data"
    },
    {
     "data": {
      "text/plain": [
       "Validation:   0%|          | 0/16 [00:00<?, ?it/s]"
      ],
      "application/vnd.jupyter.widget-view+json": {
       "version_major": 2,
       "version_minor": 0,
       "model_id": "8e113dea67ff41739f640e9d13344212"
      }
     },
     "metadata": {},
     "output_type": "display_data"
    },
    {
     "name": "stdout",
     "output_type": "stream",
     "text": [
      "Epoch 6/50\n",
      "Train loss: 0.2073\t Validation loss: 0.2334\tlr: 0.0001\n"
     ]
    },
    {
     "data": {
      "text/plain": [
       "Train:   0%|          | 0/94 [00:00<?, ?it/s]"
      ],
      "application/vnd.jupyter.widget-view+json": {
       "version_major": 2,
       "version_minor": 0,
       "model_id": "63dc42bac81e40d6be084a5375cd8c4d"
      }
     },
     "metadata": {},
     "output_type": "display_data"
    },
    {
     "data": {
      "text/plain": [
       "Validation:   0%|          | 0/16 [00:00<?, ?it/s]"
      ],
      "application/vnd.jupyter.widget-view+json": {
       "version_major": 2,
       "version_minor": 0,
       "model_id": "0d842643a2e84e6eaf45713ab18e0fc2"
      }
     },
     "metadata": {},
     "output_type": "display_data"
    },
    {
     "name": "stdout",
     "output_type": "stream",
     "text": [
      "Epoch 7/50\n",
      "Train loss: 0.2058\t Validation loss: 0.2179\tlr: 0.0001\n"
     ]
    },
    {
     "data": {
      "text/plain": [
       "Train:   0%|          | 0/94 [00:00<?, ?it/s]"
      ],
      "application/vnd.jupyter.widget-view+json": {
       "version_major": 2,
       "version_minor": 0,
       "model_id": "7b114fe65f8d407e83720d3867b8ce89"
      }
     },
     "metadata": {},
     "output_type": "display_data"
    },
    {
     "data": {
      "text/plain": [
       "Validation:   0%|          | 0/16 [00:00<?, ?it/s]"
      ],
      "application/vnd.jupyter.widget-view+json": {
       "version_major": 2,
       "version_minor": 0,
       "model_id": "a35579d2f39e4aae8f76088d5f98c5fa"
      }
     },
     "metadata": {},
     "output_type": "display_data"
    },
    {
     "name": "stdout",
     "output_type": "stream",
     "text": [
      "Epoch 8/50\n",
      "Train loss: 0.2104\t Validation loss: 0.2276\tlr: 0.0001\n"
     ]
    },
    {
     "data": {
      "text/plain": [
       "Train:   0%|          | 0/94 [00:00<?, ?it/s]"
      ],
      "application/vnd.jupyter.widget-view+json": {
       "version_major": 2,
       "version_minor": 0,
       "model_id": "70612822b19c45b5a290d3b68e764e2b"
      }
     },
     "metadata": {},
     "output_type": "display_data"
    },
    {
     "data": {
      "text/plain": [
       "Validation:   0%|          | 0/16 [00:00<?, ?it/s]"
      ],
      "application/vnd.jupyter.widget-view+json": {
       "version_major": 2,
       "version_minor": 0,
       "model_id": "6a714ae3af1b49c98ad17e21f013b5a9"
      }
     },
     "metadata": {},
     "output_type": "display_data"
    },
    {
     "name": "stdout",
     "output_type": "stream",
     "text": [
      "Epoch 9/50\n",
      "Train loss: 0.1894\t Validation loss: 0.2443\tlr: 0.0001\n"
     ]
    },
    {
     "data": {
      "text/plain": [
       "Train:   0%|          | 0/94 [00:00<?, ?it/s]"
      ],
      "application/vnd.jupyter.widget-view+json": {
       "version_major": 2,
       "version_minor": 0,
       "model_id": "5dfa8464499e4a5994e2182dc20d1792"
      }
     },
     "metadata": {},
     "output_type": "display_data"
    },
    {
     "data": {
      "text/plain": [
       "Validation:   0%|          | 0/16 [00:00<?, ?it/s]"
      ],
      "application/vnd.jupyter.widget-view+json": {
       "version_major": 2,
       "version_minor": 0,
       "model_id": "e531fc36d4864bcc895bec3547569a00"
      }
     },
     "metadata": {},
     "output_type": "display_data"
    },
    {
     "name": "stdout",
     "output_type": "stream",
     "text": [
      "Epoch 10/50\n",
      "Train loss: 0.1859\t Validation loss: 0.2205\tlr: 0.0001\n"
     ]
    },
    {
     "data": {
      "text/plain": [
       "Train:   0%|          | 0/94 [00:00<?, ?it/s]"
      ],
      "application/vnd.jupyter.widget-view+json": {
       "version_major": 2,
       "version_minor": 0,
       "model_id": "820288e89261441fb4490ffc51a9f6a8"
      }
     },
     "metadata": {},
     "output_type": "display_data"
    },
    {
     "data": {
      "text/plain": [
       "Validation:   0%|          | 0/16 [00:00<?, ?it/s]"
      ],
      "application/vnd.jupyter.widget-view+json": {
       "version_major": 2,
       "version_minor": 0,
       "model_id": "fe5660b643cd4ce88ad9ec4987c344a3"
      }
     },
     "metadata": {},
     "output_type": "display_data"
    },
    {
     "name": "stdout",
     "output_type": "stream",
     "text": [
      "Epoch 11/50\n",
      "Train loss: 0.1936\t Validation loss: 0.1748\tlr: 0.0001\n"
     ]
    },
    {
     "data": {
      "text/plain": [
       "Train:   0%|          | 0/94 [00:00<?, ?it/s]"
      ],
      "application/vnd.jupyter.widget-view+json": {
       "version_major": 2,
       "version_minor": 0,
       "model_id": "fcd01a5bf9574772bf371d041d4c29fc"
      }
     },
     "metadata": {},
     "output_type": "display_data"
    },
    {
     "data": {
      "text/plain": [
       "Validation:   0%|          | 0/16 [00:00<?, ?it/s]"
      ],
      "application/vnd.jupyter.widget-view+json": {
       "version_major": 2,
       "version_minor": 0,
       "model_id": "caf980fafbf146e3a51394f0f3110732"
      }
     },
     "metadata": {},
     "output_type": "display_data"
    },
    {
     "name": "stdout",
     "output_type": "stream",
     "text": [
      "Epoch 12/50\n",
      "Train loss: 0.1838\t Validation loss: 0.1827\tlr: 0.0001\n"
     ]
    },
    {
     "data": {
      "text/plain": [
       "Train:   0%|          | 0/94 [00:00<?, ?it/s]"
      ],
      "application/vnd.jupyter.widget-view+json": {
       "version_major": 2,
       "version_minor": 0,
       "model_id": "8f91bfb63e0b40e18dfbb9afcf8d8873"
      }
     },
     "metadata": {},
     "output_type": "display_data"
    },
    {
     "data": {
      "text/plain": [
       "Validation:   0%|          | 0/16 [00:00<?, ?it/s]"
      ],
      "application/vnd.jupyter.widget-view+json": {
       "version_major": 2,
       "version_minor": 0,
       "model_id": "b752eece4c864cc2be794383b4e86dac"
      }
     },
     "metadata": {},
     "output_type": "display_data"
    },
    {
     "name": "stdout",
     "output_type": "stream",
     "text": [
      "Epoch 13/50\n",
      "Train loss: 0.1750\t Validation loss: 0.1966\tlr: 0.0001\n"
     ]
    },
    {
     "data": {
      "text/plain": [
       "Train:   0%|          | 0/94 [00:00<?, ?it/s]"
      ],
      "application/vnd.jupyter.widget-view+json": {
       "version_major": 2,
       "version_minor": 0,
       "model_id": "f9f524a6d27e44d793d35e7f35019d9b"
      }
     },
     "metadata": {},
     "output_type": "display_data"
    },
    {
     "data": {
      "text/plain": [
       "Validation:   0%|          | 0/16 [00:00<?, ?it/s]"
      ],
      "application/vnd.jupyter.widget-view+json": {
       "version_major": 2,
       "version_minor": 0,
       "model_id": "550f1e13993b41328c21586ed18389f0"
      }
     },
     "metadata": {},
     "output_type": "display_data"
    },
    {
     "name": "stdout",
     "output_type": "stream",
     "text": [
      "Epoch 14/50\n",
      "Train loss: 0.1797\t Validation loss: 0.1942\tlr: 0.0001\n"
     ]
    },
    {
     "data": {
      "text/plain": [
       "Train:   0%|          | 0/94 [00:00<?, ?it/s]"
      ],
      "application/vnd.jupyter.widget-view+json": {
       "version_major": 2,
       "version_minor": 0,
       "model_id": "bb533566624348aea278a398eb56d7b2"
      }
     },
     "metadata": {},
     "output_type": "display_data"
    },
    {
     "data": {
      "text/plain": [
       "Validation:   0%|          | 0/16 [00:00<?, ?it/s]"
      ],
      "application/vnd.jupyter.widget-view+json": {
       "version_major": 2,
       "version_minor": 0,
       "model_id": "69ee9a2d7af348d5ba016e7b084d4e6a"
      }
     },
     "metadata": {},
     "output_type": "display_data"
    },
    {
     "name": "stdout",
     "output_type": "stream",
     "text": [
      "Epoch 15/50\n",
      "Train loss: 0.1733\t Validation loss: 0.1845\tlr: 0.0001\n"
     ]
    },
    {
     "data": {
      "text/plain": [
       "Train:   0%|          | 0/94 [00:00<?, ?it/s]"
      ],
      "application/vnd.jupyter.widget-view+json": {
       "version_major": 2,
       "version_minor": 0,
       "model_id": "0f84280ab0c44d7c945e2c083c76c0fb"
      }
     },
     "metadata": {},
     "output_type": "display_data"
    },
    {
     "data": {
      "text/plain": [
       "Validation:   0%|          | 0/16 [00:00<?, ?it/s]"
      ],
      "application/vnd.jupyter.widget-view+json": {
       "version_major": 2,
       "version_minor": 0,
       "model_id": "ddbf3f5f08c74e36870e2d1d6a1dfdbd"
      }
     },
     "metadata": {},
     "output_type": "display_data"
    },
    {
     "name": "stdout",
     "output_type": "stream",
     "text": [
      "Epoch 16/50\n",
      "Train loss: 0.1712\t Validation loss: 0.1853\tlr: 0.0001\n"
     ]
    },
    {
     "data": {
      "text/plain": [
       "Train:   0%|          | 0/94 [00:00<?, ?it/s]"
      ],
      "application/vnd.jupyter.widget-view+json": {
       "version_major": 2,
       "version_minor": 0,
       "model_id": "5b86753208814abb8babfafa48d7b122"
      }
     },
     "metadata": {},
     "output_type": "display_data"
    },
    {
     "data": {
      "text/plain": [
       "Validation:   0%|          | 0/16 [00:00<?, ?it/s]"
      ],
      "application/vnd.jupyter.widget-view+json": {
       "version_major": 2,
       "version_minor": 0,
       "model_id": "b3b9712707604461b2863deab9e181a9"
      }
     },
     "metadata": {},
     "output_type": "display_data"
    },
    {
     "name": "stdout",
     "output_type": "stream",
     "text": [
      "Epoch 17/50\n",
      "Train loss: 0.1724\t Validation loss: 0.2081\tlr: 0.0001\n"
     ]
    },
    {
     "data": {
      "text/plain": [
       "Train:   0%|          | 0/94 [00:00<?, ?it/s]"
      ],
      "application/vnd.jupyter.widget-view+json": {
       "version_major": 2,
       "version_minor": 0,
       "model_id": "1e3eb629af4f43d1a1290bafcf880a7f"
      }
     },
     "metadata": {},
     "output_type": "display_data"
    },
    {
     "data": {
      "text/plain": [
       "Validation:   0%|          | 0/16 [00:00<?, ?it/s]"
      ],
      "application/vnd.jupyter.widget-view+json": {
       "version_major": 2,
       "version_minor": 0,
       "model_id": "a792b1a3c1c5440c9ed06656f1f63507"
      }
     },
     "metadata": {},
     "output_type": "display_data"
    },
    {
     "name": "stdout",
     "output_type": "stream",
     "text": [
      "Epoch 18/50\n",
      "Train loss: 0.1610\t Validation loss: 0.1921\tlr: 0.0001\n"
     ]
    },
    {
     "data": {
      "text/plain": [
       "Train:   0%|          | 0/94 [00:00<?, ?it/s]"
      ],
      "application/vnd.jupyter.widget-view+json": {
       "version_major": 2,
       "version_minor": 0,
       "model_id": "d2488775cf3e452d858e519a9e262813"
      }
     },
     "metadata": {},
     "output_type": "display_data"
    },
    {
     "data": {
      "text/plain": [
       "Validation:   0%|          | 0/16 [00:00<?, ?it/s]"
      ],
      "application/vnd.jupyter.widget-view+json": {
       "version_major": 2,
       "version_minor": 0,
       "model_id": "9163150661d0464b95e62393c2625409"
      }
     },
     "metadata": {},
     "output_type": "display_data"
    },
    {
     "name": "stdout",
     "output_type": "stream",
     "text": [
      "Epoch 19/50\n",
      "Train loss: 0.1706\t Validation loss: 0.1911\tlr: 0.0001\n"
     ]
    },
    {
     "data": {
      "text/plain": [
       "Train:   0%|          | 0/94 [00:00<?, ?it/s]"
      ],
      "application/vnd.jupyter.widget-view+json": {
       "version_major": 2,
       "version_minor": 0,
       "model_id": "2587ebfab90b48c385e968190045f52a"
      }
     },
     "metadata": {},
     "output_type": "display_data"
    },
    {
     "data": {
      "text/plain": [
       "Validation:   0%|          | 0/16 [00:00<?, ?it/s]"
      ],
      "application/vnd.jupyter.widget-view+json": {
       "version_major": 2,
       "version_minor": 0,
       "model_id": "fd8bb12901994b02b7ea5a430c07fc23"
      }
     },
     "metadata": {},
     "output_type": "display_data"
    },
    {
     "name": "stdout",
     "output_type": "stream",
     "text": [
      "Epoch 20/50\n",
      "Train loss: 0.1722\t Validation loss: 0.1800\tlr: 0.0001\n"
     ]
    },
    {
     "data": {
      "text/plain": [
       "Train:   0%|          | 0/94 [00:00<?, ?it/s]"
      ],
      "application/vnd.jupyter.widget-view+json": {
       "version_major": 2,
       "version_minor": 0,
       "model_id": "bff3b17f3c3a46308b3f1f79e23c793d"
      }
     },
     "metadata": {},
     "output_type": "display_data"
    },
    {
     "data": {
      "text/plain": [
       "Validation:   0%|          | 0/16 [00:00<?, ?it/s]"
      ],
      "application/vnd.jupyter.widget-view+json": {
       "version_major": 2,
       "version_minor": 0,
       "model_id": "2d0ce7eb0d4e406b85289efdd6f37424"
      }
     },
     "metadata": {},
     "output_type": "display_data"
    },
    {
     "name": "stdout",
     "output_type": "stream",
     "text": [
      "Epoch 21/50\n",
      "Train loss: 0.1584\t Validation loss: 0.1872\tlr: 0.0001\n"
     ]
    },
    {
     "data": {
      "text/plain": [
       "Train:   0%|          | 0/94 [00:00<?, ?it/s]"
      ],
      "application/vnd.jupyter.widget-view+json": {
       "version_major": 2,
       "version_minor": 0,
       "model_id": "5ed9268d8261437da91b40e82c5302d4"
      }
     },
     "metadata": {},
     "output_type": "display_data"
    },
    {
     "data": {
      "text/plain": [
       "Validation:   0%|          | 0/16 [00:00<?, ?it/s]"
      ],
      "application/vnd.jupyter.widget-view+json": {
       "version_major": 2,
       "version_minor": 0,
       "model_id": "76642b82d7d54dc19c809e851e4834d7"
      }
     },
     "metadata": {},
     "output_type": "display_data"
    },
    {
     "name": "stdout",
     "output_type": "stream",
     "text": [
      "Epoch 22/50\n",
      "Train loss: 0.1601\t Validation loss: 0.1682\tlr: 0.0001\n"
     ]
    },
    {
     "data": {
      "text/plain": [
       "Train:   0%|          | 0/94 [00:00<?, ?it/s]"
      ],
      "application/vnd.jupyter.widget-view+json": {
       "version_major": 2,
       "version_minor": 0,
       "model_id": "3cfdd296c43e41e7b14ddfc1c6c67979"
      }
     },
     "metadata": {},
     "output_type": "display_data"
    },
    {
     "data": {
      "text/plain": [
       "Validation:   0%|          | 0/16 [00:00<?, ?it/s]"
      ],
      "application/vnd.jupyter.widget-view+json": {
       "version_major": 2,
       "version_minor": 0,
       "model_id": "24d6947a46b44069ac36c00a100b03b2"
      }
     },
     "metadata": {},
     "output_type": "display_data"
    },
    {
     "name": "stdout",
     "output_type": "stream",
     "text": [
      "Epoch 23/50\n",
      "Train loss: 0.1546\t Validation loss: 0.1873\tlr: 0.0001\n"
     ]
    },
    {
     "data": {
      "text/plain": [
       "Train:   0%|          | 0/94 [00:00<?, ?it/s]"
      ],
      "application/vnd.jupyter.widget-view+json": {
       "version_major": 2,
       "version_minor": 0,
       "model_id": "0ec55147f9e04ad3979bdd0ccdd7e2aa"
      }
     },
     "metadata": {},
     "output_type": "display_data"
    },
    {
     "data": {
      "text/plain": [
       "Validation:   0%|          | 0/16 [00:00<?, ?it/s]"
      ],
      "application/vnd.jupyter.widget-view+json": {
       "version_major": 2,
       "version_minor": 0,
       "model_id": "9dbd77fcc9654b78806935e59c8fd2a2"
      }
     },
     "metadata": {},
     "output_type": "display_data"
    },
    {
     "name": "stdout",
     "output_type": "stream",
     "text": [
      "Epoch 24/50\n",
      "Train loss: 0.1512\t Validation loss: 0.1654\tlr: 0.0001\n"
     ]
    },
    {
     "data": {
      "text/plain": [
       "Train:   0%|          | 0/94 [00:00<?, ?it/s]"
      ],
      "application/vnd.jupyter.widget-view+json": {
       "version_major": 2,
       "version_minor": 0,
       "model_id": "c6089141aa27412f9bd0e41a10fbebc9"
      }
     },
     "metadata": {},
     "output_type": "display_data"
    },
    {
     "data": {
      "text/plain": [
       "Validation:   0%|          | 0/16 [00:00<?, ?it/s]"
      ],
      "application/vnd.jupyter.widget-view+json": {
       "version_major": 2,
       "version_minor": 0,
       "model_id": "088c7b3ae23c49c790945e8faa42aad7"
      }
     },
     "metadata": {},
     "output_type": "display_data"
    },
    {
     "name": "stdout",
     "output_type": "stream",
     "text": [
      "Epoch 25/50\n",
      "Train loss: 0.1505\t Validation loss: 0.1895\tlr: 0.0001\n"
     ]
    },
    {
     "data": {
      "text/plain": [
       "Train:   0%|          | 0/94 [00:00<?, ?it/s]"
      ],
      "application/vnd.jupyter.widget-view+json": {
       "version_major": 2,
       "version_minor": 0,
       "model_id": "37b32034a788427ca70310f2abc03ef0"
      }
     },
     "metadata": {},
     "output_type": "display_data"
    },
    {
     "data": {
      "text/plain": [
       "Validation:   0%|          | 0/16 [00:00<?, ?it/s]"
      ],
      "application/vnd.jupyter.widget-view+json": {
       "version_major": 2,
       "version_minor": 0,
       "model_id": "20ddb71b59914ed2995260d48ae49729"
      }
     },
     "metadata": {},
     "output_type": "display_data"
    },
    {
     "name": "stdout",
     "output_type": "stream",
     "text": [
      "Epoch 26/50\n",
      "Train loss: 0.1486\t Validation loss: 0.1597\tlr: 0.0001\n"
     ]
    },
    {
     "data": {
      "text/plain": [
       "Train:   0%|          | 0/94 [00:00<?, ?it/s]"
      ],
      "application/vnd.jupyter.widget-view+json": {
       "version_major": 2,
       "version_minor": 0,
       "model_id": "0c751541896545d5be61bb00724d283e"
      }
     },
     "metadata": {},
     "output_type": "display_data"
    },
    {
     "data": {
      "text/plain": [
       "Validation:   0%|          | 0/16 [00:00<?, ?it/s]"
      ],
      "application/vnd.jupyter.widget-view+json": {
       "version_major": 2,
       "version_minor": 0,
       "model_id": "97399d4cba2f47d3bfb0dc8d2b813a9e"
      }
     },
     "metadata": {},
     "output_type": "display_data"
    },
    {
     "name": "stdout",
     "output_type": "stream",
     "text": [
      "Epoch 27/50\n",
      "Train loss: 0.1514\t Validation loss: 0.1675\tlr: 0.0001\n"
     ]
    },
    {
     "data": {
      "text/plain": [
       "Train:   0%|          | 0/94 [00:00<?, ?it/s]"
      ],
      "application/vnd.jupyter.widget-view+json": {
       "version_major": 2,
       "version_minor": 0,
       "model_id": "d8ca6d886a7e4d3d85bb6fda841a7bd3"
      }
     },
     "metadata": {},
     "output_type": "display_data"
    },
    {
     "data": {
      "text/plain": [
       "Validation:   0%|          | 0/16 [00:00<?, ?it/s]"
      ],
      "application/vnd.jupyter.widget-view+json": {
       "version_major": 2,
       "version_minor": 0,
       "model_id": "f1c1a7232a4d4485a8230d18a278a19c"
      }
     },
     "metadata": {},
     "output_type": "display_data"
    },
    {
     "name": "stdout",
     "output_type": "stream",
     "text": [
      "Epoch 28/50\n",
      "Train loss: 0.1446\t Validation loss: 0.1622\tlr: 0.0001\n"
     ]
    },
    {
     "data": {
      "text/plain": [
       "Train:   0%|          | 0/94 [00:00<?, ?it/s]"
      ],
      "application/vnd.jupyter.widget-view+json": {
       "version_major": 2,
       "version_minor": 0,
       "model_id": "810a808f028441ab9d05bbed47fcaa17"
      }
     },
     "metadata": {},
     "output_type": "display_data"
    },
    {
     "data": {
      "text/plain": [
       "Validation:   0%|          | 0/16 [00:00<?, ?it/s]"
      ],
      "application/vnd.jupyter.widget-view+json": {
       "version_major": 2,
       "version_minor": 0,
       "model_id": "ab23f496a2c64edbad9831b39e0f3a84"
      }
     },
     "metadata": {},
     "output_type": "display_data"
    },
    {
     "name": "stdout",
     "output_type": "stream",
     "text": [
      "Epoch 29/50\n",
      "Train loss: 0.1516\t Validation loss: 0.1975\tlr: 0.0001\n"
     ]
    },
    {
     "data": {
      "text/plain": [
       "Train:   0%|          | 0/94 [00:00<?, ?it/s]"
      ],
      "application/vnd.jupyter.widget-view+json": {
       "version_major": 2,
       "version_minor": 0,
       "model_id": "2f4c4cef52d04ce487ac9b0dd3059da6"
      }
     },
     "metadata": {},
     "output_type": "display_data"
    },
    {
     "data": {
      "text/plain": [
       "Validation:   0%|          | 0/16 [00:00<?, ?it/s]"
      ],
      "application/vnd.jupyter.widget-view+json": {
       "version_major": 2,
       "version_minor": 0,
       "model_id": "3a9f0b18ffbd42cd9179790a53d7ef61"
      }
     },
     "metadata": {},
     "output_type": "display_data"
    },
    {
     "name": "stdout",
     "output_type": "stream",
     "text": [
      "Epoch 30/50\n",
      "Train loss: 0.1547\t Validation loss: 0.1685\tlr: 0.0001\n"
     ]
    },
    {
     "data": {
      "text/plain": [
       "Train:   0%|          | 0/94 [00:00<?, ?it/s]"
      ],
      "application/vnd.jupyter.widget-view+json": {
       "version_major": 2,
       "version_minor": 0,
       "model_id": "e7fbff041db6438fb1efb08569f3ddf6"
      }
     },
     "metadata": {},
     "output_type": "display_data"
    },
    {
     "data": {
      "text/plain": [
       "Validation:   0%|          | 0/16 [00:00<?, ?it/s]"
      ],
      "application/vnd.jupyter.widget-view+json": {
       "version_major": 2,
       "version_minor": 0,
       "model_id": "64a62549354345c9bc0e284d419c80fb"
      }
     },
     "metadata": {},
     "output_type": "display_data"
    },
    {
     "name": "stdout",
     "output_type": "stream",
     "text": [
      "Epoch 31/50\n",
      "Train loss: 0.1541\t Validation loss: 0.1651\tlr: 0.0001\n"
     ]
    },
    {
     "data": {
      "text/plain": [
       "Train:   0%|          | 0/94 [00:00<?, ?it/s]"
      ],
      "application/vnd.jupyter.widget-view+json": {
       "version_major": 2,
       "version_minor": 0,
       "model_id": "820cad06ccb1430cbaa09b4ea0173114"
      }
     },
     "metadata": {},
     "output_type": "display_data"
    },
    {
     "data": {
      "text/plain": [
       "Validation:   0%|          | 0/16 [00:00<?, ?it/s]"
      ],
      "application/vnd.jupyter.widget-view+json": {
       "version_major": 2,
       "version_minor": 0,
       "model_id": "e02cb84b867d4b94810d401e1d6bb5b4"
      }
     },
     "metadata": {},
     "output_type": "display_data"
    },
    {
     "name": "stdout",
     "output_type": "stream",
     "text": [
      "Epoch 32/50\n",
      "Train loss: 0.1403\t Validation loss: 0.1798\tlr: 0.0001\n"
     ]
    },
    {
     "data": {
      "text/plain": [
       "Train:   0%|          | 0/94 [00:00<?, ?it/s]"
      ],
      "application/vnd.jupyter.widget-view+json": {
       "version_major": 2,
       "version_minor": 0,
       "model_id": "5379eb0af4d34642a4e88adabe116c14"
      }
     },
     "metadata": {},
     "output_type": "display_data"
    },
    {
     "data": {
      "text/plain": [
       "Validation:   0%|          | 0/16 [00:00<?, ?it/s]"
      ],
      "application/vnd.jupyter.widget-view+json": {
       "version_major": 2,
       "version_minor": 0,
       "model_id": "98942600535b47b287d731d79c33db0f"
      }
     },
     "metadata": {},
     "output_type": "display_data"
    },
    {
     "name": "stdout",
     "output_type": "stream",
     "text": [
      "Epoch 33/50\n",
      "Train loss: 0.1468\t Validation loss: 0.1706\tlr: 0.0001\n"
     ]
    },
    {
     "data": {
      "text/plain": [
       "Train:   0%|          | 0/94 [00:00<?, ?it/s]"
      ],
      "application/vnd.jupyter.widget-view+json": {
       "version_major": 2,
       "version_minor": 0,
       "model_id": "77575182df124365ab2ed7e0344090b5"
      }
     },
     "metadata": {},
     "output_type": "display_data"
    },
    {
     "data": {
      "text/plain": [
       "Validation:   0%|          | 0/16 [00:00<?, ?it/s]"
      ],
      "application/vnd.jupyter.widget-view+json": {
       "version_major": 2,
       "version_minor": 0,
       "model_id": "b7d7e8115401485fadd5059b3d4130df"
      }
     },
     "metadata": {},
     "output_type": "display_data"
    },
    {
     "name": "stdout",
     "output_type": "stream",
     "text": [
      "Epoch 34/50\n",
      "Train loss: 0.1502\t Validation loss: 0.2138\tlr: 0.0001\n"
     ]
    },
    {
     "data": {
      "text/plain": [
       "Train:   0%|          | 0/94 [00:00<?, ?it/s]"
      ],
      "application/vnd.jupyter.widget-view+json": {
       "version_major": 2,
       "version_minor": 0,
       "model_id": "afb4ee90ac1947ff8e863fd7c2dd35cb"
      }
     },
     "metadata": {},
     "output_type": "display_data"
    },
    {
     "data": {
      "text/plain": [
       "Validation:   0%|          | 0/16 [00:00<?, ?it/s]"
      ],
      "application/vnd.jupyter.widget-view+json": {
       "version_major": 2,
       "version_minor": 0,
       "model_id": "cc191dc9c3d84b84a5b12a1d5efe190c"
      }
     },
     "metadata": {},
     "output_type": "display_data"
    },
    {
     "name": "stdout",
     "output_type": "stream",
     "text": [
      "Epoch 35/50\n",
      "Train loss: 0.1535\t Validation loss: 0.1979\tlr: 0.0001\n"
     ]
    },
    {
     "data": {
      "text/plain": [
       "Train:   0%|          | 0/94 [00:00<?, ?it/s]"
      ],
      "application/vnd.jupyter.widget-view+json": {
       "version_major": 2,
       "version_minor": 0,
       "model_id": "8311d2860fba40409b4ac87b8686438e"
      }
     },
     "metadata": {},
     "output_type": "display_data"
    },
    {
     "data": {
      "text/plain": [
       "Validation:   0%|          | 0/16 [00:00<?, ?it/s]"
      ],
      "application/vnd.jupyter.widget-view+json": {
       "version_major": 2,
       "version_minor": 0,
       "model_id": "07b9196d6a5846d79c9fe565ee2527cd"
      }
     },
     "metadata": {},
     "output_type": "display_data"
    },
    {
     "name": "stdout",
     "output_type": "stream",
     "text": [
      "Epoch 36/50\n",
      "Train loss: 0.1398\t Validation loss: 0.1818\tlr: 0.0001\n"
     ]
    },
    {
     "data": {
      "text/plain": [
       "Train:   0%|          | 0/94 [00:00<?, ?it/s]"
      ],
      "application/vnd.jupyter.widget-view+json": {
       "version_major": 2,
       "version_minor": 0,
       "model_id": "c240dbb9661a4276a7c5ac461301ca30"
      }
     },
     "metadata": {},
     "output_type": "display_data"
    },
    {
     "data": {
      "text/plain": [
       "Validation:   0%|          | 0/16 [00:00<?, ?it/s]"
      ],
      "application/vnd.jupyter.widget-view+json": {
       "version_major": 2,
       "version_minor": 0,
       "model_id": "552e77fec6224089a160d2246ce5b972"
      }
     },
     "metadata": {},
     "output_type": "display_data"
    },
    {
     "name": "stdout",
     "output_type": "stream",
     "text": [
      "Epoch 37/50\n",
      "Train loss: 0.1427\t Validation loss: 0.1332\tlr: 0.0001\n"
     ]
    },
    {
     "data": {
      "text/plain": [
       "Train:   0%|          | 0/94 [00:00<?, ?it/s]"
      ],
      "application/vnd.jupyter.widget-view+json": {
       "version_major": 2,
       "version_minor": 0,
       "model_id": "9164a3935af5413ea9b93b50b0b37b5d"
      }
     },
     "metadata": {},
     "output_type": "display_data"
    },
    {
     "data": {
      "text/plain": [
       "Validation:   0%|          | 0/16 [00:00<?, ?it/s]"
      ],
      "application/vnd.jupyter.widget-view+json": {
       "version_major": 2,
       "version_minor": 0,
       "model_id": "455642c6759f43fa9d79a3884ce79e0c"
      }
     },
     "metadata": {},
     "output_type": "display_data"
    },
    {
     "name": "stdout",
     "output_type": "stream",
     "text": [
      "Epoch 38/50\n",
      "Train loss: 0.1442\t Validation loss: 0.1870\tlr: 0.0001\n"
     ]
    },
    {
     "data": {
      "text/plain": [
       "Train:   0%|          | 0/94 [00:00<?, ?it/s]"
      ],
      "application/vnd.jupyter.widget-view+json": {
       "version_major": 2,
       "version_minor": 0,
       "model_id": "55981378265f41068c939fed8083cda3"
      }
     },
     "metadata": {},
     "output_type": "display_data"
    },
    {
     "data": {
      "text/plain": [
       "Validation:   0%|          | 0/16 [00:00<?, ?it/s]"
      ],
      "application/vnd.jupyter.widget-view+json": {
       "version_major": 2,
       "version_minor": 0,
       "model_id": "3e25e82f96d0424eb2816f846dd3aea2"
      }
     },
     "metadata": {},
     "output_type": "display_data"
    },
    {
     "name": "stdout",
     "output_type": "stream",
     "text": [
      "Epoch 39/50\n",
      "Train loss: 0.1458\t Validation loss: 0.1625\tlr: 0.0001\n"
     ]
    },
    {
     "data": {
      "text/plain": [
       "Train:   0%|          | 0/94 [00:00<?, ?it/s]"
      ],
      "application/vnd.jupyter.widget-view+json": {
       "version_major": 2,
       "version_minor": 0,
       "model_id": "aef479e721354adfab3e5b3de9b2445e"
      }
     },
     "metadata": {},
     "output_type": "display_data"
    },
    {
     "data": {
      "text/plain": [
       "Validation:   0%|          | 0/16 [00:00<?, ?it/s]"
      ],
      "application/vnd.jupyter.widget-view+json": {
       "version_major": 2,
       "version_minor": 0,
       "model_id": "0a6aa3bfeb244177abc80fa1be72b5b2"
      }
     },
     "metadata": {},
     "output_type": "display_data"
    },
    {
     "name": "stdout",
     "output_type": "stream",
     "text": [
      "Epoch 40/50\n",
      "Train loss: 0.1390\t Validation loss: 0.1786\tlr: 0.0001\n"
     ]
    },
    {
     "data": {
      "text/plain": [
       "Train:   0%|          | 0/94 [00:00<?, ?it/s]"
      ],
      "application/vnd.jupyter.widget-view+json": {
       "version_major": 2,
       "version_minor": 0,
       "model_id": "34dc56357ab74a59b7eba21412756bdb"
      }
     },
     "metadata": {},
     "output_type": "display_data"
    },
    {
     "data": {
      "text/plain": [
       "Validation:   0%|          | 0/16 [00:00<?, ?it/s]"
      ],
      "application/vnd.jupyter.widget-view+json": {
       "version_major": 2,
       "version_minor": 0,
       "model_id": "3512ac6c6bc247dc96be24e5794c27e8"
      }
     },
     "metadata": {},
     "output_type": "display_data"
    },
    {
     "name": "stdout",
     "output_type": "stream",
     "text": [
      "Epoch 41/50\n",
      "Train loss: 0.1380\t Validation loss: 0.1374\tlr: 0.0001\n"
     ]
    },
    {
     "data": {
      "text/plain": [
       "Train:   0%|          | 0/94 [00:00<?, ?it/s]"
      ],
      "application/vnd.jupyter.widget-view+json": {
       "version_major": 2,
       "version_minor": 0,
       "model_id": "608635c20bb546d782baa5d531f84e37"
      }
     },
     "metadata": {},
     "output_type": "display_data"
    },
    {
     "data": {
      "text/plain": [
       "Validation:   0%|          | 0/16 [00:00<?, ?it/s]"
      ],
      "application/vnd.jupyter.widget-view+json": {
       "version_major": 2,
       "version_minor": 0,
       "model_id": "7980fe153d7f42fb94d073bb143dc1df"
      }
     },
     "metadata": {},
     "output_type": "display_data"
    },
    {
     "name": "stdout",
     "output_type": "stream",
     "text": [
      "Epoch 42/50\n",
      "Train loss: 0.1390\t Validation loss: 0.1660\tlr: 0.0001\n"
     ]
    },
    {
     "data": {
      "text/plain": [
       "Train:   0%|          | 0/94 [00:00<?, ?it/s]"
      ],
      "application/vnd.jupyter.widget-view+json": {
       "version_major": 2,
       "version_minor": 0,
       "model_id": "c126a3d9c28f48eab0f5c63d0e51ba17"
      }
     },
     "metadata": {},
     "output_type": "display_data"
    },
    {
     "data": {
      "text/plain": [
       "Validation:   0%|          | 0/16 [00:00<?, ?it/s]"
      ],
      "application/vnd.jupyter.widget-view+json": {
       "version_major": 2,
       "version_minor": 0,
       "model_id": "5714b8b20d8949479325ccbe950bbf5c"
      }
     },
     "metadata": {},
     "output_type": "display_data"
    },
    {
     "name": "stdout",
     "output_type": "stream",
     "text": [
      "Epoch 43/50\n",
      "Train loss: 0.1395\t Validation loss: 0.1605\tlr: 0.0001\n"
     ]
    },
    {
     "data": {
      "text/plain": [
       "Train:   0%|          | 0/94 [00:00<?, ?it/s]"
      ],
      "application/vnd.jupyter.widget-view+json": {
       "version_major": 2,
       "version_minor": 0,
       "model_id": "fa979ad524f04af3b2243a92bc3ea4e3"
      }
     },
     "metadata": {},
     "output_type": "display_data"
    },
    {
     "data": {
      "text/plain": [
       "Validation:   0%|          | 0/16 [00:00<?, ?it/s]"
      ],
      "application/vnd.jupyter.widget-view+json": {
       "version_major": 2,
       "version_minor": 0,
       "model_id": "273e7c977cf24be1b2a780511b13d9c3"
      }
     },
     "metadata": {},
     "output_type": "display_data"
    },
    {
     "name": "stdout",
     "output_type": "stream",
     "text": [
      "Epoch 44/50\n",
      "Train loss: 0.1313\t Validation loss: 0.1628\tlr: 0.0001\n"
     ]
    },
    {
     "data": {
      "text/plain": [
       "Train:   0%|          | 0/94 [00:00<?, ?it/s]"
      ],
      "application/vnd.jupyter.widget-view+json": {
       "version_major": 2,
       "version_minor": 0,
       "model_id": "450a738fc90d4a97ac81590f1fde31ae"
      }
     },
     "metadata": {},
     "output_type": "display_data"
    },
    {
     "data": {
      "text/plain": [
       "Validation:   0%|          | 0/16 [00:00<?, ?it/s]"
      ],
      "application/vnd.jupyter.widget-view+json": {
       "version_major": 2,
       "version_minor": 0,
       "model_id": "fde5ac2fc14b49fa91d14aabdd086529"
      }
     },
     "metadata": {},
     "output_type": "display_data"
    },
    {
     "name": "stdout",
     "output_type": "stream",
     "text": [
      "Epoch 45/50\n",
      "Train loss: 0.1304\t Validation loss: 0.1638\tlr: 0.0001\n"
     ]
    },
    {
     "data": {
      "text/plain": [
       "Train:   0%|          | 0/94 [00:00<?, ?it/s]"
      ],
      "application/vnd.jupyter.widget-view+json": {
       "version_major": 2,
       "version_minor": 0,
       "model_id": "8afe66825f70491cb0fe09df8402b425"
      }
     },
     "metadata": {},
     "output_type": "display_data"
    },
    {
     "data": {
      "text/plain": [
       "Validation:   0%|          | 0/16 [00:00<?, ?it/s]"
      ],
      "application/vnd.jupyter.widget-view+json": {
       "version_major": 2,
       "version_minor": 0,
       "model_id": "5b5942740dee4713a4ca56527248bb88"
      }
     },
     "metadata": {},
     "output_type": "display_data"
    },
    {
     "name": "stdout",
     "output_type": "stream",
     "text": [
      "Epoch 46/50\n",
      "Train loss: 0.1356\t Validation loss: 0.1490\tlr: 0.0001\n"
     ]
    },
    {
     "data": {
      "text/plain": [
       "Train:   0%|          | 0/94 [00:00<?, ?it/s]"
      ],
      "application/vnd.jupyter.widget-view+json": {
       "version_major": 2,
       "version_minor": 0,
       "model_id": "9cd49d2c0c9f4c18b50e46de8d98ffdb"
      }
     },
     "metadata": {},
     "output_type": "display_data"
    },
    {
     "data": {
      "text/plain": [
       "Validation:   0%|          | 0/16 [00:00<?, ?it/s]"
      ],
      "application/vnd.jupyter.widget-view+json": {
       "version_major": 2,
       "version_minor": 0,
       "model_id": "fd81d3cbb4eb4677a972e8878d51d7ef"
      }
     },
     "metadata": {},
     "output_type": "display_data"
    },
    {
     "name": "stdout",
     "output_type": "stream",
     "text": [
      "Epoch 47/50\n",
      "Train loss: 0.1325\t Validation loss: 0.1714\tlr: 0.0001\n"
     ]
    },
    {
     "data": {
      "text/plain": [
       "Train:   0%|          | 0/94 [00:00<?, ?it/s]"
      ],
      "application/vnd.jupyter.widget-view+json": {
       "version_major": 2,
       "version_minor": 0,
       "model_id": "30fef63845d74d778783c3c74b81236b"
      }
     },
     "metadata": {},
     "output_type": "display_data"
    },
    {
     "data": {
      "text/plain": [
       "Validation:   0%|          | 0/16 [00:00<?, ?it/s]"
      ],
      "application/vnd.jupyter.widget-view+json": {
       "version_major": 2,
       "version_minor": 0,
       "model_id": "a6402ecfd3f44584bf781830fe8aa3e0"
      }
     },
     "metadata": {},
     "output_type": "display_data"
    },
    {
     "name": "stdout",
     "output_type": "stream",
     "text": [
      "Epoch 48/50\n",
      "Train loss: 0.1320\t Validation loss: 0.1739\tlr: 0.0001\n"
     ]
    },
    {
     "data": {
      "text/plain": [
       "Train:   0%|          | 0/94 [00:00<?, ?it/s]"
      ],
      "application/vnd.jupyter.widget-view+json": {
       "version_major": 2,
       "version_minor": 0,
       "model_id": "aaa54be1d0b54fe08d2ce750ffe936a5"
      }
     },
     "metadata": {},
     "output_type": "display_data"
    },
    {
     "data": {
      "text/plain": [
       "Validation:   0%|          | 0/16 [00:00<?, ?it/s]"
      ],
      "application/vnd.jupyter.widget-view+json": {
       "version_major": 2,
       "version_minor": 0,
       "model_id": "d81e87f36ada4e339cdbd30f87e2d6a6"
      }
     },
     "metadata": {},
     "output_type": "display_data"
    },
    {
     "name": "stdout",
     "output_type": "stream",
     "text": [
      "Epoch 49/50\n",
      "Train loss: 0.1456\t Validation loss: 0.1546\tlr: 0.0001\n"
     ]
    },
    {
     "data": {
      "text/plain": [
       "Train:   0%|          | 0/94 [00:00<?, ?it/s]"
      ],
      "application/vnd.jupyter.widget-view+json": {
       "version_major": 2,
       "version_minor": 0,
       "model_id": "5e84dc0a88e74f258425e9bf3f931550"
      }
     },
     "metadata": {},
     "output_type": "display_data"
    },
    {
     "data": {
      "text/plain": [
       "Validation:   0%|          | 0/16 [00:00<?, ?it/s]"
      ],
      "application/vnd.jupyter.widget-view+json": {
       "version_major": 2,
       "version_minor": 0,
       "model_id": "2e149936147249c892a1ec01ef76c8bc"
      }
     },
     "metadata": {},
     "output_type": "display_data"
    },
    {
     "name": "stdout",
     "output_type": "stream",
     "text": [
      "Epoch 50/50\n",
      "Train loss: 0.1429\t Validation loss: 0.1942\tlr: 0.0001\n"
     ]
    }
   ],
   "execution_count": 16
  },
  {
   "metadata": {},
   "cell_type": "markdown",
   "source": "Una vez terminado el entrenamiento, podemos visualizar el proceso de optimización del espacio latente:",
   "id": "c922829467b0860c"
  },
  {
   "metadata": {
    "ExecuteTime": {
     "end_time": "2025-05-12T12:31:54.231248Z",
     "start_time": "2025-05-12T12:31:52.990245Z"
    }
   },
   "cell_type": "code",
   "source": "save_gif()",
   "id": "5178b2196f3c89f0",
   "outputs": [],
   "execution_count": 17
  },
  {
   "metadata": {},
   "cell_type": "markdown",
   "source": "<img src=\"latentspace_triplet_loss.gif\" width=500, heigh=500 />",
   "id": "3349ebff527b7df4"
  },
  {
   "metadata": {},
   "cell_type": "markdown",
   "source": "<img src=\"ScatterPlots_TripletLoss/Step_4000.png\" width=500, heigh=500 />",
   "id": "3d1d0855d13121b7"
  },
  {
   "metadata": {},
   "cell_type": "markdown",
   "source": "Por último, podemos seleccionar puntos aleatorios del espacio latente anterior y aprovechar la red de decodificación para comprobar que la red neuronal ha aprendedido correctamente a recuperar los datos de entrada a partir del espacio codificado:",
   "id": "86110f11aca6ccd2"
  },
  {
   "metadata": {
    "ExecuteTime": {
     "end_time": "2025-05-12T12:32:27.023375Z",
     "start_time": "2025-05-12T12:32:26.709352Z"
    }
   },
   "cell_type": "code",
   "source": [
    "# Muestras aleatorias de puntos en el espacio codificado\n",
    "xs = [random.uniform(-6.0, 4.0) for i in range(8)]\n",
    "ys = [random.uniform(-4.0, 4.0) for i in range(8)]\n",
    "\n",
    "points = list(zip(xs, ys))\n",
    "coords = torch.tensor(points).unsqueeze(1).to(DEVICE)\n",
    "\n",
    "nrows, ncols = 2, 4\n",
    "fig, axes = plt.subplots(nrows, ncols, figsize=(10, 5))\n",
    "\n",
    "model.eval()\n",
    "with torch.no_grad():\n",
    "    generates = [model.decoder(coord) for coord in coords]\n",
    "\n",
    "# Muestra las imágenes decodificadas a partir de los puntos anteriores\n",
    "idx = 0\n",
    "for row in range(0, nrows):\n",
    "    for col in range(0, ncols):\n",
    "        ax = axes[row, col]\n",
    "        im = generates[idx].squeeze().detach().cpu()\n",
    "        ax.imshow(im, cmap=\"gray\")\n",
    "        ax.axis(\"off\")\n",
    "        coord = coords[idx].detach().cpu().numpy()[0]\n",
    "        ax.set_title(f\"({coord[0]:.3f}, {coord[1]:.3f})\")\n",
    "        idx += 1\n",
    "\n",
    "plt.show()"
   ],
   "id": "a0bf81eef4958397",
   "outputs": [
    {
     "data": {
      "text/plain": [
       "<Figure size 1000x500 with 8 Axes>"
      ],
      "image/png": "[encoded data removed]"
     },
     "metadata": {},
     "output_type": "display_data"
    }
   ],
   "execution_count": 19
  }
 ],
 "metadata": {
  "kernelspec": {
   "display_name": "Python 3 (ipykernel)",
   "language": "python",
   "name": "python3"
  },
  "language_info": {
   "codemirror_mode": {
    "name": "ipython",
    "version": 3
   },
   "file_extension": ".py",
   "mimetype": "text/x-python",
   "name": "python",
   "nbconvert_exporter": "python",
   "pygments_lexer": "ipython3",
   "version": "3.12.9"
  }
 },
 "nbformat": 4,
 "nbformat_minor": 5
}
