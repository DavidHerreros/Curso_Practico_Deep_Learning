{
 "cells": [
  {
   "metadata": {},
   "cell_type": "markdown",
   "source": [
    "# PRÁCTICA 3: TRIPLET LOSS\n",
    "\n",
    "En esta práctica vamos a aprender a modificar el **__Autoencoder__** de la **Práctica 2** usando una función de pérdida conocida como __triplet loss__. Junto con esta modificación, aprenderemos a generar ``DataLoaders`` desde cero para poder ajustar la carga de datos a las necesidades de la red.\n",
    "\n",
    "El objetivo de esta función de pérdida consiste en mejorar la capacidad de clasificación del **__espacio latente__** de nuestra red, forzando a que las muestras pertenecientes a una clase determinada estén más aisladas con respecto a otras clases diferentes.\n",
    "\n",
    "En primer lugar, importaremos todas las librerías necesarias para definir nuestro autoencoder."
   ],
   "id": "c762eed88e18ba70"
  },
  {
   "cell_type": "code",
   "id": "e3bb26189d3d348e",
   "metadata": {
    "ExecuteTime": {
     "end_time": "2025-05-05T11:18:05.748357Z",
     "start_time": "2025-05-05T11:18:04.528071Z"
    }
   },
   "source": [
    "!jupyter nbextension enable --py widgetsnbextension"
   ],
   "outputs": [
    {
     "name": "stderr",
     "output_type": "stream",
     "text": [
      "Enabling notebook extension jupyter-js-widgets/extension...\n",
      "      - Validating: ok\n"
     ]
    }
   ],
   "execution_count": 327
  },
  {
   "cell_type": "code",
   "id": "945a549696356b8",
   "metadata": {
    "ExecuteTime": {
     "end_time": "2025-05-05T11:18:05.755381Z",
     "start_time": "2025-05-05T11:18:05.752381Z"
    }
   },
   "source": [
    "import os\n",
    "import random\n",
    "\n",
    "# Librerías de PyTorch\n",
    "import torch\n",
    "from torch import nn\n",
    "import torch.nn.functional as F\n",
    "from torch.utils.data import DataLoader, Dataset\n",
    "\n",
    "# Torch summary para hacer comprobacionesde la red\n",
    "from torchsummary import summary\n",
    "\n",
    "# Torch vision para descargar y preprocesar el conjunto de datos que usaremos para entrenar la red\n",
    "import torchvision\n",
    "from torchvision import transforms\n",
    "from torchvision.datasets import FashionMNIST\n",
    "\n",
    "# Herramientas adicionales para la visualización de los datos y resultados\n",
    "from PIL import Image\n",
    "from tqdm.notebook import tqdm\n",
    "import numpy as np\n",
    "import matplotlib.pyplot as plt"
   ],
   "outputs": [],
   "execution_count": 328
  },
  {
   "metadata": {},
   "cell_type": "markdown",
   "source": [
    "En segundo lugar haremos una serie de comprobaciones para determinar si podemos usar o no una GPU para entrenar la red. El uso de GPU en entrenamiento es altamente recomendable por no decir necesario para que los tiempos de ejecución sean asumibles.\n",
    "\n",
    "También aprovecharemos para definir una serie de parámetros de configuración para nuestra red:\n",
    "   - **Batch size**: Por normal general, los conjuntos de datos usados para entrenar una red neuronal tienen un gran tamaño. Esto impide que podamos cargar todos estos datos directamente en nuestra GPU. Por ello, es una práctica común entrear la red en un \"subconjunto\" de los datos más pequeño, calcular los gradientes y optimizar los parámetros de la red. El tamaño de este subconjunto es conocido como \"batch size\" y suele estar comprendido entre 8 y 1024 (aumentando generalmente en potencias de 2).\n",
    "   - **Epochs**: El paso de todas los lotes que componen el conjunto de datos por la red neuronal se conoce como una epoch. Es decir, cuando se completa una epoch la red ha visto el conjunto de datos completo. Generalmente, una sola epoch no es suficiente para entrenar una red neuronal, por lo que se suele recorre el conjunto de datos de entrada varias veces hasta que la red se ha optimizado por completo. El número total de veces que se recorre un dataset/epochs es un parámetro más a definir en nuestra red.\n",
    "   - **Learning rate**: Cada vez que se calcula el gradiente para un lote, el optimizador se encarga de actualizar los valores de los parámetros de la red a partir de este gradiente. Sin embargo, este gradiente solo nos define la \"dirección\" de la actualización. La \"cantidad\" en la que los parámetros se mueven en esa \"dirección\" viene determinada por el learning rate: cuanto más alto, mayor será la actualización de los parámetros de la red en base a la dirección del gradiente. Un valor alto puede ayudar a optimizar los parámetros más rápido, aunque también puede inducir divergencia. Aunque este valor depende de la red y el optimizador usado, por lo general se suele usar un valor entre 1e<sup>-3</sup> y 1e<sup>-5</sup>."
   ],
   "id": "93461d6bd19b419b"
  },
  {
   "metadata": {
    "ExecuteTime": {
     "end_time": "2025-05-05T11:18:05.801794Z",
     "start_time": "2025-05-05T11:18:05.798679Z"
    }
   },
   "cell_type": "code",
   "source": [
    "DEVICE = \"cuda\" if torch.cuda.is_available() else \"cpu\"\n",
    "print(\"El proyecto se ejecutará en: \", DEVICE)\n",
    "\n",
    "config = {\n",
    "    \"batch_size\": 64,\n",
    "    \"epochs\": 50,\n",
    "    \"lr\": 1e-4,   # learning rate\n",
    "}"
   ],
   "id": "4d81d8158c9ac8da",
   "outputs": [
    {
     "name": "stdout",
     "output_type": "stream",
     "text": [
      "El proyecto se ejecutará en:  cuda\n"
     ]
    }
   ],
   "execution_count": 329
  },
  {
   "metadata": {},
   "cell_type": "markdown",
   "source": [
    "Una vez terminada esta configuración preliminar, vamos a descargar los datos que usaremos para entrenar la red neuronal. El conjunto que usaremos se conoce como `FashionMNIST` y consiste de un conjunto de imágenes de diferentes prendas de ropa. Además, cada imagen contiene un identificador que determine el tipo de prenda de la images (por ejemplo, camiseta, zapatillas...)\n",
    "\n",
    "Antes de descargar los datos, definiremos una función para convertir las imágenes originales (PIL arrays) a Tensores."
   ],
   "id": "c483fd45c8cdc15b"
  },
  {
   "metadata": {
    "ExecuteTime": {
     "end_time": "2025-05-05T11:18:05.850424Z",
     "start_time": "2025-05-05T11:18:05.846252Z"
    }
   },
   "cell_type": "code",
   "source": [
    "def collate_fn(batch):\n",
    "    process = transforms.Compose([transforms.Pad([2]), transforms.ConvertImageDtype(torch.float32)])\n",
    "\n",
    "    positive_samples = [process(data[0][0]) for data in batch]\n",
    "    positive_samples = torch.stack(positive_samples, dim=0).unsqueeze(dim=1)\n",
    "\n",
    "    anchor_samples = [process(data[0][1]) for data in batch]\n",
    "    anchor_samples = torch.stack(anchor_samples, dim=0).unsqueeze(dim=1)\n",
    "\n",
    "    negative_samples = [process(data[0][2]) for data in batch]\n",
    "    negative_samples = torch.stack(negative_samples, dim=0).unsqueeze(dim=1)\n",
    "\n",
    "    # y - labels, hay que convertirlos al tipo LongTensor\n",
    "    y = torch.LongTensor([data[1] for data in batch])\n",
    "\n",
    "    return [positive_samples, anchor_samples, negative_samples], y"
   ],
   "id": "4c7795e3d1c25501",
   "outputs": [],
   "execution_count": 330
  },
  {
   "metadata": {},
   "cell_type": "markdown",
   "source": "A continuación se descargan los datos:",
   "id": "42e848e804cce531"
  },
  {
   "cell_type": "code",
   "id": "20f67973d4bbfb7d",
   "metadata": {
    "ExecuteTime": {
     "end_time": "2025-05-05T11:18:05.931214Z",
     "start_time": "2025-05-05T11:18:05.893839Z"
    }
   },
   "source": [
    "labels = [\"Camiseta\",\n",
    "          \"Vaqueros\",\n",
    "          \"Jersey\",\n",
    "          \"Vestido\",\n",
    "          \"Abrigo\",\n",
    "          \"Sandalia\",\n",
    "          \"Falda\",\n",
    "          \"Deportiva\",\n",
    "          \"Bolso\",\n",
    "          \"Zapato\"]\n",
    "\n",
    "# Descarga de los datos\n",
    "train_data = FashionMNIST(\"./MNIST_DATA\", train=True, download=True)\n",
    "valid_data = FashionMNIST(\"./MNIST_DATA\", train=False, download=True)"
   ],
   "outputs": [],
   "execution_count": 331
  },
  {
   "metadata": {},
   "cell_type": "markdown",
   "source": [
    "En esta ocasión, vamos a aprender a generar un ``DataLoader`` propio para poder generar los datos necesarios para la función de pérdida de __triplet loss__. Esta función de pérdida requiere de tres componentes:\n",
    " - **Muestra positiva**: Representa el lote de datos que vamos a clasificar.\n",
    " - **Muestra de anclaje**: Para cada muestra del primer lote, este segundo lote contiene muestras que pertenezcan a la misma clase que las muestras positivas. Nos servirán para forzar a que la red aprenda a clasificar estas muestras cerca unas de otras.\n",
    "- **Muestra negativa**: Para cada muestra del primer lote, este segundo lote contiene muestras que pertenezcan a una clase diferente a las de las muestras positivas. Nos servirán para forzar a que la red aprenda a clasificar estas muestras lejos de las muestras positivas.\n",
    "\n",
    "En base a lo anterior, definiremos nuestro nuevo ``DataLoader`` para que tenga la capacidad de generar estos tres tipos de muestras:\n"
   ],
   "id": "9347cda691c0a565"
  },
  {
   "metadata": {
    "ExecuteTime": {
     "end_time": "2025-05-05T11:18:05.954504Z",
     "start_time": "2025-05-05T11:18:05.942357Z"
    }
   },
   "cell_type": "code",
   "source": [
    "class TripletDataset(Dataset):\n",
    "    def __init__(self, data, labels):\n",
    "        self.data = data\n",
    "        self.labels = labels\n",
    "        self.indices = torch.arange(0, len(data))\n",
    "        self.classes, self.imgs_per_class = torch.unique(labels, return_counts=True)\n",
    "\n",
    "    def __len__(self):\n",
    "        return self.imgs_per_class[0]\n",
    "\n",
    "    def __getitem__(self, positive_idx):\n",
    "        anchor_class = self.labels[positive_idx]\n",
    "        negative_class = random.choice([c for c in self.classes if c != anchor_class])\n",
    "\n",
    "        aux = self.labels == anchor_class\n",
    "        aux[positive_idx] = 0  # No queremos escoger como anchor el mismo id de imagen que positive\n",
    "        anchor_idx = random.choice(self.indices[aux])\n",
    "        negative_idx = random.choice(self.indices[self.labels == negative_class])\n",
    "\n",
    "        positive_img = self.data[positive_idx]\n",
    "        anchor_img = self.data[anchor_idx]\n",
    "        negative_img = self.data[negative_idx]\n",
    "\n",
    "        return [positive_img, anchor_img, negative_img], self.labels[positive_idx]\n",
    "\n",
    "# Generamos los DataLoader\n",
    "train_loader = DataLoader(TripletDataset(train_data.data, train_data.targets), batch_size=config[\"batch_size\"],\n",
    "                          shuffle=True, collate_fn=collate_fn)\n",
    "valid_loader = DataLoader(TripletDataset(valid_data.data, valid_data.targets), batch_size=config[\"batch_size\"],\n",
    "                           shuffle=False, collate_fn=collate_fn)"
   ],
   "id": "57930a5f8e1369c5",
   "outputs": [],
   "execution_count": 332
  },
  {
   "metadata": {},
   "cell_type": "markdown",
   "source": [
    "Los conjuntos descargados incluyen:\n",
    "   - **Conjunto de entrenamiento**: Compuesto por las imágenes que usaremos para entrenar y actualizar los parámetros de la red\n",
    "   - **Conjunto de validación**: Cada un número determinado de epochs, evaluremos este conjunto con la red para obtener una predicción. Esta predicción **NO SE USARÁ PARA ENTRENAR LA RED**. El objetivo es evaluar si las predicciones son las correctas para determinar si la red neuronal tiene capacidad de generalización o está aprendiendo a memorizar los datos de entrenamiento\n",
    "\n",
    "Una vez hemos descargado los datos, podemos hacer una comprobación rápida para inspeccionar las imágenes:"
   ],
   "id": "7b7183ede1b5decc"
  },
  {
   "cell_type": "code",
   "id": "536cac402bb51991",
   "metadata": {
    "ExecuteTime": {
     "end_time": "2025-05-05T11:18:06.121170Z",
     "start_time": "2025-05-05T11:18:05.986104Z"
    }
   },
   "source": [
    "print(\"Inspección de los datos de entrenamiento: \")\n",
    "for _, data in enumerate(train_loader):\n",
    "    print(\"Tamaño del lote: \", data[0][0].shape)\n",
    "    fig, ax = plt.subplots(1, 4, figsize=(10, 4))\n",
    "\n",
    "    for i in range(4):\n",
    "        ax[i].imshow(data[0][0][i].squeeze().numpy(), cmap=\"gray\")\n",
    "        ax[i].axis(\"off\")\n",
    "        ax[i].set_title(labels[data[1][i]])\n",
    "    plt.show()\n",
    "    # Usamos break para no recorrer todo el DataLoader\n",
    "    break"
   ],
   "outputs": [
    {
     "name": "stdout",
     "output_type": "stream",
     "text": [
      "Inspección de los datos de entrenamiento: \n",
      "Tamaño del lote:  torch.Size([64, 1, 32, 32])\n"
     ]
    },
    {
     "data": {
      "text/plain": [
       "<Figure size 1000x400 with 4 Axes>"
      ],
      "image/png": "[encoded data removed]"
     },
     "metadata": {},
     "output_type": "display_data"
    }
   ],
   "execution_count": 333
  },
  {
   "metadata": {},
   "cell_type": "markdown",
   "source": "A continuación vamos a definir nuestra __triplet loss__. La definiremos como una clase para que sea más sencillo de utilizar en el loop de entrenamiento:",
   "id": "414ea2fe74c956e9"
  },
  {
   "metadata": {
    "ExecuteTime": {
     "end_time": "2025-05-05T11:18:06.144711Z",
     "start_time": "2025-05-05T11:18:06.140697Z"
    }
   },
   "cell_type": "code",
   "source": [
    "class TripletMarginLoss(nn.Module):\n",
    "    def __init__(self, margin=1.0):\n",
    "        super(TripletMarginLoss, self).__init__()\n",
    "        self.margin = margin\n",
    "\n",
    "    def forward(self, positive, anchor, negative):\n",
    "        pos_dist = torch.nn.functional.pairwise_distance(anchor, positive)\n",
    "        neg_dist = torch.nn.functional.pairwise_distance(anchor, negative)\n",
    "        loss = torch.mean(torch.relu(pos_dist - neg_dist + self.margin))\n",
    "        return loss"
   ],
   "id": "c93b68f28656ceb",
   "outputs": [],
   "execution_count": 334
  },
  {
   "metadata": {},
   "cell_type": "markdown",
   "source": "Ha llegado el momento de definir nuestra red neuronal de codificación y decodificación. En primer lugar, definiremos una seria de atributos que serán de utilidad para definir las capas de nuestras redes:",
   "id": "8039a23a7fbcca67"
  },
  {
   "cell_type": "code",
   "id": "a9ba3f6791e5dbb2",
   "metadata": {
    "ExecuteTime": {
     "end_time": "2025-05-05T11:18:06.199683Z",
     "start_time": "2025-05-05T11:18:06.196752Z"
    }
   },
   "source": [
    "# Model parameters:\n",
    "LAYERS = 3  # Cantidad de capas en la red\n",
    "KERNELS = [3, 3, 3]  # Tamaño del kernel de convolución (uno para cada capa)\n",
    "CHANNELS = [32, 64, 128]  # Cantidad de canales/filtros que se calcularán en cada capa\n",
    "STRIDES = [2, 2, 2]  # Parámetro que determina el movimiento del filtro a través de los datos de entrada. Al realizar una operación de convolución, este parámetros determina cuántas unidades se desplaza el filtro en cada paso. Este desplazamiento puede ser horizontal, vertical o ambos, según su configuración.\n",
    "LINEAR_DIM = 2048  # Tamaño de las capas densas (el número de neuronas de cada capa densa)"
   ],
   "outputs": [],
   "execution_count": 335
  },
  {
   "metadata": {},
   "cell_type": "markdown",
   "source": "Ahora definimos la red de codificación:",
   "id": "c4f25fb39d2bc9d4"
  },
  {
   "cell_type": "code",
   "id": "ecd15a664b9c57ac",
   "metadata": {
    "ExecuteTime": {
     "end_time": "2025-05-05T11:18:06.259314Z",
     "start_time": "2025-05-05T11:18:06.249616Z"
    }
   },
   "source": [
    "# Siempre que definimos una red, creamos una clase que hereda de nn.Module\n",
    "class Encoder(nn.Module):\n",
    "\n",
    "    def __init__(self, output_dim=2, use_batchnorm=False, use_dropout=False):\n",
    "        super(Encoder, self).__init__()\n",
    "\n",
    "        # Dimensión del espacio codificado (espacio latente)\n",
    "        self.output_dim = output_dim\n",
    "\n",
    "        # Variables que determinan si se usan capas de dropout y de normalización de lotes\n",
    "        self.use_dropout = use_dropout\n",
    "        self.use_batchnorm = use_batchnorm\n",
    "\n",
    "        # Hyperparámetros de las capas convolucionales\n",
    "        self.layers = LAYERS\n",
    "        self.kernels = KERNELS\n",
    "        self.channels = CHANNELS\n",
    "        self.strides = STRIDES\n",
    "        self.conv = self.get_convs()  # Esta función define las capas como un modelo secuencial (es opcional, pero ayuda a organizar el código)\n",
    "\n",
    "        # Capas densas para generar el espacio latente\n",
    "        self.fc_dim = LINEAR_DIM\n",
    "        self.flatten = nn.Flatten()\n",
    "        self.linear = nn.Linear(self.fc_dim, self.output_dim)\n",
    "\n",
    "\n",
    "    def get_convs(self):\n",
    "        \"\"\"\n",
    "        generating convolutional layers based on model's\n",
    "        hyper parameters\n",
    "        \"\"\"\n",
    "        conv_layers = nn.Sequential()  # Definimos un modelo secuencial (cada capa se ejecuta una detrás de otra)\n",
    "        for i in range(self.layers):\n",
    "            if i == 0: conv_layers.append(nn.Conv2d(1,  # Número de canales de la imagen de entrada (1 si es imagen en escala de grises, 3 si es RGB)\n",
    "                                              self.channels[i],  # Número de filtros que genera esta capa en la salida\n",
    "                                              kernel_size=self.kernels[i],\n",
    "                                              stride=self.strides[i],\n",
    "                                              padding=1)\n",
    "                                         )\n",
    "\n",
    "            else: conv_layers.append(nn.Conv2d(self.channels[i-1],\n",
    "                                         self.channels[i],\n",
    "                                         kernel_size=self.kernels[i],\n",
    "                                         stride=self.strides[i],\n",
    "                                         padding=1))\n",
    "\n",
    "            if self.use_batchnorm:\n",
    "                conv_layers.append(nn.BatchNorm2d(self.channels[i]))\n",
    "\n",
    "            # Here we use ReLU as activation function\n",
    "            conv_layers.append(nn.ReLU())\n",
    "\n",
    "            if self.use_dropout:\n",
    "                conv_layers.append(nn.Dropout2d(0.15))\n",
    "\n",
    "        return conv_layers\n",
    "\n",
    "\n",
    "    # Este método es obligatorio y se usa para determinar el flujo de ejecución de la red neuronal\n",
    "    def forward(self, x):\n",
    "        x = self.conv(x)\n",
    "        x = self.flatten(x)\n",
    "        return self.linear(x)\n",
    "\n",
    "summary(Encoder().to(DEVICE), input_size=(1,32,32))"
   ],
   "outputs": [
    {
     "name": "stdout",
     "output_type": "stream",
     "text": [
      "----------------------------------------------------------------\n",
      "        Layer (type)               Output Shape         Param #\n",
      "================================================================\n",
      "            Conv2d-1           [-1, 32, 16, 16]             320\n",
      "              ReLU-2           [-1, 32, 16, 16]               0\n",
      "            Conv2d-3             [-1, 64, 8, 8]          18,496\n",
      "              ReLU-4             [-1, 64, 8, 8]               0\n",
      "            Conv2d-5            [-1, 128, 4, 4]          73,856\n",
      "              ReLU-6            [-1, 128, 4, 4]               0\n",
      "           Flatten-7                 [-1, 2048]               0\n",
      "            Linear-8                    [-1, 2]           4,098\n",
      "================================================================\n",
      "Total params: 96,770\n",
      "Trainable params: 96,770\n",
      "Non-trainable params: 0\n",
      "----------------------------------------------------------------\n",
      "Input size (MB): 0.00\n",
      "Forward/backward pass size (MB): 0.23\n",
      "Params size (MB): 0.37\n",
      "Estimated Total Size (MB): 0.61\n",
      "----------------------------------------------------------------\n"
     ]
    }
   ],
   "execution_count": 336
  },
  {
   "metadata": {},
   "cell_type": "markdown",
   "source": "A continuación definimos la red de decodificación, que es un espejo de la red de codificación (aunque no es obligatorio):",
   "id": "cf60edce60ea1345"
  },
  {
   "cell_type": "code",
   "id": "d6c534f7a12e5896",
   "metadata": {
    "ExecuteTime": {
     "end_time": "2025-05-05T11:18:06.294683Z",
     "start_time": "2025-05-05T11:18:06.284096Z"
    }
   },
   "source": [
    "class Decoder(nn.Module):\n",
    "\n",
    "    def __init__(self, input_dim=2, use_batchnorm=False, use_dropout=False):\n",
    "\n",
    "        super(Decoder, self).__init__()\n",
    "\n",
    "        # Variables que determinan si se usan capas de dropout y de normalización de lotes\n",
    "        self.use_dropout = use_dropout\n",
    "        self.use_batchnorm = use_batchnorm\n",
    "\n",
    "        self.fc_dim = LINEAR_DIM\n",
    "        self.input_dim = input_dim\n",
    "\n",
    "        # Hyperparámetros de las capas convolucionales\n",
    "        self.layers = LAYERS\n",
    "        self.kernels = KERNELS\n",
    "        self.channels = CHANNELS[::-1] # flip the channel dimensions\n",
    "        self.strides = STRIDES\n",
    "\n",
    "        # Al ser un espejo de la red de codificación, primero usaremos capas densas y luego convolucionales transpuestas\n",
    "        self.linear = nn.Linear(self.input_dim, self.fc_dim)\n",
    "        self.conv =  self.get_convs()\n",
    "\n",
    "        self.output = nn.Conv2d(self.channels[-1], 1, kernel_size=1, stride=1)\n",
    "\n",
    "    def get_convs(self):\n",
    "        conv_layers = nn.Sequential()\n",
    "        for i in range(self.layers):\n",
    "\n",
    "            if i == 0: conv_layers.append(\n",
    "                            nn.ConvTranspose2d(self.channels[i],\n",
    "                                               self.channels[i],\n",
    "                                               kernel_size=self.kernels[i],\n",
    "                                               stride=self.strides[i],\n",
    "                                               padding=1,\n",
    "                                               output_padding=1)\n",
    "                            )\n",
    "\n",
    "            else: conv_layers.append(\n",
    "                            nn.ConvTranspose2d(self.channels[i-1],\n",
    "                                               self.channels[i],\n",
    "                                               kernel_size=self.kernels[i],\n",
    "                                               stride=self.strides[i],\n",
    "                                               padding=1,\n",
    "                                               output_padding=1\n",
    "                                              )\n",
    "                            )\n",
    "\n",
    "            if self.use_batchnorm and i != self.layers - 1:\n",
    "                conv_layers.append(nn.BatchNorm2d(self.channels[i]))\n",
    "\n",
    "            conv_layers.append(nn.ReLU())\n",
    "\n",
    "            if self.use_dropout:\n",
    "                conv_layers.append(nn.Dropout2d(0.15))\n",
    "\n",
    "        return conv_layers\n",
    "\n",
    "\n",
    "    def forward(self, x):\n",
    "        x = self.linear(x)\n",
    "        # reshape 3D tensor to 4D tensor\n",
    "        x = x.reshape(x.shape[0], 128, 4, 4)\n",
    "        x = self.conv(x)\n",
    "        return self.output(x)\n",
    "\n",
    "summary(Decoder().to(DEVICE), input_size=(2, ))"
   ],
   "outputs": [
    {
     "name": "stdout",
     "output_type": "stream",
     "text": [
      "----------------------------------------------------------------\n",
      "        Layer (type)               Output Shape         Param #\n",
      "================================================================\n",
      "            Linear-1                 [-1, 2048]           6,144\n",
      "   ConvTranspose2d-2            [-1, 128, 8, 8]         147,584\n",
      "              ReLU-3            [-1, 128, 8, 8]               0\n",
      "   ConvTranspose2d-4           [-1, 64, 16, 16]          73,792\n",
      "              ReLU-5           [-1, 64, 16, 16]               0\n",
      "   ConvTranspose2d-6           [-1, 32, 32, 32]          18,464\n",
      "              ReLU-7           [-1, 32, 32, 32]               0\n",
      "            Conv2d-8            [-1, 1, 32, 32]              33\n",
      "================================================================\n",
      "Total params: 246,017\n",
      "Trainable params: 246,017\n",
      "Non-trainable params: 0\n",
      "----------------------------------------------------------------\n",
      "Input size (MB): 0.00\n",
      "Forward/backward pass size (MB): 0.90\n",
      "Params size (MB): 0.94\n",
      "Estimated Total Size (MB): 1.84\n",
      "----------------------------------------------------------------\n"
     ]
    }
   ],
   "execution_count": 337
  },
  {
   "metadata": {},
   "cell_type": "markdown",
   "source": "Una vez hemos definido las dos redes neuronales, es conveniente hacer una nueva red neuronal que aune las dos anteriores. Esta nueva red será nuestro **_autoencoder_** y simplificará enormemente su uso más adelante:",
   "id": "36cfd9e80e21233f"
  },
  {
   "cell_type": "code",
   "id": "1cb8798d703f616d",
   "metadata": {
    "ExecuteTime": {
     "end_time": "2025-05-05T11:18:06.335536Z",
     "start_time": "2025-05-05T11:18:06.327605Z"
    }
   },
   "source": [
    "class AutoEncoder(nn.Module):\n",
    "\n",
    "    def __init__(self):\n",
    "        super(AutoEncoder, self).__init__()\n",
    "        self.encoder = Encoder(output_dim=2,\n",
    "                               use_batchnorm=True, use_dropout=False)\n",
    "        self.decoder = Decoder(input_dim=2,\n",
    "                               use_batchnorm=True, use_dropout=False)\n",
    "\n",
    "    def forward(self, x):\n",
    "        return self.decoder(self.encoder(x))\n",
    "\n",
    "model = AutoEncoder()\n",
    "model.to(DEVICE)"
   ],
   "outputs": [
    {
     "data": {
      "text/plain": [
       "AutoEncoder(\n",
       "  (encoder): Encoder(\n",
       "    (conv): Sequential(\n",
       "      (0): Conv2d(1, 32, kernel_size=(3, 3), stride=(2, 2), padding=(1, 1))\n",
       "      (1): BatchNorm2d(32, eps=1e-05, momentum=0.1, affine=True, track_running_stats=True)\n",
       "      (2): ReLU()\n",
       "      (3): Conv2d(32, 64, kernel_size=(3, 3), stride=(2, 2), padding=(1, 1))\n",
       "      (4): BatchNorm2d(64, eps=1e-05, momentum=0.1, affine=True, track_running_stats=True)\n",
       "      (5): ReLU()\n",
       "      (6): Conv2d(64, 128, kernel_size=(3, 3), stride=(2, 2), padding=(1, 1))\n",
       "      (7): BatchNorm2d(128, eps=1e-05, momentum=0.1, affine=True, track_running_stats=True)\n",
       "      (8): ReLU()\n",
       "    )\n",
       "    (flatten): Flatten(start_dim=1, end_dim=-1)\n",
       "    (linear): Linear(in_features=2048, out_features=2, bias=True)\n",
       "  )\n",
       "  (decoder): Decoder(\n",
       "    (linear): Linear(in_features=2, out_features=2048, bias=True)\n",
       "    (conv): Sequential(\n",
       "      (0): ConvTranspose2d(128, 128, kernel_size=(3, 3), stride=(2, 2), padding=(1, 1), output_padding=(1, 1))\n",
       "      (1): BatchNorm2d(128, eps=1e-05, momentum=0.1, affine=True, track_running_stats=True)\n",
       "      (2): ReLU()\n",
       "      (3): ConvTranspose2d(128, 64, kernel_size=(3, 3), stride=(2, 2), padding=(1, 1), output_padding=(1, 1))\n",
       "      (4): BatchNorm2d(64, eps=1e-05, momentum=0.1, affine=True, track_running_stats=True)\n",
       "      (5): ReLU()\n",
       "      (6): ConvTranspose2d(64, 32, kernel_size=(3, 3), stride=(2, 2), padding=(1, 1), output_padding=(1, 1))\n",
       "      (7): ReLU()\n",
       "    )\n",
       "    (output): Conv2d(32, 1, kernel_size=(1, 1), stride=(1, 1))\n",
       "  )\n",
       ")"
      ]
     },
     "execution_count": 338,
     "metadata": {},
     "output_type": "execute_result"
    }
   ],
   "execution_count": 338
  },
  {
   "metadata": {},
   "cell_type": "markdown",
   "source": "Una vez definido nuestro autoencoder, podemos empezar a escribir nuestro loop de entrenamiento. Sin embargo, antes de hablar sobre el entrenamiento, vamos a definir una serie de funciones para representar el espacio latente codificado a medida que entrenamos, para así poder comprender como la red neuronal aprende de manera progresiva a clasificar nuestro datos:",
   "id": "93810a1cb4ab5ccd"
  },
  {
   "cell_type": "code",
   "id": "88ef725126b061f7",
   "metadata": {
    "ExecuteTime": {
     "end_time": "2025-05-05T11:18:06.367914Z",
     "start_time": "2025-05-05T11:18:06.362048Z"
    }
   },
   "source": [
    "def plotting(step:int=0, show=False):\n",
    "\n",
    "    model.eval()  # Pasamos el modelo a modo evaluación (en este modo, las capas de Dropout y BatchNorm se desactivan para mejorar la precisión de las predicciones)\n",
    "\n",
    "    points = []\n",
    "    label_idcs = []\n",
    "\n",
    "    path = \"./ScatterPlots_TripletLoss\"\n",
    "    if not os.path.exists(path): os.mkdir(path)\n",
    "\n",
    "    for i, data in enumerate(valid_loader):\n",
    "        img, label = [d for d in data]\n",
    "        img = img[0].to(DEVICE)\n",
    "        # Solo necesitamos codificar las imágenes\n",
    "        proj = model.encoder(img)\n",
    "        points.extend(proj.detach().cpu().numpy())\n",
    "        label_idcs.extend(label.detach().cpu().numpy())\n",
    "        del img, label\n",
    "\n",
    "    points = np.array(points)\n",
    "\n",
    "    # Creamos nuestra gráfica\n",
    "    fig, ax = plt.subplots(figsize=(10, 10) if not show else (8, 8))\n",
    "    scatter = ax.scatter(x=points[:, 0], y=points[:, 1], s=5.0,\n",
    "                c=label_idcs, cmap='tab10', alpha=0.9, zorder=2)\n",
    "    plt.title(\"Step {}\".format(step))\n",
    "    handles, _ = scatter.legend_elements()\n",
    "    plt.legend(handles=handles, labels=labels)\n",
    "\n",
    "    ax.spines[\"right\"].set_visible(False)\n",
    "    ax.spines[\"top\"].set_visible(False)\n",
    "\n",
    "    #ax.set_xlim([-10, 10])\n",
    "    #ax.set_ylim([-10, 10])\n",
    "\n",
    "    if show:\n",
    "        ax.grid(True, color=\"lightgray\", alpha=1.0, zorder=0)\n",
    "        plt.show()\n",
    "    else:\n",
    "        # Aqui guardamos la gráfica actual\n",
    "        plt.savefig(f\"{path}/Step_{step:04d}.png\", bbox_inches=\"tight\")\n",
    "        plt.close() # Es importante no olvidarse de cerrar la figura para que no se quede cargada en memoria\n",
    "        model.train()\n",
    "\n",
    "# Conversión de las gráficas a un formato GIF\n",
    "def save_gif():\n",
    "\n",
    "  frames = []\n",
    "  imgs = sorted(os.listdir(\"./ScatterPlots_TripletLoss\"))\n",
    "\n",
    "  for im in imgs:\n",
    "      new_frame = Image.open(\"./ScatterPlots_TripletLoss/\" + im)\n",
    "      frames.append(new_frame)\n",
    "\n",
    "  frames[0].save(\"latentspace_triplet_loss.gif\", format=\"GIF\",\n",
    "                 append_images=frames[1:],\n",
    "                 save_all=True,\n",
    "                 duration=200, loop=0)"
   ],
   "outputs": [],
   "execution_count": 339
  },
  {
   "metadata": {},
   "cell_type": "markdown",
   "source": "Antes de definir el loop de entrenamiento, vamos a definir unas variables de configuración y el optimizador para poder usarlas durante el entrenamiento:",
   "id": "8d64d82d775f834c"
  },
  {
   "cell_type": "code",
   "id": "912c4a969fd8493c",
   "metadata": {
    "ExecuteTime": {
     "end_time": "2025-05-05T11:18:06.420Z",
     "start_time": "2025-05-05T11:18:06.416834Z"
    }
   },
   "source": [
    "criterion = nn.MSELoss()  # Usaremos como función de péridida el error cuadrático medio\n",
    "triplet_loss_fn = TripletMarginLoss(margin=1.0)  # El atributo \"margin\" controla como de cerca se tenderán a colocar muestras pertenecientes a la misma clase (así evitamos overfitting)\n",
    "optimizer = torch.optim.AdamW(model.parameters(), lr=config[\"lr\"], weight_decay=1e-5)\n",
    "\n",
    "# For mixed precision training\n",
    "scaler = torch.amp.GradScaler(\"cuda\")  # Para poder hacer mixed precision training (explicación en la siguiente celda)\n",
    "steps = 0  # Variable para contar el número de steps/lotes que ha ido viendo la red"
   ],
   "outputs": [],
   "execution_count": 340
  },
  {
   "metadata": {},
   "cell_type": "markdown",
   "source": [
    "### UN POCO DE TEORÍA SOBRE EL ENTRENAMIENTO CON MEZCLA DE PRECISIÓN\n",
    "\n",
    "Como se puede ver en la celda anterior, hemos definido una variable llamada \"scaler\". Esta variable nos permitirá hacer un entrenamiento con mezcla de precisión.\n",
    "\n",
    "Durante el entrenamiento estándar de redes neuronales, se utiliza `Float32` para representar los parámetros del modelo, a costa de un mayor requerimiento de memoria. En el entrenamiento de precisión mixta, se utiliza ``Float16`` para almacenar los pesos, las activaciones y los gradientes durante las iteraciones de entrenamiento.\n",
    "\n",
    "Sin embargo, como vimos anteriormente, esto crea un problema, ya que el rango de valores que puede almacenar ``Float16`` es menor que el de ``Float32``, y la precisión disminuye a medida que el número se reduce. Esto se traduce en una disminución de la precisión del modelo, en consonancia con la precisión de los valores de punto flotante calculados.\n",
    "\n",
    "Para evitar esto, se almacena una copia maestra de los pesos en ``Float32``. Esta se convierte a ``Float16`` durante parte de cada iteración de entrenamiento (un pase hacia adelante, backpropagation y actualización de pesos). Al final de la iteración, los gradientes de pesos se utilizan para actualizar los pesos maestros durante el paso del optimizador.\n",
    "\n",
    "Aquí, podemos observar la ventaja de conservar la copia ``Float32`` de los pesos. Dado que la tasa de aprendizaje suele ser baja, al multiplicarlos por los gradientes, estos pueden ser valores minúsculos. Para Float16, cualquier número con una magnitud menor a 2<sup>-24</sup> se equiparará a cero, ya que no se puede representar (este es el límite desnormalizado para ``Float16``). Por lo tanto, al completar las actualizaciones en ``Float32``, estos valores de actualización se pueden conservar.\n",
    "\n",
    "Por lo anterior, es conveniente hacer una escalado de la función de pérdidas, un proceso mediante el cual el valor de la pérdida se multiplica por un factor de escala después de completar el paso hacia adelante y antes de la backprogation. La regla de la cadena dicta que todos los gradientes se escalan posteriormente por el mismo factor, lo que los mantiene dentro del rango de ``Float16``.\n",
    "\n",
    "Una vez calculados los gradientes, se pueden dividir por el mismo factor de escala, antes de usarlos para actualizar los pesos maestros en ``Float32``, como se describe en la sección anterior.\n",
    "\n",
    "El uso de ``Float16`` y ``Float32`` es la razón por la que esta técnica se denomina entrenamiento de precisión mixta.\n",
    "\n"
   ],
   "id": "54d1efb607602562"
  },
  {
   "metadata": {},
   "cell_type": "markdown",
   "source": [
    "A continuación vamos a deifinir el loop de entraniento. Para tener el código más ordenado, definiremos dos funciones:\n",
    "   - **Función \"train\"**: Contiene toda la lógica necesaria para entrenar el modelo durante una epoch completa\n",
    "   - **Función \"validate\"**: Contiene toda la lógica para evaluar el módelo en un conjunto de datos (pero sin actualizar los parámetros de la red con estos datos)"
   ],
   "id": "5da0cc706018517e"
  },
  {
   "cell_type": "code",
   "id": "9a2c922f39064606",
   "metadata": {
    "ExecuteTime": {
     "end_time": "2025-05-05T11:18:06.458614Z",
     "start_time": "2025-05-05T11:18:06.452039Z"
    }
   },
   "source": [
    "def train(model, dataloader, criterion, triplet_loss_fn, optimizer, save_distrib=False):\n",
    "    # Esta variable solo la usamos para hacer un seguimiento del entranamiento y poder guardar los espacios latentes\n",
    "    global steps\n",
    "\n",
    "    model.train()\n",
    "    train_loss = 0.0\n",
    "\n",
    "    # Barra de progreso\n",
    "    batch_bar = tqdm(total=len(dataloader), dynamic_ncols=True,\n",
    "                     leave=False, position=0, desc=\"Train\")\n",
    "\n",
    "    for i, batch in enumerate(dataloader):\n",
    "\n",
    "        optimizer.zero_grad()\n",
    "        positives = batch[0][0].to(DEVICE)\n",
    "        anchors = batch[0][1].to(DEVICE)\n",
    "        negatives = batch[0][2].to(DEVICE)\n",
    "\n",
    "        # Aquí implementamos el entrenamiento con mezcla de precisión\n",
    "        with torch.amp.autocast(\"cuda\"):\n",
    "            latent_positives = model.encoder(positives)\n",
    "            latent_anchors = model.encoder(anchors)\n",
    "            latent_negatives = model.encoder(negatives)\n",
    "            y_recons = model.decoder(latent_positives)\n",
    "            triplet_loss = triplet_loss_fn(latent_positives, latent_anchors, latent_negatives)\n",
    "            representation_loss = criterion(y_recons, positives)\n",
    "            loss = representation_loss + triplet_loss\n",
    "\n",
    "        train_loss += loss.item()\n",
    "\n",
    "        scaler.scale(loss).backward()\n",
    "        scaler.step(optimizer)\n",
    "        scaler.update()\n",
    "\n",
    "        batch_bar.set_postfix(\n",
    "            loss=f\"{train_loss/(i+1):.4f}\",\n",
    "            lr = f\"{optimizer.param_groups[0]['lr']:.4f}\"\n",
    "        )\n",
    "        batch_bar.update()\n",
    "\n",
    "        # Guardamos el estado del espacio latente para su posterior visualización\n",
    "        if steps % 100 == 0 and save_distrib and steps <= 4000: plotting(steps)\n",
    "        steps += 1\n",
    "\n",
    "        # Eliminamos el cache no necesario de la GPU para ahorrar memoriar\n",
    "        torch.cuda.empty_cache()\n",
    "        del positives, anchors, negatives, y_recons\n",
    "\n",
    "    batch_bar.close()\n",
    "    train_loss /= len(dataloader)\n",
    "\n",
    "    return train_loss\n",
    "\n",
    "\n",
    "def validate(model, dataloader, criterion, triplet_loss_fn):\n",
    "\n",
    "    model.eval()  # Usamos el modelo en modo evaluación (capas de Dropout y BatchNorm desactivadas)\n",
    "    valid_loss = 0.0\n",
    "\n",
    "    # Barra de progreso\n",
    "    batch_bar = tqdm(total=len(dataloader), dynamic_ncols=True,\n",
    "                     leave=False, position=0, desc=\"Validation\")\n",
    "\n",
    "    for i, batch in enumerate(dataloader):\n",
    "        positives = batch[0][0].to(DEVICE)\n",
    "        anchors = batch[0][1].to(DEVICE)\n",
    "        negatives = batch[0][2].to(DEVICE)\n",
    "\n",
    "        with torch.no_grad():  # No necesitamos los gradientes en la validación\n",
    "            latent_positives = model.encoder(positives)\n",
    "            latent_anchors = model.encoder(anchors)\n",
    "            latent_negatives = model.encoder(negatives)\n",
    "            y_recons = model.decoder(latent_positives)\n",
    "            triplet_loss = triplet_loss_fn(latent_positives, latent_anchors, latent_negatives)\n",
    "            representation_loss = criterion(y_recons, positives)\n",
    "            loss = representation_loss + triplet_loss\n",
    "\n",
    "        valid_loss += loss.item()\n",
    "\n",
    "        batch_bar.set_postfix(\n",
    "            loss=f\"{valid_loss/(i+1):.4f}\",\n",
    "            lr = f\"{optimizer.param_groups[0]['lr']:.4f}\"\n",
    "        )\n",
    "        batch_bar.update()\n",
    "\n",
    "        torch.cuda.empty_cache()\n",
    "        del positives, anchors, negatives, y_recons\n",
    "\n",
    "    batch_bar.close()\n",
    "    valid_loss /= len(dataloader)\n",
    "\n",
    "    return valid_loss"
   ],
   "outputs": [],
   "execution_count": 341
  },
  {
   "metadata": {},
   "cell_type": "markdown",
   "source": "A continuación definimos el loop de entrenamiento y entrenamos nuestra red neuronal:",
   "id": "d6dcf54432994e63"
  },
  {
   "cell_type": "code",
   "id": "933bc06c819164ff",
   "metadata": {
    "ExecuteTime": {
     "end_time": "2025-05-05T11:26:04.335613Z",
     "start_time": "2025-05-05T11:18:06.482192Z"
    }
   },
   "source": [
    "for i in range(config[\"epochs\"]):\n",
    "\n",
    "    curr_lr = float(optimizer.param_groups[0][\"lr\"])\n",
    "    train_loss = train(model, train_loader, criterion,\n",
    "                       triplet_loss_fn, optimizer, save_distrib=True)\n",
    "    valid_loss = validate(model, valid_loader, criterion, triplet_loss_fn)\n",
    "\n",
    "    print(f\"Epoch {i+1}/{config['epochs']}\\nTrain loss: {train_loss:.4f}\\t Validation loss: {valid_loss:.4f}\\tlr: {curr_lr:.4f}\")"
   ],
   "outputs": [
    {
     "data": {
      "text/plain": [
       "Train:   0%|          | 0/94 [00:00<?, ?it/s]"
      ],
      "application/vnd.jupyter.widget-view+json": {
       "version_major": 2,
       "version_minor": 0,
       "model_id": "3fe360c160024d408cc8dba7b3e47acc"
      }
     },
     "metadata": {},
     "output_type": "display_data"
    },
    {
     "data": {
      "text/plain": [
       "Validation:   0%|          | 0/16 [00:00<?, ?it/s]"
      ],
      "application/vnd.jupyter.widget-view+json": {
       "version_major": 2,
       "version_minor": 0,
       "model_id": "69c1ed0ec8ab4d86ac9104b6ce341b39"
      }
     },
     "metadata": {},
     "output_type": "display_data"
    },
    {
     "name": "stdout",
     "output_type": "stream",
     "text": [
      "Epoch 1/50\n",
      "Train loss: 0.4071\t Validation loss: 0.2917\tlr: 0.0001\n"
     ]
    },
    {
     "data": {
      "text/plain": [
       "Train:   0%|          | 0/94 [00:00<?, ?it/s]"
      ],
      "application/vnd.jupyter.widget-view+json": {
       "version_major": 2,
       "version_minor": 0,
       "model_id": "85989c2187d04a618beaea63640e2a6b"
      }
     },
     "metadata": {},
     "output_type": "display_data"
    },
    {
     "data": {
      "text/plain": [
       "Validation:   0%|          | 0/16 [00:00<?, ?it/s]"
      ],
      "application/vnd.jupyter.widget-view+json": {
       "version_major": 2,
       "version_minor": 0,
       "model_id": "3f81241559e54284b4266e99f3f27b53"
      }
     },
     "metadata": {},
     "output_type": "display_data"
    },
    {
     "name": "stdout",
     "output_type": "stream",
     "text": [
      "Epoch 2/50\n",
      "Train loss: 0.2777\t Validation loss: 0.2424\tlr: 0.0001\n"
     ]
    },
    {
     "data": {
      "text/plain": [
       "Train:   0%|          | 0/94 [00:00<?, ?it/s]"
      ],
      "application/vnd.jupyter.widget-view+json": {
       "version_major": 2,
       "version_minor": 0,
       "model_id": "0807932516e149aca1c16419d7b37be3"
      }
     },
     "metadata": {},
     "output_type": "display_data"
    },
    {
     "data": {
      "text/plain": [
       "Validation:   0%|          | 0/16 [00:00<?, ?it/s]"
      ],
      "application/vnd.jupyter.widget-view+json": {
       "version_major": 2,
       "version_minor": 0,
       "model_id": "6c839528bc8848ba89536da85b805d94"
      }
     },
     "metadata": {},
     "output_type": "display_data"
    },
    {
     "name": "stdout",
     "output_type": "stream",
     "text": [
      "Epoch 3/50\n",
      "Train loss: 0.2482\t Validation loss: 0.2376\tlr: 0.0001\n"
     ]
    },
    {
     "data": {
      "text/plain": [
       "Train:   0%|          | 0/94 [00:00<?, ?it/s]"
      ],
      "application/vnd.jupyter.widget-view+json": {
       "version_major": 2,
       "version_minor": 0,
       "model_id": "a27383004d6541498c4b306fa726b0bc"
      }
     },
     "metadata": {},
     "output_type": "display_data"
    },
    {
     "data": {
      "text/plain": [
       "Validation:   0%|          | 0/16 [00:00<?, ?it/s]"
      ],
      "application/vnd.jupyter.widget-view+json": {
       "version_major": 2,
       "version_minor": 0,
       "model_id": "7794fd33b15e4cb4b1cbf4a36a49a275"
      }
     },
     "metadata": {},
     "output_type": "display_data"
    },
    {
     "name": "stdout",
     "output_type": "stream",
     "text": [
      "Epoch 4/50\n",
      "Train loss: 0.2321\t Validation loss: 0.2321\tlr: 0.0001\n"
     ]
    },
    {
     "data": {
      "text/plain": [
       "Train:   0%|          | 0/94 [00:00<?, ?it/s]"
      ],
      "application/vnd.jupyter.widget-view+json": {
       "version_major": 2,
       "version_minor": 0,
       "model_id": "32796e4be92342068c45c72ade28fcdd"
      }
     },
     "metadata": {},
     "output_type": "display_data"
    },
    {
     "data": {
      "text/plain": [
       "Validation:   0%|          | 0/16 [00:00<?, ?it/s]"
      ],
      "application/vnd.jupyter.widget-view+json": {
       "version_major": 2,
       "version_minor": 0,
       "model_id": "0c32060dbf0c4ab393e8f9a0a1fc561d"
      }
     },
     "metadata": {},
     "output_type": "display_data"
    },
    {
     "name": "stdout",
     "output_type": "stream",
     "text": [
      "Epoch 5/50\n",
      "Train loss: 0.2215\t Validation loss: 0.2336\tlr: 0.0001\n"
     ]
    },
    {
     "data": {
      "text/plain": [
       "Train:   0%|          | 0/94 [00:00<?, ?it/s]"
      ],
      "application/vnd.jupyter.widget-view+json": {
       "version_major": 2,
       "version_minor": 0,
       "model_id": "551d86fa477642b8a6b6f86091e3155a"
      }
     },
     "metadata": {},
     "output_type": "display_data"
    },
    {
     "data": {
      "text/plain": [
       "Validation:   0%|          | 0/16 [00:00<?, ?it/s]"
      ],
      "application/vnd.jupyter.widget-view+json": {
       "version_major": 2,
       "version_minor": 0,
       "model_id": "bbb0f2257f344cb79de1a6104081c14c"
      }
     },
     "metadata": {},
     "output_type": "display_data"
    },
    {
     "name": "stdout",
     "output_type": "stream",
     "text": [
      "Epoch 6/50\n",
      "Train loss: 0.2059\t Validation loss: 0.1892\tlr: 0.0001\n"
     ]
    },
    {
     "data": {
      "text/plain": [
       "Train:   0%|          | 0/94 [00:00<?, ?it/s]"
      ],
      "application/vnd.jupyter.widget-view+json": {
       "version_major": 2,
       "version_minor": 0,
       "model_id": "fce61cb335534347923fabbf617bc4b6"
      }
     },
     "metadata": {},
     "output_type": "display_data"
    },
    {
     "data": {
      "text/plain": [
       "Validation:   0%|          | 0/16 [00:00<?, ?it/s]"
      ],
      "application/vnd.jupyter.widget-view+json": {
       "version_major": 2,
       "version_minor": 0,
       "model_id": "020d949cee3740559910951490563a37"
      }
     },
     "metadata": {},
     "output_type": "display_data"
    },
    {
     "name": "stdout",
     "output_type": "stream",
     "text": [
      "Epoch 7/50\n",
      "Train loss: 0.2022\t Validation loss: 0.2332\tlr: 0.0001\n"
     ]
    },
    {
     "data": {
      "text/plain": [
       "Train:   0%|          | 0/94 [00:00<?, ?it/s]"
      ],
      "application/vnd.jupyter.widget-view+json": {
       "version_major": 2,
       "version_minor": 0,
       "model_id": "18c7a676cc024100a75a443caa7da9c8"
      }
     },
     "metadata": {},
     "output_type": "display_data"
    },
    {
     "data": {
      "text/plain": [
       "Validation:   0%|          | 0/16 [00:00<?, ?it/s]"
      ],
      "application/vnd.jupyter.widget-view+json": {
       "version_major": 2,
       "version_minor": 0,
       "model_id": "1ec4878ccca64690a238f2119c3b54b8"
      }
     },
     "metadata": {},
     "output_type": "display_data"
    },
    {
     "name": "stdout",
     "output_type": "stream",
     "text": [
      "Epoch 8/50\n",
      "Train loss: 0.2147\t Validation loss: 0.2171\tlr: 0.0001\n"
     ]
    },
    {
     "data": {
      "text/plain": [
       "Train:   0%|          | 0/94 [00:00<?, ?it/s]"
      ],
      "application/vnd.jupyter.widget-view+json": {
       "version_major": 2,
       "version_minor": 0,
       "model_id": "fbf243411a0048ce8550b5007e1e66d9"
      }
     },
     "metadata": {},
     "output_type": "display_data"
    },
    {
     "data": {
      "text/plain": [
       "Validation:   0%|          | 0/16 [00:00<?, ?it/s]"
      ],
      "application/vnd.jupyter.widget-view+json": {
       "version_major": 2,
       "version_minor": 0,
       "model_id": "1e0b702064564ed7a689fbc128978f28"
      }
     },
     "metadata": {},
     "output_type": "display_data"
    },
    {
     "name": "stdout",
     "output_type": "stream",
     "text": [
      "Epoch 9/50\n",
      "Train loss: 0.1897\t Validation loss: 0.1777\tlr: 0.0001\n"
     ]
    },
    {
     "data": {
      "text/plain": [
       "Train:   0%|          | 0/94 [00:00<?, ?it/s]"
      ],
      "application/vnd.jupyter.widget-view+json": {
       "version_major": 2,
       "version_minor": 0,
       "model_id": "85dcb065502b453fba9414a3bdbd6168"
      }
     },
     "metadata": {},
     "output_type": "display_data"
    },
    {
     "data": {
      "text/plain": [
       "Validation:   0%|          | 0/16 [00:00<?, ?it/s]"
      ],
      "application/vnd.jupyter.widget-view+json": {
       "version_major": 2,
       "version_minor": 0,
       "model_id": "674b2cb175004705af75d39e00aa36ae"
      }
     },
     "metadata": {},
     "output_type": "display_data"
    },
    {
     "name": "stdout",
     "output_type": "stream",
     "text": [
      "Epoch 10/50\n",
      "Train loss: 0.1949\t Validation loss: 0.2082\tlr: 0.0001\n"
     ]
    },
    {
     "data": {
      "text/plain": [
       "Train:   0%|          | 0/94 [00:00<?, ?it/s]"
      ],
      "application/vnd.jupyter.widget-view+json": {
       "version_major": 2,
       "version_minor": 0,
       "model_id": "55867eaabeae4548a160303c9a3193b4"
      }
     },
     "metadata": {},
     "output_type": "display_data"
    },
    {
     "data": {
      "text/plain": [
       "Validation:   0%|          | 0/16 [00:00<?, ?it/s]"
      ],
      "application/vnd.jupyter.widget-view+json": {
       "version_major": 2,
       "version_minor": 0,
       "model_id": "906be90f471e4616b2b789ffa30af477"
      }
     },
     "metadata": {},
     "output_type": "display_data"
    },
    {
     "name": "stdout",
     "output_type": "stream",
     "text": [
      "Epoch 11/50\n",
      "Train loss: 0.1890\t Validation loss: 0.2202\tlr: 0.0001\n"
     ]
    },
    {
     "data": {
      "text/plain": [
       "Train:   0%|          | 0/94 [00:00<?, ?it/s]"
      ],
      "application/vnd.jupyter.widget-view+json": {
       "version_major": 2,
       "version_minor": 0,
       "model_id": "752ea8b8d7ea47979d3593210ffc1dcf"
      }
     },
     "metadata": {},
     "output_type": "display_data"
    },
    {
     "data": {
      "text/plain": [
       "Validation:   0%|          | 0/16 [00:00<?, ?it/s]"
      ],
      "application/vnd.jupyter.widget-view+json": {
       "version_major": 2,
       "version_minor": 0,
       "model_id": "87c602a92e734015878b89225408bcb7"
      }
     },
     "metadata": {},
     "output_type": "display_data"
    },
    {
     "name": "stdout",
     "output_type": "stream",
     "text": [
      "Epoch 12/50\n",
      "Train loss: 0.1838\t Validation loss: 0.1928\tlr: 0.0001\n"
     ]
    },
    {
     "data": {
      "text/plain": [
       "Train:   0%|          | 0/94 [00:00<?, ?it/s]"
      ],
      "application/vnd.jupyter.widget-view+json": {
       "version_major": 2,
       "version_minor": 0,
       "model_id": "c04a60bee9c94b308dff2a3a81faaf1d"
      }
     },
     "metadata": {},
     "output_type": "display_data"
    },
    {
     "data": {
      "text/plain": [
       "Validation:   0%|          | 0/16 [00:00<?, ?it/s]"
      ],
      "application/vnd.jupyter.widget-view+json": {
       "version_major": 2,
       "version_minor": 0,
       "model_id": "1765ab46b026474f9d2ab8cc105e7a15"
      }
     },
     "metadata": {},
     "output_type": "display_data"
    },
    {
     "name": "stdout",
     "output_type": "stream",
     "text": [
      "Epoch 13/50\n",
      "Train loss: 0.1804\t Validation loss: 0.2238\tlr: 0.0001\n"
     ]
    },
    {
     "data": {
      "text/plain": [
       "Train:   0%|          | 0/94 [00:00<?, ?it/s]"
      ],
      "application/vnd.jupyter.widget-view+json": {
       "version_major": 2,
       "version_minor": 0,
       "model_id": "7d211aa309204fa5b0ebbfb529590a85"
      }
     },
     "metadata": {},
     "output_type": "display_data"
    },
    {
     "data": {
      "text/plain": [
       "Validation:   0%|          | 0/16 [00:00<?, ?it/s]"
      ],
      "application/vnd.jupyter.widget-view+json": {
       "version_major": 2,
       "version_minor": 0,
       "model_id": "74825307bd41424d9c95326fb18722b9"
      }
     },
     "metadata": {},
     "output_type": "display_data"
    },
    {
     "name": "stdout",
     "output_type": "stream",
     "text": [
      "Epoch 14/50\n",
      "Train loss: 0.1778\t Validation loss: 0.1875\tlr: 0.0001\n"
     ]
    },
    {
     "data": {
      "text/plain": [
       "Train:   0%|          | 0/94 [00:00<?, ?it/s]"
      ],
      "application/vnd.jupyter.widget-view+json": {
       "version_major": 2,
       "version_minor": 0,
       "model_id": "bce39964078c473ea696764aa8c89198"
      }
     },
     "metadata": {},
     "output_type": "display_data"
    },
    {
     "data": {
      "text/plain": [
       "Validation:   0%|          | 0/16 [00:00<?, ?it/s]"
      ],
      "application/vnd.jupyter.widget-view+json": {
       "version_major": 2,
       "version_minor": 0,
       "model_id": "61224009f45040dabb526dce43d95cc3"
      }
     },
     "metadata": {},
     "output_type": "display_data"
    },
    {
     "name": "stdout",
     "output_type": "stream",
     "text": [
      "Epoch 15/50\n",
      "Train loss: 0.1700\t Validation loss: 0.1865\tlr: 0.0001\n"
     ]
    },
    {
     "data": {
      "text/plain": [
       "Train:   0%|          | 0/94 [00:00<?, ?it/s]"
      ],
      "application/vnd.jupyter.widget-view+json": {
       "version_major": 2,
       "version_minor": 0,
       "model_id": "f16542eddbc2408eba747316a9920ca6"
      }
     },
     "metadata": {},
     "output_type": "display_data"
    },
    {
     "data": {
      "text/plain": [
       "Validation:   0%|          | 0/16 [00:00<?, ?it/s]"
      ],
      "application/vnd.jupyter.widget-view+json": {
       "version_major": 2,
       "version_minor": 0,
       "model_id": "f19a4d46e66f470c8bf83ec07ecf9aad"
      }
     },
     "metadata": {},
     "output_type": "display_data"
    },
    {
     "name": "stdout",
     "output_type": "stream",
     "text": [
      "Epoch 16/50\n",
      "Train loss: 0.1761\t Validation loss: 0.2085\tlr: 0.0001\n"
     ]
    },
    {
     "data": {
      "text/plain": [
       "Train:   0%|          | 0/94 [00:00<?, ?it/s]"
      ],
      "application/vnd.jupyter.widget-view+json": {
       "version_major": 2,
       "version_minor": 0,
       "model_id": "f4cb3c7ce7a949f18c926a061bb51348"
      }
     },
     "metadata": {},
     "output_type": "display_data"
    },
    {
     "data": {
      "text/plain": [
       "Validation:   0%|          | 0/16 [00:00<?, ?it/s]"
      ],
      "application/vnd.jupyter.widget-view+json": {
       "version_major": 2,
       "version_minor": 0,
       "model_id": "106928eb752f46069768ccd144da568a"
      }
     },
     "metadata": {},
     "output_type": "display_data"
    },
    {
     "name": "stdout",
     "output_type": "stream",
     "text": [
      "Epoch 17/50\n",
      "Train loss: 0.1738\t Validation loss: 0.1831\tlr: 0.0001\n"
     ]
    },
    {
     "data": {
      "text/plain": [
       "Train:   0%|          | 0/94 [00:00<?, ?it/s]"
      ],
      "application/vnd.jupyter.widget-view+json": {
       "version_major": 2,
       "version_minor": 0,
       "model_id": "6267c46883a54ef3b1f98166bbaa7e26"
      }
     },
     "metadata": {},
     "output_type": "display_data"
    },
    {
     "data": {
      "text/plain": [
       "Validation:   0%|          | 0/16 [00:00<?, ?it/s]"
      ],
      "application/vnd.jupyter.widget-view+json": {
       "version_major": 2,
       "version_minor": 0,
       "model_id": "7ea61b4fe9454d029385af55d03999db"
      }
     },
     "metadata": {},
     "output_type": "display_data"
    },
    {
     "name": "stdout",
     "output_type": "stream",
     "text": [
      "Epoch 18/50\n",
      "Train loss: 0.1636\t Validation loss: 0.1879\tlr: 0.0001\n"
     ]
    },
    {
     "data": {
      "text/plain": [
       "Train:   0%|          | 0/94 [00:00<?, ?it/s]"
      ],
      "application/vnd.jupyter.widget-view+json": {
       "version_major": 2,
       "version_minor": 0,
       "model_id": "95b4b7226efc4987b5cda0c26a5e0b6a"
      }
     },
     "metadata": {},
     "output_type": "display_data"
    },
    {
     "data": {
      "text/plain": [
       "Validation:   0%|          | 0/16 [00:00<?, ?it/s]"
      ],
      "application/vnd.jupyter.widget-view+json": {
       "version_major": 2,
       "version_minor": 0,
       "model_id": "1b391a4a420f4daaabba419b86e12ddf"
      }
     },
     "metadata": {},
     "output_type": "display_data"
    },
    {
     "name": "stdout",
     "output_type": "stream",
     "text": [
      "Epoch 19/50\n",
      "Train loss: 0.1725\t Validation loss: 0.1948\tlr: 0.0001\n"
     ]
    },
    {
     "data": {
      "text/plain": [
       "Train:   0%|          | 0/94 [00:00<?, ?it/s]"
      ],
      "application/vnd.jupyter.widget-view+json": {
       "version_major": 2,
       "version_minor": 0,
       "model_id": "493618a0f3b244e9a75c3720f3ae65f7"
      }
     },
     "metadata": {},
     "output_type": "display_data"
    },
    {
     "data": {
      "text/plain": [
       "Validation:   0%|          | 0/16 [00:00<?, ?it/s]"
      ],
      "application/vnd.jupyter.widget-view+json": {
       "version_major": 2,
       "version_minor": 0,
       "model_id": "2ac281a245364f66bf98ed75a9363e52"
      }
     },
     "metadata": {},
     "output_type": "display_data"
    },
    {
     "name": "stdout",
     "output_type": "stream",
     "text": [
      "Epoch 20/50\n",
      "Train loss: 0.1678\t Validation loss: 0.1962\tlr: 0.0001\n"
     ]
    },
    {
     "data": {
      "text/plain": [
       "Train:   0%|          | 0/94 [00:00<?, ?it/s]"
      ],
      "application/vnd.jupyter.widget-view+json": {
       "version_major": 2,
       "version_minor": 0,
       "model_id": "c8e8391a8b2f4096af3cb6eba3848739"
      }
     },
     "metadata": {},
     "output_type": "display_data"
    },
    {
     "data": {
      "text/plain": [
       "Validation:   0%|          | 0/16 [00:00<?, ?it/s]"
      ],
      "application/vnd.jupyter.widget-view+json": {
       "version_major": 2,
       "version_minor": 0,
       "model_id": "5a2bc2a39fc148c193608055663c5479"
      }
     },
     "metadata": {},
     "output_type": "display_data"
    },
    {
     "name": "stdout",
     "output_type": "stream",
     "text": [
      "Epoch 21/50\n",
      "Train loss: 0.1665\t Validation loss: 0.1908\tlr: 0.0001\n"
     ]
    },
    {
     "data": {
      "text/plain": [
       "Train:   0%|          | 0/94 [00:00<?, ?it/s]"
      ],
      "application/vnd.jupyter.widget-view+json": {
       "version_major": 2,
       "version_minor": 0,
       "model_id": "c64116428e804f859d395df482765cdf"
      }
     },
     "metadata": {},
     "output_type": "display_data"
    },
    {
     "data": {
      "text/plain": [
       "Validation:   0%|          | 0/16 [00:00<?, ?it/s]"
      ],
      "application/vnd.jupyter.widget-view+json": {
       "version_major": 2,
       "version_minor": 0,
       "model_id": "91eb94cec57e432885f6d156d5c8dab6"
      }
     },
     "metadata": {},
     "output_type": "display_data"
    },
    {
     "name": "stdout",
     "output_type": "stream",
     "text": [
      "Epoch 22/50\n",
      "Train loss: 0.1590\t Validation loss: 0.1821\tlr: 0.0001\n"
     ]
    },
    {
     "data": {
      "text/plain": [
       "Train:   0%|          | 0/94 [00:00<?, ?it/s]"
      ],
      "application/vnd.jupyter.widget-view+json": {
       "version_major": 2,
       "version_minor": 0,
       "model_id": "acce75117dc74d0fa56026ce748c31a7"
      }
     },
     "metadata": {},
     "output_type": "display_data"
    },
    {
     "data": {
      "text/plain": [
       "Validation:   0%|          | 0/16 [00:00<?, ?it/s]"
      ],
      "application/vnd.jupyter.widget-view+json": {
       "version_major": 2,
       "version_minor": 0,
       "model_id": "6facbc19c9f54a9bb49772f74fd8af0e"
      }
     },
     "metadata": {},
     "output_type": "display_data"
    },
    {
     "name": "stdout",
     "output_type": "stream",
     "text": [
      "Epoch 23/50\n",
      "Train loss: 0.1557\t Validation loss: 0.1709\tlr: 0.0001\n"
     ]
    },
    {
     "data": {
      "text/plain": [
       "Train:   0%|          | 0/94 [00:00<?, ?it/s]"
      ],
      "application/vnd.jupyter.widget-view+json": {
       "version_major": 2,
       "version_minor": 0,
       "model_id": "ed9acf0e9a5940ee917e47f95fa19cbe"
      }
     },
     "metadata": {},
     "output_type": "display_data"
    },
    {
     "data": {
      "text/plain": [
       "Validation:   0%|          | 0/16 [00:00<?, ?it/s]"
      ],
      "application/vnd.jupyter.widget-view+json": {
       "version_major": 2,
       "version_minor": 0,
       "model_id": "7f8011ff0ad742d9a727d6bb3027e8f7"
      }
     },
     "metadata": {},
     "output_type": "display_data"
    },
    {
     "name": "stdout",
     "output_type": "stream",
     "text": [
      "Epoch 24/50\n",
      "Train loss: 0.1616\t Validation loss: 0.1804\tlr: 0.0001\n"
     ]
    },
    {
     "data": {
      "text/plain": [
       "Train:   0%|          | 0/94 [00:00<?, ?it/s]"
      ],
      "application/vnd.jupyter.widget-view+json": {
       "version_major": 2,
       "version_minor": 0,
       "model_id": "ae08b9b5b2294aa380a0bf91629f6936"
      }
     },
     "metadata": {},
     "output_type": "display_data"
    },
    {
     "data": {
      "text/plain": [
       "Validation:   0%|          | 0/16 [00:00<?, ?it/s]"
      ],
      "application/vnd.jupyter.widget-view+json": {
       "version_major": 2,
       "version_minor": 0,
       "model_id": "6569e59707814ea38c6c19d72e2bbc70"
      }
     },
     "metadata": {},
     "output_type": "display_data"
    },
    {
     "name": "stdout",
     "output_type": "stream",
     "text": [
      "Epoch 25/50\n",
      "Train loss: 0.1564\t Validation loss: 0.1675\tlr: 0.0001\n"
     ]
    },
    {
     "data": {
      "text/plain": [
       "Train:   0%|          | 0/94 [00:00<?, ?it/s]"
      ],
      "application/vnd.jupyter.widget-view+json": {
       "version_major": 2,
       "version_minor": 0,
       "model_id": "4ef551389bbc4390bb60ff88034ed7f4"
      }
     },
     "metadata": {},
     "output_type": "display_data"
    },
    {
     "data": {
      "text/plain": [
       "Validation:   0%|          | 0/16 [00:00<?, ?it/s]"
      ],
      "application/vnd.jupyter.widget-view+json": {
       "version_major": 2,
       "version_minor": 0,
       "model_id": "bc30cd4ca30149349cb8e5ae6ef39d70"
      }
     },
     "metadata": {},
     "output_type": "display_data"
    },
    {
     "name": "stdout",
     "output_type": "stream",
     "text": [
      "Epoch 26/50\n",
      "Train loss: 0.1577\t Validation loss: 0.1713\tlr: 0.0001\n"
     ]
    },
    {
     "data": {
      "text/plain": [
       "Train:   0%|          | 0/94 [00:00<?, ?it/s]"
      ],
      "application/vnd.jupyter.widget-view+json": {
       "version_major": 2,
       "version_minor": 0,
       "model_id": "9a159e689a674203b2650db6c1d22932"
      }
     },
     "metadata": {},
     "output_type": "display_data"
    },
    {
     "data": {
      "text/plain": [
       "Validation:   0%|          | 0/16 [00:00<?, ?it/s]"
      ],
      "application/vnd.jupyter.widget-view+json": {
       "version_major": 2,
       "version_minor": 0,
       "model_id": "01de88bcccca45d9ab2f1017297f4214"
      }
     },
     "metadata": {},
     "output_type": "display_data"
    },
    {
     "name": "stdout",
     "output_type": "stream",
     "text": [
      "Epoch 27/50\n",
      "Train loss: 0.1560\t Validation loss: 0.1890\tlr: 0.0001\n"
     ]
    },
    {
     "data": {
      "text/plain": [
       "Train:   0%|          | 0/94 [00:00<?, ?it/s]"
      ],
      "application/vnd.jupyter.widget-view+json": {
       "version_major": 2,
       "version_minor": 0,
       "model_id": "0657f30102d24b15bcfa639d55f68ca0"
      }
     },
     "metadata": {},
     "output_type": "display_data"
    },
    {
     "data": {
      "text/plain": [
       "Validation:   0%|          | 0/16 [00:00<?, ?it/s]"
      ],
      "application/vnd.jupyter.widget-view+json": {
       "version_major": 2,
       "version_minor": 0,
       "model_id": "2e8e3bf239204dc59e1701146e3ca1f5"
      }
     },
     "metadata": {},
     "output_type": "display_data"
    },
    {
     "name": "stdout",
     "output_type": "stream",
     "text": [
      "Epoch 28/50\n",
      "Train loss: 0.1603\t Validation loss: 0.1851\tlr: 0.0001\n"
     ]
    },
    {
     "data": {
      "text/plain": [
       "Train:   0%|          | 0/94 [00:00<?, ?it/s]"
      ],
      "application/vnd.jupyter.widget-view+json": {
       "version_major": 2,
       "version_minor": 0,
       "model_id": "aea39778bf0943b88caf41db5b3316a7"
      }
     },
     "metadata": {},
     "output_type": "display_data"
    },
    {
     "data": {
      "text/plain": [
       "Validation:   0%|          | 0/16 [00:00<?, ?it/s]"
      ],
      "application/vnd.jupyter.widget-view+json": {
       "version_major": 2,
       "version_minor": 0,
       "model_id": "841a9f1b91a0459dadb2fba805ade530"
      }
     },
     "metadata": {},
     "output_type": "display_data"
    },
    {
     "name": "stdout",
     "output_type": "stream",
     "text": [
      "Epoch 29/50\n",
      "Train loss: 0.1582\t Validation loss: 0.1731\tlr: 0.0001\n"
     ]
    },
    {
     "data": {
      "text/plain": [
       "Train:   0%|          | 0/94 [00:00<?, ?it/s]"
      ],
      "application/vnd.jupyter.widget-view+json": {
       "version_major": 2,
       "version_minor": 0,
       "model_id": "64edc273905347f0a4ca4525f691ad90"
      }
     },
     "metadata": {},
     "output_type": "display_data"
    },
    {
     "data": {
      "text/plain": [
       "Validation:   0%|          | 0/16 [00:00<?, ?it/s]"
      ],
      "application/vnd.jupyter.widget-view+json": {
       "version_major": 2,
       "version_minor": 0,
       "model_id": "3b92ef9944b340c680a9a7562a16d164"
      }
     },
     "metadata": {},
     "output_type": "display_data"
    },
    {
     "name": "stdout",
     "output_type": "stream",
     "text": [
      "Epoch 30/50\n",
      "Train loss: 0.1421\t Validation loss: 0.1533\tlr: 0.0001\n"
     ]
    },
    {
     "data": {
      "text/plain": [
       "Train:   0%|          | 0/94 [00:00<?, ?it/s]"
      ],
      "application/vnd.jupyter.widget-view+json": {
       "version_major": 2,
       "version_minor": 0,
       "model_id": "90f91545ddf64fa8bc664ab42341c666"
      }
     },
     "metadata": {},
     "output_type": "display_data"
    },
    {
     "data": {
      "text/plain": [
       "Validation:   0%|          | 0/16 [00:00<?, ?it/s]"
      ],
      "application/vnd.jupyter.widget-view+json": {
       "version_major": 2,
       "version_minor": 0,
       "model_id": "c949aa6bed314c4aa937fa36d4e5c49e"
      }
     },
     "metadata": {},
     "output_type": "display_data"
    },
    {
     "name": "stdout",
     "output_type": "stream",
     "text": [
      "Epoch 31/50\n",
      "Train loss: 0.1561\t Validation loss: 0.2019\tlr: 0.0001\n"
     ]
    },
    {
     "data": {
      "text/plain": [
       "Train:   0%|          | 0/94 [00:00<?, ?it/s]"
      ],
      "application/vnd.jupyter.widget-view+json": {
       "version_major": 2,
       "version_minor": 0,
       "model_id": "ef44c11885b24dafb1352096362a4533"
      }
     },
     "metadata": {},
     "output_type": "display_data"
    },
    {
     "data": {
      "text/plain": [
       "Validation:   0%|          | 0/16 [00:00<?, ?it/s]"
      ],
      "application/vnd.jupyter.widget-view+json": {
       "version_major": 2,
       "version_minor": 0,
       "model_id": "fa9c1f4983c54cbbbd40e87a476c62d8"
      }
     },
     "metadata": {},
     "output_type": "display_data"
    },
    {
     "name": "stdout",
     "output_type": "stream",
     "text": [
      "Epoch 32/50\n",
      "Train loss: 0.1511\t Validation loss: 0.1869\tlr: 0.0001\n"
     ]
    },
    {
     "data": {
      "text/plain": [
       "Train:   0%|          | 0/94 [00:00<?, ?it/s]"
      ],
      "application/vnd.jupyter.widget-view+json": {
       "version_major": 2,
       "version_minor": 0,
       "model_id": "01bafe881d154ccfbec1a605bf8db682"
      }
     },
     "metadata": {},
     "output_type": "display_data"
    },
    {
     "data": {
      "text/plain": [
       "Validation:   0%|          | 0/16 [00:00<?, ?it/s]"
      ],
      "application/vnd.jupyter.widget-view+json": {
       "version_major": 2,
       "version_minor": 0,
       "model_id": "764c9e6e8bcd4dc392d672346e63b650"
      }
     },
     "metadata": {},
     "output_type": "display_data"
    },
    {
     "name": "stdout",
     "output_type": "stream",
     "text": [
      "Epoch 33/50\n",
      "Train loss: 0.1530\t Validation loss: 0.1807\tlr: 0.0001\n"
     ]
    },
    {
     "data": {
      "text/plain": [
       "Train:   0%|          | 0/94 [00:00<?, ?it/s]"
      ],
      "application/vnd.jupyter.widget-view+json": {
       "version_major": 2,
       "version_minor": 0,
       "model_id": "e24eeb8cc5c6460dbfce9e5f7e77d886"
      }
     },
     "metadata": {},
     "output_type": "display_data"
    },
    {
     "data": {
      "text/plain": [
       "Validation:   0%|          | 0/16 [00:00<?, ?it/s]"
      ],
      "application/vnd.jupyter.widget-view+json": {
       "version_major": 2,
       "version_minor": 0,
       "model_id": "e9cbb981458544a39b84d3ef9eb88452"
      }
     },
     "metadata": {},
     "output_type": "display_data"
    },
    {
     "name": "stdout",
     "output_type": "stream",
     "text": [
      "Epoch 34/50\n",
      "Train loss: 0.1460\t Validation loss: 0.1516\tlr: 0.0001\n"
     ]
    },
    {
     "data": {
      "text/plain": [
       "Train:   0%|          | 0/94 [00:00<?, ?it/s]"
      ],
      "application/vnd.jupyter.widget-view+json": {
       "version_major": 2,
       "version_minor": 0,
       "model_id": "8041a5c521734bd5a241655c5cada909"
      }
     },
     "metadata": {},
     "output_type": "display_data"
    },
    {
     "data": {
      "text/plain": [
       "Validation:   0%|          | 0/16 [00:00<?, ?it/s]"
      ],
      "application/vnd.jupyter.widget-view+json": {
       "version_major": 2,
       "version_minor": 0,
       "model_id": "8aac161e78734a52898e574331e83d77"
      }
     },
     "metadata": {},
     "output_type": "display_data"
    },
    {
     "name": "stdout",
     "output_type": "stream",
     "text": [
      "Epoch 35/50\n",
      "Train loss: 0.1430\t Validation loss: 0.1611\tlr: 0.0001\n"
     ]
    },
    {
     "data": {
      "text/plain": [
       "Train:   0%|          | 0/94 [00:00<?, ?it/s]"
      ],
      "application/vnd.jupyter.widget-view+json": {
       "version_major": 2,
       "version_minor": 0,
       "model_id": "a9c26411d0e147648e480c76abfae839"
      }
     },
     "metadata": {},
     "output_type": "display_data"
    },
    {
     "data": {
      "text/plain": [
       "Validation:   0%|          | 0/16 [00:00<?, ?it/s]"
      ],
      "application/vnd.jupyter.widget-view+json": {
       "version_major": 2,
       "version_minor": 0,
       "model_id": "d36da1dab99b4e7f9e9a998d7f86ad34"
      }
     },
     "metadata": {},
     "output_type": "display_data"
    },
    {
     "name": "stdout",
     "output_type": "stream",
     "text": [
      "Epoch 36/50\n",
      "Train loss: 0.1521\t Validation loss: 0.1696\tlr: 0.0001\n"
     ]
    },
    {
     "data": {
      "text/plain": [
       "Train:   0%|          | 0/94 [00:00<?, ?it/s]"
      ],
      "application/vnd.jupyter.widget-view+json": {
       "version_major": 2,
       "version_minor": 0,
       "model_id": "b71b3591a0bd4cac9d88c594e4b74cc7"
      }
     },
     "metadata": {},
     "output_type": "display_data"
    },
    {
     "data": {
      "text/plain": [
       "Validation:   0%|          | 0/16 [00:00<?, ?it/s]"
      ],
      "application/vnd.jupyter.widget-view+json": {
       "version_major": 2,
       "version_minor": 0,
       "model_id": "bd7e47c89efb49f6b9003014c2c62d3a"
      }
     },
     "metadata": {},
     "output_type": "display_data"
    },
    {
     "name": "stdout",
     "output_type": "stream",
     "text": [
      "Epoch 37/50\n",
      "Train loss: 0.1463\t Validation loss: 0.1676\tlr: 0.0001\n"
     ]
    },
    {
     "data": {
      "text/plain": [
       "Train:   0%|          | 0/94 [00:00<?, ?it/s]"
      ],
      "application/vnd.jupyter.widget-view+json": {
       "version_major": 2,
       "version_minor": 0,
       "model_id": "10ad1dea5da64fc4bba6c01f219dc632"
      }
     },
     "metadata": {},
     "output_type": "display_data"
    },
    {
     "data": {
      "text/plain": [
       "Validation:   0%|          | 0/16 [00:00<?, ?it/s]"
      ],
      "application/vnd.jupyter.widget-view+json": {
       "version_major": 2,
       "version_minor": 0,
       "model_id": "7e06aaad9410424ea2175b5d9cc3c8d3"
      }
     },
     "metadata": {},
     "output_type": "display_data"
    },
    {
     "name": "stdout",
     "output_type": "stream",
     "text": [
      "Epoch 38/50\n",
      "Train loss: 0.1371\t Validation loss: 0.1691\tlr: 0.0001\n"
     ]
    },
    {
     "data": {
      "text/plain": [
       "Train:   0%|          | 0/94 [00:00<?, ?it/s]"
      ],
      "application/vnd.jupyter.widget-view+json": {
       "version_major": 2,
       "version_minor": 0,
       "model_id": "778680bbfb81456eb8167fdf268ee1eb"
      }
     },
     "metadata": {},
     "output_type": "display_data"
    },
    {
     "data": {
      "text/plain": [
       "Validation:   0%|          | 0/16 [00:00<?, ?it/s]"
      ],
      "application/vnd.jupyter.widget-view+json": {
       "version_major": 2,
       "version_minor": 0,
       "model_id": "f72eff360eab41d0ada9ae266aba9d39"
      }
     },
     "metadata": {},
     "output_type": "display_data"
    },
    {
     "name": "stdout",
     "output_type": "stream",
     "text": [
      "Epoch 39/50\n",
      "Train loss: 0.1376\t Validation loss: 0.1746\tlr: 0.0001\n"
     ]
    },
    {
     "data": {
      "text/plain": [
       "Train:   0%|          | 0/94 [00:00<?, ?it/s]"
      ],
      "application/vnd.jupyter.widget-view+json": {
       "version_major": 2,
       "version_minor": 0,
       "model_id": "bcfc4370a45144db950e5fb588085d11"
      }
     },
     "metadata": {},
     "output_type": "display_data"
    },
    {
     "data": {
      "text/plain": [
       "Validation:   0%|          | 0/16 [00:00<?, ?it/s]"
      ],
      "application/vnd.jupyter.widget-view+json": {
       "version_major": 2,
       "version_minor": 0,
       "model_id": "a489b2b3cb6a4432895bd9ec4b1b3844"
      }
     },
     "metadata": {},
     "output_type": "display_data"
    },
    {
     "name": "stdout",
     "output_type": "stream",
     "text": [
      "Epoch 40/50\n",
      "Train loss: 0.1478\t Validation loss: 0.1599\tlr: 0.0001\n"
     ]
    },
    {
     "data": {
      "text/plain": [
       "Train:   0%|          | 0/94 [00:00<?, ?it/s]"
      ],
      "application/vnd.jupyter.widget-view+json": {
       "version_major": 2,
       "version_minor": 0,
       "model_id": "0b16d566543f4fdda6be131979b15f7c"
      }
     },
     "metadata": {},
     "output_type": "display_data"
    },
    {
     "data": {
      "text/plain": [
       "Validation:   0%|          | 0/16 [00:00<?, ?it/s]"
      ],
      "application/vnd.jupyter.widget-view+json": {
       "version_major": 2,
       "version_minor": 0,
       "model_id": "d3dbcdb9b3a246b794f39fab6d2c8505"
      }
     },
     "metadata": {},
     "output_type": "display_data"
    },
    {
     "name": "stdout",
     "output_type": "stream",
     "text": [
      "Epoch 41/50\n",
      "Train loss: 0.1437\t Validation loss: 0.1683\tlr: 0.0001\n"
     ]
    },
    {
     "data": {
      "text/plain": [
       "Train:   0%|          | 0/94 [00:00<?, ?it/s]"
      ],
      "application/vnd.jupyter.widget-view+json": {
       "version_major": 2,
       "version_minor": 0,
       "model_id": "8582d953fa084a3b8febcf0b5e81c718"
      }
     },
     "metadata": {},
     "output_type": "display_data"
    },
    {
     "data": {
      "text/plain": [
       "Validation:   0%|          | 0/16 [00:00<?, ?it/s]"
      ],
      "application/vnd.jupyter.widget-view+json": {
       "version_major": 2,
       "version_minor": 0,
       "model_id": "35179583e78541109468e8de2da9e28a"
      }
     },
     "metadata": {},
     "output_type": "display_data"
    },
    {
     "name": "stdout",
     "output_type": "stream",
     "text": [
      "Epoch 42/50\n",
      "Train loss: 0.1470\t Validation loss: 0.1583\tlr: 0.0001\n"
     ]
    },
    {
     "data": {
      "text/plain": [
       "Train:   0%|          | 0/94 [00:00<?, ?it/s]"
      ],
      "application/vnd.jupyter.widget-view+json": {
       "version_major": 2,
       "version_minor": 0,
       "model_id": "414f33e56f404bc987a62645348f2a0f"
      }
     },
     "metadata": {},
     "output_type": "display_data"
    },
    {
     "data": {
      "text/plain": [
       "Validation:   0%|          | 0/16 [00:00<?, ?it/s]"
      ],
      "application/vnd.jupyter.widget-view+json": {
       "version_major": 2,
       "version_minor": 0,
       "model_id": "059d8da7baaf4282940ff78a87ff3fb3"
      }
     },
     "metadata": {},
     "output_type": "display_data"
    },
    {
     "name": "stdout",
     "output_type": "stream",
     "text": [
      "Epoch 43/50\n",
      "Train loss: 0.1451\t Validation loss: 0.1474\tlr: 0.0001\n"
     ]
    },
    {
     "data": {
      "text/plain": [
       "Train:   0%|          | 0/94 [00:00<?, ?it/s]"
      ],
      "application/vnd.jupyter.widget-view+json": {
       "version_major": 2,
       "version_minor": 0,
       "model_id": "090d468e1a51430f8492fbf38e5fbeb7"
      }
     },
     "metadata": {},
     "output_type": "display_data"
    },
    {
     "data": {
      "text/plain": [
       "Validation:   0%|          | 0/16 [00:00<?, ?it/s]"
      ],
      "application/vnd.jupyter.widget-view+json": {
       "version_major": 2,
       "version_minor": 0,
       "model_id": "fdcd51fc76bb4d5bb832ec3cbaf41533"
      }
     },
     "metadata": {},
     "output_type": "display_data"
    },
    {
     "name": "stdout",
     "output_type": "stream",
     "text": [
      "Epoch 44/50\n",
      "Train loss: 0.1388\t Validation loss: 0.1805\tlr: 0.0001\n"
     ]
    },
    {
     "data": {
      "text/plain": [
       "Train:   0%|          | 0/94 [00:00<?, ?it/s]"
      ],
      "application/vnd.jupyter.widget-view+json": {
       "version_major": 2,
       "version_minor": 0,
       "model_id": "791f906752c046e599d200bc30f24892"
      }
     },
     "metadata": {},
     "output_type": "display_data"
    },
    {
     "data": {
      "text/plain": [
       "Validation:   0%|          | 0/16 [00:00<?, ?it/s]"
      ],
      "application/vnd.jupyter.widget-view+json": {
       "version_major": 2,
       "version_minor": 0,
       "model_id": "d2f00069ddfb4cd683762910fa42d820"
      }
     },
     "metadata": {},
     "output_type": "display_data"
    },
    {
     "name": "stdout",
     "output_type": "stream",
     "text": [
      "Epoch 45/50\n",
      "Train loss: 0.1390\t Validation loss: 0.1730\tlr: 0.0001\n"
     ]
    },
    {
     "data": {
      "text/plain": [
       "Train:   0%|          | 0/94 [00:00<?, ?it/s]"
      ],
      "application/vnd.jupyter.widget-view+json": {
       "version_major": 2,
       "version_minor": 0,
       "model_id": "c719f33e27a64b5e8748d7b9be721834"
      }
     },
     "metadata": {},
     "output_type": "display_data"
    },
    {
     "data": {
      "text/plain": [
       "Validation:   0%|          | 0/16 [00:00<?, ?it/s]"
      ],
      "application/vnd.jupyter.widget-view+json": {
       "version_major": 2,
       "version_minor": 0,
       "model_id": "2ee1e1ad980849cf8c33b192bd9e92ef"
      }
     },
     "metadata": {},
     "output_type": "display_data"
    },
    {
     "name": "stdout",
     "output_type": "stream",
     "text": [
      "Epoch 46/50\n",
      "Train loss: 0.1422\t Validation loss: 0.1699\tlr: 0.0001\n"
     ]
    },
    {
     "data": {
      "text/plain": [
       "Train:   0%|          | 0/94 [00:00<?, ?it/s]"
      ],
      "application/vnd.jupyter.widget-view+json": {
       "version_major": 2,
       "version_minor": 0,
       "model_id": "8ab6a2ae944a40f18202a69014c6cb84"
      }
     },
     "metadata": {},
     "output_type": "display_data"
    },
    {
     "data": {
      "text/plain": [
       "Validation:   0%|          | 0/16 [00:00<?, ?it/s]"
      ],
      "application/vnd.jupyter.widget-view+json": {
       "version_major": 2,
       "version_minor": 0,
       "model_id": "1d3ae974a3e54adc91c3440a2a23eb0e"
      }
     },
     "metadata": {},
     "output_type": "display_data"
    },
    {
     "name": "stdout",
     "output_type": "stream",
     "text": [
      "Epoch 47/50\n",
      "Train loss: 0.1363\t Validation loss: 0.1686\tlr: 0.0001\n"
     ]
    },
    {
     "data": {
      "text/plain": [
       "Train:   0%|          | 0/94 [00:00<?, ?it/s]"
      ],
      "application/vnd.jupyter.widget-view+json": {
       "version_major": 2,
       "version_minor": 0,
       "model_id": "fbb5fb99d81f4911aff6afca9a83c1ba"
      }
     },
     "metadata": {},
     "output_type": "display_data"
    },
    {
     "data": {
      "text/plain": [
       "Validation:   0%|          | 0/16 [00:00<?, ?it/s]"
      ],
      "application/vnd.jupyter.widget-view+json": {
       "version_major": 2,
       "version_minor": 0,
       "model_id": "bf3faf864d5a430781ebd19d251a2bef"
      }
     },
     "metadata": {},
     "output_type": "display_data"
    },
    {
     "name": "stdout",
     "output_type": "stream",
     "text": [
      "Epoch 48/50\n",
      "Train loss: 0.1319\t Validation loss: 0.1749\tlr: 0.0001\n"
     ]
    },
    {
     "data": {
      "text/plain": [
       "Train:   0%|          | 0/94 [00:00<?, ?it/s]"
      ],
      "application/vnd.jupyter.widget-view+json": {
       "version_major": 2,
       "version_minor": 0,
       "model_id": "2be3397d430b47d698d4beced796f257"
      }
     },
     "metadata": {},
     "output_type": "display_data"
    },
    {
     "data": {
      "text/plain": [
       "Validation:   0%|          | 0/16 [00:00<?, ?it/s]"
      ],
      "application/vnd.jupyter.widget-view+json": {
       "version_major": 2,
       "version_minor": 0,
       "model_id": "00b661719e9d4638adbe50eb7211f3e0"
      }
     },
     "metadata": {},
     "output_type": "display_data"
    },
    {
     "name": "stdout",
     "output_type": "stream",
     "text": [
      "Epoch 49/50\n",
      "Train loss: 0.1296\t Validation loss: 0.1561\tlr: 0.0001\n"
     ]
    },
    {
     "data": {
      "text/plain": [
       "Train:   0%|          | 0/94 [00:00<?, ?it/s]"
      ],
      "application/vnd.jupyter.widget-view+json": {
       "version_major": 2,
       "version_minor": 0,
       "model_id": "d788637cec9f4445bb0570586e050d8d"
      }
     },
     "metadata": {},
     "output_type": "display_data"
    },
    {
     "data": {
      "text/plain": [
       "Validation:   0%|          | 0/16 [00:00<?, ?it/s]"
      ],
      "application/vnd.jupyter.widget-view+json": {
       "version_major": 2,
       "version_minor": 0,
       "model_id": "b1954b6e81eb4c7facd795fec3ebb236"
      }
     },
     "metadata": {},
     "output_type": "display_data"
    },
    {
     "name": "stdout",
     "output_type": "stream",
     "text": [
      "Epoch 50/50\n",
      "Train loss: 0.1417\t Validation loss: 0.1634\tlr: 0.0001\n"
     ]
    }
   ],
   "execution_count": 342
  },
  {
   "metadata": {},
   "cell_type": "markdown",
   "source": "Una vez terminado el entrenamiento, podemos visualizar el proceso de optimización del espacio latente:",
   "id": "c922829467b0860c"
  },
  {
   "metadata": {
    "ExecuteTime": {
     "end_time": "2025-05-05T11:26:05.599293Z",
     "start_time": "2025-05-05T11:26:04.416609Z"
    }
   },
   "cell_type": "code",
   "source": "save_gif()",
   "id": "5178b2196f3c89f0",
   "outputs": [],
   "execution_count": 343
  },
  {
   "metadata": {},
   "cell_type": "markdown",
   "source": "<img src=\"latentspace_triplet_loss.gif\" width=500, heigh=500 />",
   "id": "3349ebff527b7df4"
  },
  {
   "metadata": {},
   "cell_type": "markdown",
   "source": "<img src=\"ScatterPlots_TripletLoss/Step_4000.png\" width=500, heigh=500 />",
   "id": "3d1d0855d13121b7"
  },
  {
   "metadata": {},
   "cell_type": "markdown",
   "source": "Por último, podemos seleccionar puntos aleatorios del espacio latente anterior y aprovechar la red de decodificación para comprobar que la red neuronal ha aprendedido correctamente a recuperar los datos de entrada a partir del espacio codificado:",
   "id": "86110f11aca6ccd2"
  },
  {
   "metadata": {
    "ExecuteTime": {
     "end_time": "2025-05-05T11:26:05.754281Z",
     "start_time": "2025-05-05T11:26:05.602971Z"
    }
   },
   "cell_type": "code",
   "source": [
    "# Muestras aleatorias de puntos en el espacio codificado\n",
    "xs = [random.uniform(-6.0, 8.0) for i in range(8)]\n",
    "ys = [random.uniform(-7.5, 10.0) for i in range(8)]\n",
    "\n",
    "points = list(zip(xs, ys))\n",
    "coords = torch.tensor(points).unsqueeze(1).to(DEVICE)\n",
    "\n",
    "nrows, ncols = 2, 4\n",
    "fig, axes = plt.subplots(nrows, ncols, figsize=(10, 5))\n",
    "\n",
    "model.eval()\n",
    "with torch.no_grad():\n",
    "    generates = [model.decoder(coord) for coord in coords]\n",
    "\n",
    "# Muestra las imágenes decodificadas a partir de los puntos anteriores\n",
    "idx = 0\n",
    "for row in range(0, nrows):\n",
    "    for col in range(0, ncols):\n",
    "        ax = axes[row, col]\n",
    "        im = generates[idx].squeeze().detach().cpu()\n",
    "        ax.imshow(im, cmap=\"gray\")\n",
    "        ax.axis(\"off\")\n",
    "        coord = coords[idx].detach().cpu().numpy()[0]\n",
    "        ax.set_title(f\"({coord[0]:.3f}, {coord[1]:.3f})\")\n",
    "        idx += 1\n",
    "\n",
    "plt.show()"
   ],
   "id": "a0bf81eef4958397",
   "outputs": [
    {
     "data": {
      "text/plain": [
       "<Figure size 1000x500 with 8 Axes>"
      ],
      "image/png": "[encoded data removed]"
     },
     "metadata": {},
     "output_type": "display_data"
    }
   ],
   "execution_count": 344
  }
 ],
 "metadata": {
  "kernelspec": {
   "display_name": "Python 3 (ipykernel)",
   "language": "python",
   "name": "python3"
  },
  "language_info": {
   "codemirror_mode": {
    "name": "ipython",
    "version": 3
   },
   "file_extension": ".py",
   "mimetype": "text/x-python",
   "name": "python",
   "nbconvert_exporter": "python",
   "pygments_lexer": "ipython3",
   "version": "3.12.9"
  }
 },
 "nbformat": 4,
 "nbformat_minor": 5
}
