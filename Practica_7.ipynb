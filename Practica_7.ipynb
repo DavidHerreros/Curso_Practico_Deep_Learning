{
 "cells": [
  {
   "metadata": {},
   "cell_type": "markdown",
   "source": "",
   "id": "b30d0df26b79ac3d"
  },
  {
   "metadata": {},
   "cell_type": "markdown",
   "source": [
    "# PRÁCTICA 7: FINE TUNING\n",
    "\n",
    "En esta práctica vamos a aprener una de las técnincas más útiles en el entrenamiento de redes neuronales conocida como **fine tuning**. Esta técnica permite aprovechar una reed previamente entrenada en un conjunton de datos para refiniarla hacia un nuevo conjunto y mejorar la capacidad de predicción de la misma en nuevos datos.\n",
    "\n",
    "A la hora de re-entrenar nuestra red, es posible determinar si queremos refinar todas las capas de la misma o \"congelar\" parte de estas capas, impidiendo que los optimizadores puedan modificar el estado de las mismas. Esto es especialmente útil en las primeras capas de la red, ya que suelen estar asociadas con características generales que pueden ser fácilmente interpolables a diferentes tipos de datos.\n",
    "\n",
    "A modo de ejemplo, vamos a utilizar una arquitectura de red muy conocida llamada ``VGG16``, la cual ha sido entrenada con el conjunto ``ImageNet``. Este conjunto contiene alrededor de 14 millones de imágenes anotadas y pertenecientes a diferentes clases de objetos. Esto permite que nuestra red preentrenada tenga una gran capacidad de predicción, puediendo aprovehcar los parámetros de sus capas en nuestros conjuntos de datos.\n",
    "\n",
    "Vamos a comenzar importando las librerías que usaremos durante la práctica:"
   ],
   "id": "63ccb32aa2b8446c"
  },
  {
   "metadata": {
    "ExecuteTime": {
     "end_time": "2025-05-12T11:01:37.863552Z",
     "start_time": "2025-05-12T11:01:37.431642Z"
    }
   },
   "cell_type": "code",
   "source": "!jupyter nbextension enable --py widgetsnbextension",
   "id": "2d46cf60dadc29d7",
   "outputs": [
    {
     "name": "stdout",
     "output_type": "stream",
     "text": [
      "/bin/bash: warning: setlocale: LC_ALL: cannot change locale (en_US.UTF-8)\r\n",
      "Enabling notebook extension jupyter-js-widgets/extension...\r\n",
      "      - Validating: \u001B[32mOK\u001B[0m\r\n"
     ]
    }
   ],
   "execution_count": 1
  },
  {
   "metadata": {
    "ExecuteTime": {
     "end_time": "2025-05-12T11:01:39.904704Z",
     "start_time": "2025-05-12T11:01:37.964992Z"
    }
   },
   "cell_type": "code",
   "source": [
    "import os\n",
    "import random\n",
    "\n",
    "# Librerías de PyTorch\n",
    "import torch\n",
    "from torch import nn\n",
    "import torch.nn.functional as F\n",
    "from torch.utils.data import DataLoader\n",
    "\n",
    "# Torch summary para hacer comprobacionesde la red\n",
    "from torchsummary import summary\n",
    "\n",
    "# Torch vision para descargar y preprocesar el conjunto de datos que usaremos para entrenar la red\n",
    "import torchvision\n",
    "from torchvision import transforms\n",
    "from torchvision.datasets import FashionMNIST\n",
    "import torchvision.models as models\n",
    "\n",
    "# Herramientas adicionales para la visualización de los datos y resultados\n",
    "from PIL import Image\n",
    "from tqdm.notebook import tqdm\n",
    "import numpy as np\n",
    "import matplotlib.pyplot as plt"
   ],
   "id": "c26a1ef47b329b60",
   "outputs": [],
   "execution_count": 2
  },
  {
   "metadata": {},
   "cell_type": "markdown",
   "source": "Durante esta práctica usaremos de nuevo el conjunto de datos `FashionMNIST` para entrenar la red. Comenzaremos por descargar y generar el `DataLoader` para poder enviar datos a la red de manera eficiente:",
   "id": "8a189938a3946a3f"
  },
  {
   "metadata": {
    "ExecuteTime": {
     "end_time": "2025-05-12T11:01:40.357081Z",
     "start_time": "2025-05-12T11:01:39.914661Z"
    }
   },
   "cell_type": "code",
   "source": [
    "def collate_fn(batch):\n",
    "    process = transforms.Compose([\n",
    "                transforms.ToTensor(),\n",
    "                transforms.Pad([2])]\n",
    "                )\n",
    "\n",
    "    # x - imágenes; procesamos cada imagen en el lote\n",
    "    x = [process(data[0].convert('RGB')) for data in batch]\n",
    "    x = torch.stack(x, dim=0)\n",
    "\n",
    "    # y - labels, hay que convertirlos al tipo LongTensor\n",
    "    y = torch.LongTensor([data[1] for data in batch])\n",
    "\n",
    "    return x, y\n",
    "\n",
    "config = {\n",
    "    \"batch_size\": 64,\n",
    "    \"epochs\": 3,\n",
    "    \"lr\": 1e-4,   # learning rate\n",
    "}\n",
    "\n",
    "labels = [\"Camiseta\",\n",
    "          \"Vaqueros\",\n",
    "          \"Jersey\",\n",
    "          \"Vestido\",\n",
    "          \"Abrigo\",\n",
    "          \"Sandalia\",\n",
    "          \"Falda\",\n",
    "          \"Deportiva\",\n",
    "          \"Bolso\",\n",
    "          \"Zapato\"]\n",
    "\n",
    "# Para una ejecución más rápida\n",
    "torch.set_float32_matmul_precision('high')\n",
    "torch.backends.cudnn.benchmark = True\n",
    "\n",
    "# Descarga de los datos\n",
    "train_data = FashionMNIST(\"./MNIST_DATA\", train=True, download=True)\n",
    "valid_data = FashionMNIST(\"./MNIST_DATA\", train=False, download=True)\n",
    "\n",
    "# Generamos los DataLoader\n",
    "train_loader = DataLoader(train_data, batch_size=config[\"batch_size\"],\n",
    "                          shuffle=True, collate_fn=collate_fn, num_workers=4)\n",
    "valid_loader = DataLoader(valid_data, batch_size=64,\n",
    "                           shuffle=False, collate_fn=collate_fn, num_workers=4)"
   ],
   "id": "930871e5549d2f44",
   "outputs": [],
   "execution_count": 3
  },
  {
   "metadata": {},
   "cell_type": "markdown",
   "source": "También podemos aprovechar para visualizar los datos como hemos hecho en prácticas anteriores:",
   "id": "737ff438ec3d880c"
  },
  {
   "metadata": {
    "ExecuteTime": {
     "end_time": "2025-05-12T11:01:40.622298Z",
     "start_time": "2025-05-12T11:01:40.365786Z"
    }
   },
   "cell_type": "code",
   "source": [
    "print(\"Inspección de los datos de entrenamiento: \")\n",
    "for _, data in enumerate(train_loader):\n",
    "    print(\"Tamaño del lote: \", data[0].shape)\n",
    "    fig, ax = plt.subplots(1, 4, figsize=(10, 4))\n",
    "\n",
    "    for i in range(4):\n",
    "        x = torch.norm(data[0], dim=1)\n",
    "        ax[i].imshow(x[i], cmap=\"gray\")\n",
    "        ax[i].axis(\"off\")\n",
    "        ax[i].set_title(labels[data[1][i]])\n",
    "    plt.show()\n",
    "    # Usamos break para no recorrer todo el DataLoader\n",
    "    break"
   ],
   "id": "614573d0a6c84dd6",
   "outputs": [
    {
     "name": "stdout",
     "output_type": "stream",
     "text": [
      "Inspección de los datos de entrenamiento: \n",
      "Tamaño del lote:  torch.Size([64, 3, 32, 32])\n"
     ]
    },
    {
     "data": {
      "text/plain": [
       "<Figure size 1000x400 with 4 Axes>"
      ],
      "image/png": "[encoded data removed]"
     },
     "metadata": {},
     "output_type": "display_data"
    }
   ],
   "execution_count": 4
  },
  {
   "metadata": {},
   "cell_type": "markdown",
   "source": "El siguiente paso consiste en definir nuestra red pre-entrenada ``VGG16``. La mayoría de librerías de deep learning (Tensorflow, PyTorch, JAX...) incluyen métodos para descargar redes populares pre-entrenadas en conjuntos de datos. De esta manera se simplifica en gran medida el acceso a estas redes y su aprovechamiento en nuestros proyectos:",
   "id": "e1933309c10f3d4a"
  },
  {
   "metadata": {
    "ExecuteTime": {
     "end_time": "2025-05-12T11:01:42.514250Z",
     "start_time": "2025-05-12T11:01:40.660698Z"
    }
   },
   "cell_type": "code",
   "source": [
    "# Descargamos nuestro modelo VGG16 pre-entrenado\n",
    "vgg16 = models.vgg16(weights=models.VGG16_Weights.DEFAULT)\n",
    "\n",
    "# Arquitectura del modelo\n",
    "summary(vgg16.cuda(), input_size=(3, 32, 32))\n"
   ],
   "id": "b019c944e9ffed37",
   "outputs": [
    {
     "name": "stdout",
     "output_type": "stream",
     "text": [
      "----------------------------------------------------------------\n",
      "        Layer (type)               Output Shape         Param #\n",
      "================================================================\n",
      "            Conv2d-1           [-1, 64, 32, 32]           1,792\n",
      "              ReLU-2           [-1, 64, 32, 32]               0\n",
      "            Conv2d-3           [-1, 64, 32, 32]          36,928\n",
      "              ReLU-4           [-1, 64, 32, 32]               0\n",
      "         MaxPool2d-5           [-1, 64, 16, 16]               0\n",
      "            Conv2d-6          [-1, 128, 16, 16]          73,856\n",
      "              ReLU-7          [-1, 128, 16, 16]               0\n",
      "            Conv2d-8          [-1, 128, 16, 16]         147,584\n",
      "              ReLU-9          [-1, 128, 16, 16]               0\n",
      "        MaxPool2d-10            [-1, 128, 8, 8]               0\n",
      "           Conv2d-11            [-1, 256, 8, 8]         295,168\n",
      "             ReLU-12            [-1, 256, 8, 8]               0\n",
      "           Conv2d-13            [-1, 256, 8, 8]         590,080\n",
      "             ReLU-14            [-1, 256, 8, 8]               0\n",
      "           Conv2d-15            [-1, 256, 8, 8]         590,080\n",
      "             ReLU-16            [-1, 256, 8, 8]               0\n",
      "        MaxPool2d-17            [-1, 256, 4, 4]               0\n",
      "           Conv2d-18            [-1, 512, 4, 4]       1,180,160\n",
      "             ReLU-19            [-1, 512, 4, 4]               0\n",
      "           Conv2d-20            [-1, 512, 4, 4]       2,359,808\n",
      "             ReLU-21            [-1, 512, 4, 4]               0\n",
      "           Conv2d-22            [-1, 512, 4, 4]       2,359,808\n",
      "             ReLU-23            [-1, 512, 4, 4]               0\n",
      "        MaxPool2d-24            [-1, 512, 2, 2]               0\n",
      "           Conv2d-25            [-1, 512, 2, 2]       2,359,808\n",
      "             ReLU-26            [-1, 512, 2, 2]               0\n",
      "           Conv2d-27            [-1, 512, 2, 2]       2,359,808\n",
      "             ReLU-28            [-1, 512, 2, 2]               0\n",
      "           Conv2d-29            [-1, 512, 2, 2]       2,359,808\n",
      "             ReLU-30            [-1, 512, 2, 2]               0\n",
      "        MaxPool2d-31            [-1, 512, 1, 1]               0\n",
      "AdaptiveAvgPool2d-32            [-1, 512, 7, 7]               0\n",
      "           Linear-33                 [-1, 4096]     102,764,544\n",
      "             ReLU-34                 [-1, 4096]               0\n",
      "          Dropout-35                 [-1, 4096]               0\n",
      "           Linear-36                 [-1, 4096]      16,781,312\n",
      "             ReLU-37                 [-1, 4096]               0\n",
      "          Dropout-38                 [-1, 4096]               0\n",
      "           Linear-39                 [-1, 1000]       4,097,000\n",
      "================================================================\n",
      "Total params: 138,357,544\n",
      "Trainable params: 138,357,544\n",
      "Non-trainable params: 0\n",
      "----------------------------------------------------------------\n",
      "Input size (MB): 0.01\n",
      "Forward/backward pass size (MB): 4.84\n",
      "Params size (MB): 527.79\n",
      "Estimated Total Size (MB): 532.65\n",
      "----------------------------------------------------------------\n"
     ]
    }
   ],
   "execution_count": 5
  },
  {
   "metadata": {},
   "cell_type": "markdown",
   "source": [
    "Inspeccionando el resumen del modelo, podemos darnos cuenta de lo siguiente:\n",
    "- El tamaño de entreda del modelo son, por defecto, imágenes con un tamaño de caja de 224 pixeles (y tamaño mínimo de 32). Tendremos que tener en cuenta este tamaño y asegurarnos que nuestros datos lo respetan.\n",
    "- La última capa de la red es una capa lineal de tamaño 1000. Este sería el número total de clases en el conjunto original de ``ImageNet``. Esta capa suele ser uno de los principales candidatos a re-entrenar en nuevos conjuntos de datos.\n",
    "- La red tiene todos sus parámetros marcados como \"entrenables\". Si no modificamos este estado, todas las capas serán refinadas con nuestro nuevo conjunto de datos.\n",
    "\n",
    "A modo de ejemplo, vamos a aprovechar esta red para definir un **Autoencoder** similar al que entrenamos en las Prácticas 2 y 3. Para ello, aprovecharemos nuestra ``VGG16`` a modo de ``Enocder``, y definiremos nuestro ``Decoder`` para que sea similar al de las Prácticas 2 y 3.\n",
    "\n",
    "Vamos a comenzar modificando nuestra ``VGG16`` para que tenga una última capa de espacio latente, así como modificar el estado del resto de capas convolucionales para que no sean entrenables:"
   ],
   "id": "66e09a0e0e690ce9"
  },
  {
   "metadata": {
    "ExecuteTime": {
     "end_time": "2025-05-12T11:01:42.552371Z",
     "start_time": "2025-05-12T11:01:42.537804Z"
    }
   },
   "cell_type": "code",
   "source": [
    "# Primero modificamos la última capa del clasificador (capas densas) para que genere un espacio 2D en la salida\n",
    "vgg16.classifier[6] = nn.Linear(in_features=4096, out_features=2)\n",
    "\n",
    "# A continuación congelamos todas las capas que no pertenezcan al clasificador para impedir que puedan ser entrenadas\n",
    "for param in vgg16.parameters():\n",
    "    param.requires_grad = False\n",
    "for param in vgg16.classifier.parameters():\n",
    "    param.requires_grad = True\n",
    "\n",
    "summary(vgg16.cuda(), input_size=(3, 32, 32))"
   ],
   "id": "e61626ac8b78f8bb",
   "outputs": [
    {
     "name": "stdout",
     "output_type": "stream",
     "text": [
      "----------------------------------------------------------------\n",
      "        Layer (type)               Output Shape         Param #\n",
      "================================================================\n",
      "            Conv2d-1           [-1, 64, 32, 32]           1,792\n",
      "              ReLU-2           [-1, 64, 32, 32]               0\n",
      "            Conv2d-3           [-1, 64, 32, 32]          36,928\n",
      "              ReLU-4           [-1, 64, 32, 32]               0\n",
      "         MaxPool2d-5           [-1, 64, 16, 16]               0\n",
      "            Conv2d-6          [-1, 128, 16, 16]          73,856\n",
      "              ReLU-7          [-1, 128, 16, 16]               0\n",
      "            Conv2d-8          [-1, 128, 16, 16]         147,584\n",
      "              ReLU-9          [-1, 128, 16, 16]               0\n",
      "        MaxPool2d-10            [-1, 128, 8, 8]               0\n",
      "           Conv2d-11            [-1, 256, 8, 8]         295,168\n",
      "             ReLU-12            [-1, 256, 8, 8]               0\n",
      "           Conv2d-13            [-1, 256, 8, 8]         590,080\n",
      "             ReLU-14            [-1, 256, 8, 8]               0\n",
      "           Conv2d-15            [-1, 256, 8, 8]         590,080\n",
      "             ReLU-16            [-1, 256, 8, 8]               0\n",
      "        MaxPool2d-17            [-1, 256, 4, 4]               0\n",
      "           Conv2d-18            [-1, 512, 4, 4]       1,180,160\n",
      "             ReLU-19            [-1, 512, 4, 4]               0\n",
      "           Conv2d-20            [-1, 512, 4, 4]       2,359,808\n",
      "             ReLU-21            [-1, 512, 4, 4]               0\n",
      "           Conv2d-22            [-1, 512, 4, 4]       2,359,808\n",
      "             ReLU-23            [-1, 512, 4, 4]               0\n",
      "        MaxPool2d-24            [-1, 512, 2, 2]               0\n",
      "           Conv2d-25            [-1, 512, 2, 2]       2,359,808\n",
      "             ReLU-26            [-1, 512, 2, 2]               0\n",
      "           Conv2d-27            [-1, 512, 2, 2]       2,359,808\n",
      "             ReLU-28            [-1, 512, 2, 2]               0\n",
      "           Conv2d-29            [-1, 512, 2, 2]       2,359,808\n",
      "             ReLU-30            [-1, 512, 2, 2]               0\n",
      "        MaxPool2d-31            [-1, 512, 1, 1]               0\n",
      "AdaptiveAvgPool2d-32            [-1, 512, 7, 7]               0\n",
      "           Linear-33                 [-1, 4096]     102,764,544\n",
      "             ReLU-34                 [-1, 4096]               0\n",
      "          Dropout-35                 [-1, 4096]               0\n",
      "           Linear-36                 [-1, 4096]      16,781,312\n",
      "             ReLU-37                 [-1, 4096]               0\n",
      "          Dropout-38                 [-1, 4096]               0\n",
      "           Linear-39                    [-1, 2]           8,194\n",
      "================================================================\n",
      "Total params: 134,268,738\n",
      "Trainable params: 119,554,050\n",
      "Non-trainable params: 14,714,688\n",
      "----------------------------------------------------------------\n",
      "Input size (MB): 0.01\n",
      "Forward/backward pass size (MB): 4.84\n",
      "Params size (MB): 512.19\n",
      "Estimated Total Size (MB): 517.04\n",
      "----------------------------------------------------------------\n"
     ]
    }
   ],
   "execution_count": 6
  },
  {
   "metadata": {},
   "cell_type": "markdown",
   "source": [
    "En el nuevo resumen del modelo, podemos ver que la última capa del clasificador generará un espacio de salida 2D. También podemos observar que el número de parámetros no entrenables ha dejado de ser cero, indicando que hay capas congeladas cuyo estado no será modificado por nuestro optimizador.\n",
    "\n",
    "Vamos a coninuar definiendo nuestro ``Decoder``. En primer lugar, definiremos una seria de atributos que serán de utilidad para definir las capas de nuestra red:"
   ],
   "id": "619067e61e87ee86"
  },
  {
   "metadata": {
    "ExecuteTime": {
     "end_time": "2025-05-12T11:01:42.707632Z",
     "start_time": "2025-05-12T11:01:42.704266Z"
    }
   },
   "cell_type": "code",
   "source": [
    "# Model parameters:\n",
    "LAYERS = 3  # Cantidad de capas en la red\n",
    "KERNELS = [3, 3, 3]  # Tamaño del kernel de convolución (uno para cada capa)\n",
    "CHANNELS = [32, 64, 128]  # Cantidad de canales/filtros que se calcularán en cada capa\n",
    "STRIDES = [2, 2, 2]  # Parámetro que determina el movimiento del filtro a través de los datos de entrada. Al realizar una operación de convolución, este parámetros determina cuántas unidades se desplaza el filtro en cada paso. Este desplazamiento puede ser horizontal, vertical o ambos, según su configuración.\n",
    "LINEAR_DIM = 2048  # Tamaño de las capas densas (el número de neuronas de cada capa densa)"
   ],
   "id": "4866684164222c0a",
   "outputs": [],
   "execution_count": 7
  },
  {
   "metadata": {},
   "cell_type": "markdown",
   "source": "Y continuamos definiendo el ``Decoder``:",
   "id": "1be0380bccb6a10c"
  },
  {
   "metadata": {
    "ExecuteTime": {
     "end_time": "2025-05-12T11:01:42.889989Z",
     "start_time": "2025-05-12T11:01:42.770814Z"
    }
   },
   "cell_type": "code",
   "source": [
    "class Decoder(nn.Module):\n",
    "\n",
    "    def __init__(self, input_dim=2, use_batchnorm=False, use_dropout=False):\n",
    "\n",
    "        super(Decoder, self).__init__()\n",
    "\n",
    "        # Variables que determinan si se usan capas de dropout y de normalización de lotes\n",
    "        self.use_dropout = use_dropout\n",
    "        self.use_batchnorm = use_batchnorm\n",
    "\n",
    "        self.fc_dim = LINEAR_DIM\n",
    "        self.input_dim = input_dim\n",
    "\n",
    "        # Hyperparámetros de las capas convolucionales\n",
    "        self.layers = LAYERS\n",
    "        self.kernels = KERNELS\n",
    "        self.channels = CHANNELS[::-1] # flip the channel dimensions\n",
    "        self.strides = STRIDES\n",
    "\n",
    "        # Al ser un espejo de la red de codificación, primero usaremos capas densas y luego convolucionales transpuestas\n",
    "        self.linear = nn.Linear(self.input_dim, self.fc_dim)\n",
    "        self.conv =  self.get_convs()\n",
    "\n",
    "        self.output = nn.Conv2d(self.channels[-1], 3, kernel_size=1, stride=1)\n",
    "\n",
    "    def get_convs(self):\n",
    "        conv_layers = nn.Sequential()\n",
    "        for i in range(self.layers):\n",
    "\n",
    "            if i == 0: conv_layers.append(\n",
    "                            nn.ConvTranspose2d(self.channels[i],\n",
    "                                               self.channels[i],\n",
    "                                               kernel_size=self.kernels[i],\n",
    "                                               stride=self.strides[i],\n",
    "                                               padding=1,\n",
    "                                               output_padding=1)\n",
    "                            )\n",
    "\n",
    "            else: conv_layers.append(\n",
    "                            nn.ConvTranspose2d(self.channels[i-1],\n",
    "                                               self.channels[i],\n",
    "                                               kernel_size=self.kernels[i],\n",
    "                                               stride=self.strides[i],\n",
    "                                               padding=1,\n",
    "                                               output_padding=1\n",
    "                                              )\n",
    "                            )\n",
    "\n",
    "            if self.use_batchnorm and i != self.layers - 1:\n",
    "                conv_layers.append(nn.BatchNorm2d(self.channels[i]))\n",
    "\n",
    "            conv_layers.append(nn.ReLU())\n",
    "\n",
    "            if self.use_dropout:\n",
    "                conv_layers.append(nn.Dropout2d(0.15))\n",
    "\n",
    "        return conv_layers\n",
    "\n",
    "\n",
    "    def forward(self, x):\n",
    "        x = self.linear(x)\n",
    "        # reshape 3D tensor to 4D tensor\n",
    "        x = x.reshape(x.shape[0], 128, 4, 4)\n",
    "        x = self.conv(x)\n",
    "        x = self.output(x)\n",
    "        return x\n",
    "\n",
    "summary(Decoder().cuda(), input_size=(2, ))"
   ],
   "id": "cd581f2106f4144e",
   "outputs": [
    {
     "name": "stdout",
     "output_type": "stream",
     "text": [
      "----------------------------------------------------------------\n",
      "        Layer (type)               Output Shape         Param #\n",
      "================================================================\n",
      "            Linear-1                 [-1, 2048]           6,144\n",
      "   ConvTranspose2d-2            [-1, 128, 8, 8]         147,584\n",
      "              ReLU-3            [-1, 128, 8, 8]               0\n",
      "   ConvTranspose2d-4           [-1, 64, 16, 16]          73,792\n",
      "              ReLU-5           [-1, 64, 16, 16]               0\n",
      "   ConvTranspose2d-6           [-1, 32, 32, 32]          18,464\n",
      "              ReLU-7           [-1, 32, 32, 32]               0\n",
      "            Conv2d-8            [-1, 3, 32, 32]              99\n",
      "================================================================\n",
      "Total params: 246,083\n",
      "Trainable params: 246,083\n",
      "Non-trainable params: 0\n",
      "----------------------------------------------------------------\n",
      "Input size (MB): 0.00\n",
      "Forward/backward pass size (MB): 0.91\n",
      "Params size (MB): 0.94\n",
      "Estimated Total Size (MB): 1.85\n",
      "----------------------------------------------------------------\n"
     ]
    }
   ],
   "execution_count": 8
  },
  {
   "metadata": {},
   "cell_type": "markdown",
   "source": "Por último, definimos una clase auxiliar ``Autoencoder`` para simplificar el manejo de nuestra red:",
   "id": "381b9aa2ad2f2512"
  },
  {
   "metadata": {
    "ExecuteTime": {
     "end_time": "2025-05-12T11:01:43.258592Z",
     "start_time": "2025-05-12T11:01:42.915326Z"
    }
   },
   "cell_type": "code",
   "source": [
    "class AutoEncoder(nn.Module):\n",
    "\n",
    "    def __init__(self, encoder: nn.Module):\n",
    "        super(AutoEncoder, self).__init__()\n",
    "        self.encoder = encoder\n",
    "        self.decoder = Decoder(input_dim=2,\n",
    "                               use_batchnorm=True, use_dropout=False)\n",
    "\n",
    "    def forward(self, x):\n",
    "        return self.decoder(self.encoder(x))\n",
    "\n",
    "model = AutoEncoder(encoder=vgg16)\n",
    "model = torch.compile(model, mode='reduce-overhead')\n",
    "model.cuda()"
   ],
   "id": "74d5041f8d571d36",
   "outputs": [
    {
     "data": {
      "text/plain": [
       "OptimizedModule(\n",
       "  (_orig_mod): AutoEncoder(\n",
       "    (encoder): VGG(\n",
       "      (features): Sequential(\n",
       "        (0): Conv2d(3, 64, kernel_size=(3, 3), stride=(1, 1), padding=(1, 1))\n",
       "        (1): ReLU(inplace=True)\n",
       "        (2): Conv2d(64, 64, kernel_size=(3, 3), stride=(1, 1), padding=(1, 1))\n",
       "        (3): ReLU(inplace=True)\n",
       "        (4): MaxPool2d(kernel_size=2, stride=2, padding=0, dilation=1, ceil_mode=False)\n",
       "        (5): Conv2d(64, 128, kernel_size=(3, 3), stride=(1, 1), padding=(1, 1))\n",
       "        (6): ReLU(inplace=True)\n",
       "        (7): Conv2d(128, 128, kernel_size=(3, 3), stride=(1, 1), padding=(1, 1))\n",
       "        (8): ReLU(inplace=True)\n",
       "        (9): MaxPool2d(kernel_size=2, stride=2, padding=0, dilation=1, ceil_mode=False)\n",
       "        (10): Conv2d(128, 256, kernel_size=(3, 3), stride=(1, 1), padding=(1, 1))\n",
       "        (11): ReLU(inplace=True)\n",
       "        (12): Conv2d(256, 256, kernel_size=(3, 3), stride=(1, 1), padding=(1, 1))\n",
       "        (13): ReLU(inplace=True)\n",
       "        (14): Conv2d(256, 256, kernel_size=(3, 3), stride=(1, 1), padding=(1, 1))\n",
       "        (15): ReLU(inplace=True)\n",
       "        (16): MaxPool2d(kernel_size=2, stride=2, padding=0, dilation=1, ceil_mode=False)\n",
       "        (17): Conv2d(256, 512, kernel_size=(3, 3), stride=(1, 1), padding=(1, 1))\n",
       "        (18): ReLU(inplace=True)\n",
       "        (19): Conv2d(512, 512, kernel_size=(3, 3), stride=(1, 1), padding=(1, 1))\n",
       "        (20): ReLU(inplace=True)\n",
       "        (21): Conv2d(512, 512, kernel_size=(3, 3), stride=(1, 1), padding=(1, 1))\n",
       "        (22): ReLU(inplace=True)\n",
       "        (23): MaxPool2d(kernel_size=2, stride=2, padding=0, dilation=1, ceil_mode=False)\n",
       "        (24): Conv2d(512, 512, kernel_size=(3, 3), stride=(1, 1), padding=(1, 1))\n",
       "        (25): ReLU(inplace=True)\n",
       "        (26): Conv2d(512, 512, kernel_size=(3, 3), stride=(1, 1), padding=(1, 1))\n",
       "        (27): ReLU(inplace=True)\n",
       "        (28): Conv2d(512, 512, kernel_size=(3, 3), stride=(1, 1), padding=(1, 1))\n",
       "        (29): ReLU(inplace=True)\n",
       "        (30): MaxPool2d(kernel_size=2, stride=2, padding=0, dilation=1, ceil_mode=False)\n",
       "      )\n",
       "      (avgpool): AdaptiveAvgPool2d(output_size=(7, 7))\n",
       "      (classifier): Sequential(\n",
       "        (0): Linear(in_features=25088, out_features=4096, bias=True)\n",
       "        (1): ReLU(inplace=True)\n",
       "        (2): Dropout(p=0.5, inplace=False)\n",
       "        (3): Linear(in_features=4096, out_features=4096, bias=True)\n",
       "        (4): ReLU(inplace=True)\n",
       "        (5): Dropout(p=0.5, inplace=False)\n",
       "        (6): Linear(in_features=4096, out_features=2, bias=True)\n",
       "      )\n",
       "    )\n",
       "    (decoder): Decoder(\n",
       "      (linear): Linear(in_features=2, out_features=2048, bias=True)\n",
       "      (conv): Sequential(\n",
       "        (0): ConvTranspose2d(128, 128, kernel_size=(3, 3), stride=(2, 2), padding=(1, 1), output_padding=(1, 1))\n",
       "        (1): BatchNorm2d(128, eps=1e-05, momentum=0.1, affine=True, track_running_stats=True)\n",
       "        (2): ReLU()\n",
       "        (3): ConvTranspose2d(128, 64, kernel_size=(3, 3), stride=(2, 2), padding=(1, 1), output_padding=(1, 1))\n",
       "        (4): BatchNorm2d(64, eps=1e-05, momentum=0.1, affine=True, track_running_stats=True)\n",
       "        (5): ReLU()\n",
       "        (6): ConvTranspose2d(64, 32, kernel_size=(3, 3), stride=(2, 2), padding=(1, 1), output_padding=(1, 1))\n",
       "        (7): ReLU()\n",
       "      )\n",
       "      (output): Conv2d(32, 3, kernel_size=(1, 1), stride=(1, 1))\n",
       "    )\n",
       "  )\n",
       ")"
      ]
     },
     "execution_count": 9,
     "metadata": {},
     "output_type": "execute_result"
    }
   ],
   "execution_count": 9
  },
  {
   "metadata": {},
   "cell_type": "markdown",
   "source": "Una vez definido nuestro autoencoder, podemos empezar a escribir nuestro loop de entrenamiento. Sin embargo, antes de hablar sobre el entrenamiento, vamos a definir una serie de funciones para representar el espacio latente codificado a medida que entrenamos, para así poder comprender como la red neuronal aprende de manera progresiva a clasificar nuestro datos:",
   "id": "94150999192145a4"
  },
  {
   "metadata": {
    "ExecuteTime": {
     "end_time": "2025-05-12T11:01:43.295940Z",
     "start_time": "2025-05-12T11:01:43.289697Z"
    }
   },
   "cell_type": "code",
   "source": [
    "def plotting(step:int=0, show=False):\n",
    "\n",
    "    model.eval()  # Pasamos el modelo a modo evaluación (en este modo, las capas de Dropout y BatchNorm se desactivan para mejorar la precisión de las predicciones)\n",
    "\n",
    "    points = []\n",
    "    label_idcs = []\n",
    "\n",
    "    path = \"./ScatterPlots_FineTune\"\n",
    "    if not os.path.exists(path): os.mkdir(path)\n",
    "\n",
    "    for i, data in enumerate(valid_loader):\n",
    "        if i % 5 == 0:\n",
    "            img, label = [d for d in data]\n",
    "            # Solo necesitamos codificar las imágenes\n",
    "            with torch.no_grad():\n",
    "                proj = model.encoder(img.cuda())\n",
    "            points.extend(proj.cpu().numpy())\n",
    "            label_idcs.extend(label.numpy())\n",
    "            del img, label\n",
    "\n",
    "    points = np.array(points)\n",
    "\n",
    "    # Creamos nuestra gráfica\n",
    "    fig, ax = plt.subplots(figsize=(10, 10) if not show else (8, 8))\n",
    "    scatter = ax.scatter(x=points[:, 0], y=points[:, 1], s=5.0,\n",
    "                c=label_idcs, cmap='tab10', alpha=0.9, zorder=2)\n",
    "    plt.title(\"Step {}\".format(step))\n",
    "    handles, _ = scatter.legend_elements()\n",
    "    plt.legend(handles=handles, labels=labels)\n",
    "\n",
    "    ax.spines[\"right\"].set_visible(False)\n",
    "    ax.spines[\"top\"].set_visible(False)\n",
    "\n",
    "    if show:\n",
    "        ax.grid(True, color=\"lightgray\", alpha=1.0, zorder=0)\n",
    "        plt.show()\n",
    "    else:\n",
    "        # Aqui guardamos la gráfica actual\n",
    "        plt.savefig(f\"{path}/Step_{step:04d}.png\", bbox_inches=\"tight\")\n",
    "        plt.close() # Es importante no olvidarse de cerrar la figura para que no se quede cargada en memoria\n",
    "        model.train()\n",
    "\n",
    "# Conversión de las gráficas a un formato GIF\n",
    "def save_gif():\n",
    "\n",
    "  frames = []\n",
    "  imgs = sorted(os.listdir(\"./ScatterPlots_FineTune\"))\n",
    "\n",
    "  for im in imgs:\n",
    "      new_frame = Image.open(\"./ScatterPlots_FineTune/\" + im)\n",
    "      frames.append(new_frame)\n",
    "\n",
    "  frames[0].save(\"latentspace_FineTune.gif\", format=\"GIF\",\n",
    "                 append_images=frames[1:],\n",
    "                 save_all=True,\n",
    "                 duration=200, loop=0)"
   ],
   "id": "2d6c092c6c816b5b",
   "outputs": [],
   "execution_count": 10
  },
  {
   "metadata": {},
   "cell_type": "markdown",
   "source": "Antes de definir el loop de entrenamiento, vamos a definir unas variables de configuración y el optimizador para poder usarlas durante el entrenamiento:",
   "id": "c2f5115b9f0a7bae"
  },
  {
   "metadata": {
    "ExecuteTime": {
     "end_time": "2025-05-12T11:01:43.359941Z",
     "start_time": "2025-05-12T11:01:43.355366Z"
    }
   },
   "cell_type": "code",
   "source": [
    "criterion = nn.MSELoss()  # Usaremos como función de péridida el error cuadrático medio\n",
    "optimizer = torch.optim.AdamW(model.parameters(), lr=config[\"lr\"], weight_decay=1e-5)\n",
    "\n",
    "# For mixed precision training\n",
    "scaler = torch.amp.GradScaler(\"cuda\")  # Para poder hacer mixed precision training (explicación en la siguiente celda)\n",
    "steps = 0  # Variable para contar el número de steps/lotes que ha ido viendo la red"
   ],
   "id": "2bd194db9feb1114",
   "outputs": [],
   "execution_count": 11
  },
  {
   "metadata": {},
   "cell_type": "markdown",
   "source": [
    "A continuación vamos a deifinir el loop de entraniento. Para tener el código más ordenado, definiremos dos funciones:\n",
    "   - **Función \"train\"**: Contiene toda la lógica necesaria para entrenar el modelo durante una epoch completa\n",
    "   - **Función \"validate\"**: Contiene toda la lógica para evaluar el módelo en un conjunto de datos (pero sin actualizar los parámetros de la red con estos datos)"
   ],
   "id": "35f0e6d09d212a10"
  },
  {
   "metadata": {
    "ExecuteTime": {
     "end_time": "2025-05-12T11:01:43.423074Z",
     "start_time": "2025-05-12T11:01:43.414597Z"
    }
   },
   "cell_type": "code",
   "source": [
    "def train(model, dataloader, criterion, optimizer, save_distrib=False):\n",
    "    # Esta variable solo la usamos para hacer un seguimiento del entrenamiento y poder guardar los espacios latentes\n",
    "    global steps\n",
    "\n",
    "    model.train()\n",
    "    train_loss = 0.0\n",
    "\n",
    "    # Barra de progreso\n",
    "    batch_bar = tqdm(total=len(dataloader), dynamic_ncols=True,\n",
    "                     leave=False, position=0, desc=\"Train\")\n",
    "\n",
    "    for i, batch in enumerate(dataloader):\n",
    "\n",
    "        optimizer.zero_grad()\n",
    "        x = batch[0].cuda()\n",
    "\n",
    "        with torch.amp.autocast(\"cuda\"):\n",
    "            y_recons = model(x)\n",
    "            loss = criterion(y_recons, x)\n",
    "\n",
    "        scaler.scale(loss).backward()\n",
    "        scaler.step(optimizer)\n",
    "        scaler.update()\n",
    "\n",
    "        train_loss += loss.item()\n",
    "\n",
    "        batch_bar.set_postfix(\n",
    "            loss=f\"{train_loss/(i+1):.4f}\",\n",
    "            lr = f\"{optimizer.param_groups[0]['lr']:.4f}\"\n",
    "        )\n",
    "        batch_bar.update()\n",
    "\n",
    "        # Guardamos el estado del espacio latente para su posterior visualización\n",
    "        if steps % 10 == 0 and save_distrib and steps <= 400: plotting(steps)\n",
    "        if steps % 100 == 0 and save_distrib and steps >= 500 and steps <= 3000: plotting(steps)\n",
    "        steps += 1\n",
    "\n",
    "        # Eliminamos el cache no necesario de la GPU para ahorrar memoriar\n",
    "        torch.cuda.empty_cache()\n",
    "        del x, y_recons\n",
    "\n",
    "    batch_bar.close()\n",
    "    train_loss /= len(dataloader)\n",
    "\n",
    "    return train_loss\n",
    "\n",
    "\n",
    "def validate(model, dataloader, criterion):\n",
    "\n",
    "    model.eval()  # Usamos el modelo en modo evaluación (capas de Dropout y BatchNorm desactivadas)\n",
    "    valid_loss = 0.0\n",
    "\n",
    "    # Barra de progreso\n",
    "    batch_bar = tqdm(total=len(dataloader), dynamic_ncols=True,\n",
    "                     leave=False, position=0, desc=\"Validation\")\n",
    "\n",
    "    for i, batch in enumerate(dataloader):\n",
    "        x = batch[0].cuda()\n",
    "\n",
    "        with torch.no_grad():  # No necesitamos los gradientes en la validación\n",
    "            y_recons = model(x)\n",
    "            loss = criterion(y_recons, x)\n",
    "\n",
    "        valid_loss += loss.item()\n",
    "\n",
    "        batch_bar.set_postfix(\n",
    "            loss=f\"{valid_loss/(i+1):.4f}\",\n",
    "            lr = f\"{optimizer.param_groups[0]['lr']:.4f}\"\n",
    "        )\n",
    "        batch_bar.update()\n",
    "\n",
    "        torch.cuda.empty_cache()\n",
    "        del x, y_recons\n",
    "\n",
    "    batch_bar.close()\n",
    "    valid_loss /= len(dataloader)\n",
    "\n",
    "    return valid_loss"
   ],
   "id": "8d8d8692ee3a8e93",
   "outputs": [],
   "execution_count": 12
  },
  {
   "metadata": {},
   "cell_type": "markdown",
   "source": "A continuación definimos el loop de entrenamiento y entrenamos nuestra red neuronal:",
   "id": "9d4951634156814c"
  },
  {
   "metadata": {
    "ExecuteTime": {
     "end_time": "2025-05-12T11:18:14.984264Z",
     "start_time": "2025-05-12T11:01:43.472618Z"
    }
   },
   "cell_type": "code",
   "source": [
    "for i in range(config[\"epochs\"]):\n",
    "\n",
    "    curr_lr = float(optimizer.param_groups[0][\"lr\"])\n",
    "    train_loss = train(model, train_loader, criterion,\n",
    "                       optimizer, save_distrib=True)\n",
    "    valid_loss = validate(model, valid_loader, criterion)\n",
    "\n",
    "    print(f\"Epoch {i+1}/{config['epochs']}\\nTrain loss: {train_loss:.4f}\\t Validation loss: {valid_loss:.4f}\\tlr: {curr_lr:.4f}\")"
   ],
   "id": "ce887868285d958d",
   "outputs": [
    {
     "data": {
      "text/plain": [
       "Train:   0%|          | 0/938 [00:00<?, ?it/s]"
      ],
      "application/vnd.jupyter.widget-view+json": {
       "version_major": 2,
       "version_minor": 0,
       "model_id": "2b76a32632234b24bbd6c8c11d4568da"
      }
     },
     "metadata": {},
     "output_type": "display_data"
    },
    {
     "data": {
      "text/plain": [
       "Validation:   0%|          | 0/157 [00:00<?, ?it/s]"
      ],
      "application/vnd.jupyter.widget-view+json": {
       "version_major": 2,
       "version_minor": 0,
       "model_id": "6c3e510fd11c422e8e41a734a8ff1461"
      }
     },
     "metadata": {},
     "output_type": "display_data"
    },
    {
     "name": "stdout",
     "output_type": "stream",
     "text": [
      "Epoch 1/3\n",
      "Train loss: 0.0433\t Validation loss: 0.0301\tlr: 0.0001\n"
     ]
    },
    {
     "data": {
      "text/plain": [
       "Train:   0%|          | 0/938 [00:00<?, ?it/s]"
      ],
      "application/vnd.jupyter.widget-view+json": {
       "version_major": 2,
       "version_minor": 0,
       "model_id": "355382be20a3466faa882e3f83c08304"
      }
     },
     "metadata": {},
     "output_type": "display_data"
    },
    {
     "data": {
      "text/plain": [
       "Validation:   0%|          | 0/157 [00:00<?, ?it/s]"
      ],
      "application/vnd.jupyter.widget-view+json": {
       "version_major": 2,
       "version_minor": 0,
       "model_id": "be3acd603d384ef39f8ad816b5518297"
      }
     },
     "metadata": {},
     "output_type": "display_data"
    },
    {
     "name": "stdout",
     "output_type": "stream",
     "text": [
      "Epoch 2/3\n",
      "Train loss: 0.0300\t Validation loss: 0.0287\tlr: 0.0001\n"
     ]
    },
    {
     "data": {
      "text/plain": [
       "Train:   0%|          | 0/938 [00:00<?, ?it/s]"
      ],
      "application/vnd.jupyter.widget-view+json": {
       "version_major": 2,
       "version_minor": 0,
       "model_id": "b8e0e4b103b446e5941f922ed3154265"
      }
     },
     "metadata": {},
     "output_type": "display_data"
    },
    {
     "data": {
      "text/plain": [
       "Validation:   0%|          | 0/157 [00:00<?, ?it/s]"
      ],
      "application/vnd.jupyter.widget-view+json": {
       "version_major": 2,
       "version_minor": 0,
       "model_id": "eb3ee48a3717460d94fdee1c61699422"
      }
     },
     "metadata": {},
     "output_type": "display_data"
    },
    {
     "name": "stdout",
     "output_type": "stream",
     "text": [
      "Epoch 3/3\n",
      "Train loss: 0.0289\t Validation loss: 0.0279\tlr: 0.0001\n"
     ]
    }
   ],
   "execution_count": 13
  },
  {
   "metadata": {},
   "cell_type": "markdown",
   "source": "Una vez terminado el entrenamiento, podemos visualizar el proceso de optimización del espacio latente:",
   "id": "fcae65aa2efdc2a7"
  },
  {
   "metadata": {
    "ExecuteTime": {
     "end_time": "2025-05-12T11:23:28.447679Z",
     "start_time": "2025-05-12T11:23:26.139649Z"
    }
   },
   "cell_type": "code",
   "source": "save_gif()",
   "id": "c568ffd5e6305bb2",
   "outputs": [],
   "execution_count": 16
  },
  {
   "metadata": {},
   "cell_type": "markdown",
   "source": "<img src=\"latentspace_FineTune.gif\" width=500, heigh=500 />",
   "id": "338de0c9f2d619a3"
  },
  {
   "metadata": {},
   "cell_type": "markdown",
   "source": "<img src=\"ScatterPlots_FineTune/Step_2800.png\" width=500, heigh=500 />",
   "id": "31fd9f9e77adb752"
  },
  {
   "metadata": {},
   "cell_type": "markdown",
   "source": "Por último, podemos seleccionar puntos aleatorios del espacio latente anterior y aprovechar la red de decodificación para comprobar que la red neuronal ha aprendedido correctamente a recuperar los datos de entrada a partir del espacio codificado:",
   "id": "9a2bbbdb8da54891"
  },
  {
   "metadata": {
    "ExecuteTime": {
     "end_time": "2025-05-12T11:24:06.547632Z",
     "start_time": "2025-05-12T11:24:05.185473Z"
    }
   },
   "cell_type": "code",
   "source": [
    "# Muestras aleatorias de puntos en el espacio codificado\n",
    "xs = [random.uniform(-200.0, 50.0) for i in range(8)]\n",
    "ys = [random.uniform(-150, 150.0) for i in range(8)]\n",
    "\n",
    "points = list(zip(xs, ys))\n",
    "coords = torch.tensor(points).unsqueeze(1).cuda()\n",
    "\n",
    "nrows, ncols = 2, 4\n",
    "fig, axes = plt.subplots(nrows, ncols, figsize=(10, 5))\n",
    "\n",
    "model.eval()\n",
    "with torch.no_grad():\n",
    "    generates = [torch.norm(model.decoder(coord), dim=1) for coord in coords]\n",
    "\n",
    "# Muestra las imágenes decodificadas a partir de los puntos anteriores\n",
    "idx = 0\n",
    "for row in range(0, nrows):\n",
    "    for col in range(0, ncols):\n",
    "        ax = axes[row, col]\n",
    "        im = generates[idx].squeeze().detach().cpu()\n",
    "        ax.imshow(im, cmap=\"gray\")\n",
    "        ax.axis(\"off\")\n",
    "        coord = coords[idx].detach().cpu().numpy()[0]\n",
    "        ax.set_title(f\"({coord[0]:.3f}, {coord[1]:.3f})\")\n",
    "        idx += 1\n",
    "\n",
    "plt.show()"
   ],
   "id": "b6c2eef3219a9199",
   "outputs": [
    {
     "data": {
      "text/plain": [
       "<Figure size 1000x500 with 8 Axes>"
      ],
      "image/png": "[encoded data removed]"
     },
     "metadata": {},
     "output_type": "display_data"
    }
   ],
   "execution_count": 17
  }
 ],
 "metadata": {
  "kernelspec": {
   "display_name": "Python 3",
   "language": "python",
   "name": "python3"
  },
  "language_info": {
   "codemirror_mode": {
    "name": "ipython",
    "version": 2
   },
   "file_extension": ".py",
   "mimetype": "text/x-python",
   "name": "python",
   "nbconvert_exporter": "python",
   "pygments_lexer": "ipython2",
   "version": "2.7.6"
  }
 },
 "nbformat": 4,
 "nbformat_minor": 5
}
