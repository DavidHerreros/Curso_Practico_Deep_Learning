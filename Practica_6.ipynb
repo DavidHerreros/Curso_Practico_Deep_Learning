{
 "cells": [
  {
   "metadata": {},
   "cell_type": "markdown",
   "source": [
    "# PRÁCTICA 6: REDES GENERATIVAS ANTAGÓNICAS (GAN)\n",
    "\n",
    "En esta práctica vamos a definir ina red generativa antagónica (__GAN__), siendo esta arquitectura muy popular graicas a su capacidad mejorada de generación de datos en comparación a otras arquitecturas más clásicas como los __Autoencoder__.\n",
    "\n",
    "Este tipo de redes son además un muy buen ejemplo para aprender a trabajar con diferentes optimizadores y pasos de backpropagation, lo que nos permite tener un mayor control de como se actualizan y comportan diferentes partes de nuestra red.\n",
    "\n",
    "Vamos a comenzar importando las librerías que necesitaremos durante la práctica:"
   ],
   "id": "ad6d51a7e12dc374"
  },
  {
   "metadata": {
    "ExecuteTime": {
     "end_time": "2025-05-08T12:24:05.388520Z",
     "start_time": "2025-05-08T12:24:04.932666Z"
    }
   },
   "cell_type": "code",
   "source": "!jupyter nbextension enable --py widgetsnbextension",
   "id": "de45d31fd8473cd0",
   "outputs": [
    {
     "name": "stdout",
     "output_type": "stream",
     "text": [
      "/bin/bash: warning: setlocale: LC_ALL: cannot change locale (en_US.UTF-8)\r\n",
      "Enabling notebook extension jupyter-js-widgets/extension...\r\n",
      "      - Validating: \u001B[32mOK\u001B[0m\r\n"
     ]
    }
   ],
   "execution_count": 1
  },
  {
   "metadata": {
    "ExecuteTime": {
     "end_time": "2025-05-08T12:24:07.609403Z",
     "start_time": "2025-05-08T12:24:05.511305Z"
    }
   },
   "cell_type": "code",
   "source": [
    "import os\n",
    "import uuid\n",
    "\n",
    "# Librerías de PyTorch\n",
    "import torch\n",
    "from torch import nn\n",
    "\n",
    "# Torch vision para descargar y preprocesar el conjunto de datos que usaremos para entrenar la red\n",
    "from torch.utils.data import DataLoader\n",
    "from torchvision import transforms\n",
    "from torchvision import datasets\n",
    "\n",
    "# Herramientas adicionales para la visualización de los datos y resultados\n",
    "from tqdm import tqdm\n",
    "import matplotlib.pyplot as plt\n",
    "import numpy as np"
   ],
   "id": "6d24578065445be0",
   "outputs": [],
   "execution_count": 2
  },
  {
   "metadata": {},
   "cell_type": "markdown",
   "source": "Como hemos hecho en otras prácticas, vamos a continuar definiendo una seria de variables para configurar parte de los hiperparámetros de la red:",
   "id": "25deaaefe92b5bcd"
  },
  {
   "metadata": {
    "ExecuteTime": {
     "end_time": "2025-05-08T12:24:07.620090Z",
     "start_time": "2025-05-08T12:24:07.617312Z"
    }
   },
   "cell_type": "code",
   "source": [
    "NUM_EPOCHS = 50\n",
    "NOISE_DIMENSION = 50\n",
    "BATCH_SIZE = 128\n",
    "TRAIN_ON_GPU = True\n",
    "UNIQUE_RUN_ID = str(uuid.uuid4())\n",
    "PRINT_STATS_AFTER_BATCH = 50\n",
    "OPTIMIZER_LR = 0.0002\n",
    "OPTIMIZER_BETAS = (0.5, 0.999)\n",
    "GENERATOR_OUTPUT_IMAGE_SHAPE = 28 * 28 * 1"
   ],
   "id": "4e1372c48b498f8c",
   "outputs": [],
   "execution_count": 3
  },
  {
   "metadata": {},
   "cell_type": "markdown",
   "source": "También vamos a aprovehcar a configurar __PyTorch__ con el objetivo de mejorar la velocidad de ejecución de nuestra red:",
   "id": "5c8eedc9b4938290"
  },
  {
   "metadata": {
    "ExecuteTime": {
     "end_time": "2025-05-08T12:24:07.671852Z",
     "start_time": "2025-05-08T12:24:07.669054Z"
    }
   },
   "cell_type": "code",
   "source": [
    "torch.autograd.set_detect_anomaly(False)\n",
    "torch.autograd.profiler.profile(False)\n",
    "torch.autograd.profiler.emit_nvtx(False)\n",
    "torch.backends.cudnn.benchmark = True"
   ],
   "id": "9a5b7d723fdb32aa",
   "outputs": [],
   "execution_count": 4
  },
  {
   "metadata": {},
   "cell_type": "markdown",
   "source": "Durante esta práctica usaremos de nuevo el conjunto de datos `FashionMNIST` para entrenar la red. Comenzaremos por descargar y generar el `DataLoader` para poder enviar datos a la red de manera eficiente:",
   "id": "a95e95f1705000db"
  },
  {
   "metadata": {
    "ExecuteTime": {
     "end_time": "2025-05-08T12:24:08.023079Z",
     "start_time": "2025-05-08T12:24:07.718613Z"
    }
   },
   "cell_type": "code",
   "source": [
    "train_dataset = datasets.FashionMNIST(\"./MNIST_DATA\", train=True, download=True,transform=transforms.ToTensor())\n",
    "train_loader = DataLoader(train_dataset, batch_size=64, shuffle=True, drop_last=True, num_workers=4)"
   ],
   "id": "555376aad9449e7f",
   "outputs": [],
   "execution_count": 5
  },
  {
   "metadata": {},
   "cell_type": "markdown",
   "source": "También podemos aprovechar para visualizar los datos como hemos hecho en prácticas anteriores:",
   "id": "4074258da41a9d0"
  },
  {
   "metadata": {
    "ExecuteTime": {
     "end_time": "2025-05-08T12:24:08.237342Z",
     "start_time": "2025-05-08T12:24:08.033538Z"
    }
   },
   "cell_type": "code",
   "source": [
    "print(\"Inspección de los datos de entrenamiento: \")\n",
    "for _, data in enumerate(train_loader):\n",
    "    print(\"Tamaño del lote: \", data[0].shape)\n",
    "    fig, ax = plt.subplots(1, 4, figsize=(10, 4))\n",
    "\n",
    "    for i in range(4):\n",
    "        ax[i].imshow(data[0][i].squeeze(), cmap=\"gray\")\n",
    "        ax[i].axis(\"off\")\n",
    "    plt.show()\n",
    "    # Hacemos break para no recorrer todo el loader\n",
    "    break"
   ],
   "id": "9df1d96adb4d25ce",
   "outputs": [
    {
     "name": "stdout",
     "output_type": "stream",
     "text": [
      "Inspección de los datos de entrenamiento: \n",
      "Tamaño del lote:  torch.Size([64, 1, 28, 28])\n"
     ]
    },
    {
     "data": {
      "text/plain": [
       "<Figure size 1000x400 with 4 Axes>"
      ],
      "image/png": "[encoded data removed]"
     },
     "metadata": {},
     "output_type": "display_data"
    }
   ],
   "execution_count": 6
  },
  {
   "metadata": {},
   "cell_type": "markdown",
   "source": [
    "<img src=\"https://miro.medium.com/v2/resize:fit:1400/format:webp/1*8F2BDwhBH4DdYhx5e7u04A.jpeg\">\n",
    "\n",
    "Las redes __GAN__ están formadas por dos redes neuronales diferentes:\n",
    "- **Generador**: Tiene como objetivo aprender a generar datos a partir de una entrada \"fija\" (en nuestro caso, una imagen de ruido)\n",
    "- **Discriminador**: Esta red tiene como objetivo aprender a discriminar sin una imgen es real o falsa (es decir, generada por el **Generador**).\n",
    "\n",
    "El proceso de entrenamiento de este tipo de redes se puede comparar con el de un falsificador y un policía. El **Generador** actúa como el falsificador, mientras que la tarea de la policía es atraparlo. Cuando la policía detecta más imágenes falsificadas, el falsificador debe aprender a producir mejores resultados. Esto es exactamente lo que sucede: a medida que el **Discriminador** mejora su capacidad para discernir si una imagen es falsa o real, el **Generador** finalmente mejora su capacidad para generar imágenes falsas. En consecuencia, el **Generador** puede utilizarse de forma independiente para generar imágenes después de su entrenamiento.\n",
    "\n",
    "Vamos a comenzar definiendo nuestro **Generador**:"
   ],
   "id": "396cc2928ec0c109"
  },
  {
   "metadata": {
    "ExecuteTime": {
     "end_time": "2025-05-08T12:24:08.264672Z",
     "start_time": "2025-05-08T12:24:08.261032Z"
    }
   },
   "cell_type": "code",
   "source": [
    "class Generator(nn.Module):\n",
    "  def __init__(self,):\n",
    "    super().__init__()\n",
    "    self.layers = nn.Sequential(\n",
    "      nn.Linear(NOISE_DIMENSION, 128),\n",
    "      nn.BatchNorm1d(128, 0.8),\n",
    "      nn.LeakyReLU(0.25),\n",
    "      nn.Linear(128, 256),\n",
    "      nn.BatchNorm1d(256, 0.8),\n",
    "      nn.LeakyReLU(0.25),\n",
    "      nn.Linear(256, 512),\n",
    "      nn.BatchNorm1d(512, 0.8),\n",
    "      nn.LeakyReLU(0.25),\n",
    "      nn.Linear(512, GENERATOR_OUTPUT_IMAGE_SHAPE),\n",
    "      nn.Tanh()\n",
    "    )\n",
    "\n",
    "  def forward(self, x):\n",
    "    return self.layers(x)"
   ],
   "id": "2b710b2bb44aa2d6",
   "outputs": [],
   "execution_count": 7
  },
  {
   "metadata": {},
   "cell_type": "markdown",
   "source": "Y continuamos con la definición del **Discriminador**:",
   "id": "427baa814be90250"
  },
  {
   "metadata": {
    "ExecuteTime": {
     "end_time": "2025-05-08T12:24:08.346469Z",
     "start_time": "2025-05-08T12:24:08.343049Z"
    }
   },
   "cell_type": "code",
   "source": [
    "class Discriminator(nn.Module):\n",
    "  def __init__(self):\n",
    "    super().__init__()\n",
    "    self.layers = nn.Sequential(\n",
    "      nn.Linear(GENERATOR_OUTPUT_IMAGE_SHAPE, 1024),\n",
    "      nn.LeakyReLU(0.25),\n",
    "      nn.Linear(1024, 512),\n",
    "      nn.LeakyReLU(0.25),\n",
    "      nn.Linear(512, 256),\n",
    "      nn.LeakyReLU(0.25),\n",
    "      nn.Linear(256, 1),\n",
    "      nn.Sigmoid()\n",
    "    )\n",
    "\n",
    "  def forward(self, x):\n",
    "    return self.layers(x)"
   ],
   "id": "de9c47ec6f3aed82",
   "outputs": [],
   "execution_count": 8
  },
  {
   "metadata": {},
   "cell_type": "markdown",
   "source": "Antes de entranar nuestras dos redes, vamos a definir una serie de funciones que serán útiles durante el entrenamiento y la evaluación de los resultados de las dos redes:",
   "id": "1d81433df629fc08"
  },
  {
   "metadata": {
    "ExecuteTime": {
     "end_time": "2025-05-08T12:24:08.504230Z",
     "start_time": "2025-05-08T12:24:08.427846Z"
    }
   },
   "cell_type": "code",
   "source": [
    "def get_device():\n",
    "  return torch.device(\"cuda:0\" if torch.cuda.is_available() and TRAIN_ON_GPU else \"cpu\")\n",
    "\n",
    "def make_directory_for_run():\n",
    "  \"\"\" Vamos a guardar los resultados de cada ejecución en una carpeta diferente \"\"\"\n",
    "  print(f'Preparando la ejecución {UNIQUE_RUN_ID}')\n",
    "  if not os.path.exists('./runs'):\n",
    "    os.mkdir('./runs')\n",
    "  os.mkdir(f'./runs/{UNIQUE_RUN_ID}')\n",
    "\n",
    "def generate_noise(number_of_images=1, noise_dimension=NOISE_DIMENSION, device=None):\n",
    "  return torch.randn(number_of_images, noise_dimension, device=device)\n",
    "\n",
    "def generate_image(generator, epoch=0, batch=0, device=get_device()):\n",
    "  images = []\n",
    "  noise = generate_noise(BATCH_SIZE, device=device)\n",
    "\n",
    "  with torch.no_grad():\n",
    "    images = generator(noise)\n",
    "\n",
    "  plt.figure(figsize=(10, 10))\n",
    "  for i in range(16):\n",
    "    image = images[i]\n",
    "\n",
    "    image = image.cpu().numpy()\n",
    "    image = np.reshape(image, (28, 28))\n",
    "\n",
    "    plt.subplot(4, 4, i + 1)\n",
    "    plt.imshow(image, cmap='gray')\n",
    "    plt.axis('off')\n",
    "  if not os.path.exists(f'./runs/{UNIQUE_RUN_ID}/images'):\n",
    "    os.mkdir(f'./runs/{UNIQUE_RUN_ID}/images')\n",
    "  plt.savefig(f'./runs/{UNIQUE_RUN_ID}/images/epoch{epoch}_batch{batch}.jpg')\n",
    "  plt.close()\n",
    "\n",
    "def save_models(generator, discriminator, epoch):\n",
    "  \"\"\" Save models at specific point in time. \"\"\"\n",
    "  torch.save(generator.state_dict(), f'./runs/{UNIQUE_RUN_ID}/generator_{epoch}.pth')\n",
    "  torch.save(discriminator.state_dict(), f'./runs/{UNIQUE_RUN_ID}/discriminator_{epoch}.pth')"
   ],
   "id": "e59b73abdbe36f86",
   "outputs": [],
   "execution_count": 9
  },
  {
   "metadata": {},
   "cell_type": "markdown",
   "source": "Continuamos con una seria de funciones de inicialización, encargadas de inicializar nuestras redes, funciones de péridida y los optimizadores que se usaran para actualizar los parámetros de cada red de manera independiente:",
   "id": "c9710a471f290dee"
  },
  {
   "metadata": {
    "ExecuteTime": {
     "end_time": "2025-05-08T12:24:08.578562Z",
     "start_time": "2025-05-08T12:24:08.574787Z"
    }
   },
   "cell_type": "code",
   "source": [
    "def initialize_models(device=get_device()):\n",
    "  generator = Generator()\n",
    "  discriminator = Discriminator()\n",
    "  generator.to(device)\n",
    "  discriminator.to(device)\n",
    "  return generator, discriminator\n",
    "\n",
    "def initialize_optimizers(generator, discriminator):\n",
    "  generator_optimizer = torch.optim.AdamW(generator.parameters(), lr=OPTIMIZER_LR,betas=OPTIMIZER_BETAS)\n",
    "  discriminator_optimizer = torch.optim.AdamW(discriminator.parameters(), lr=OPTIMIZER_LR,betas=OPTIMIZER_BETAS)\n",
    "  return generator_optimizer, discriminator_optimizer"
   ],
   "id": "e5ba72588e5a8cb0",
   "outputs": [],
   "execution_count": 10
  },
  {
   "metadata": {},
   "cell_type": "markdown",
   "source": [
    "Por último, vamos a definir una función adicional para anular nuestros gradientes.\n",
    "\n",
    "Esta función tiene un efecto similar a ``optimizer-zero_grad()`` pero es más eficiente. En la mayoría de casos, podemos usar esta nueva función para mejorar la velocidad de entrenamiento sin afectar a la precisión de los resultados obtenidos (aunque es importante mencionar que la estabilidad númerica de estas dos funciones es diferentes y se pueden producir pequeñas desviaciones numéricas en los parámetros de la red al usar una u otra)."
   ],
   "id": "b82d9192a018bd7b"
  },
  {
   "metadata": {
    "ExecuteTime": {
     "end_time": "2025-05-08T12:24:08.661169Z",
     "start_time": "2025-05-08T12:24:08.656727Z"
    }
   },
   "cell_type": "code",
   "source": [
    "def efficient_zero_grad(model):\n",
    "\n",
    "  for param in model.parameters():\n",
    "    param.grad = None"
   ],
   "id": "7e97cf7b9a6ad5bb",
   "outputs": [],
   "execution_count": 11
  },
  {
   "metadata": {},
   "cell_type": "markdown",
   "source": "Por último definimos nuestro loop de entrenamiento:",
   "id": "9a481778cab5ec6a"
  },
  {
   "metadata": {
    "ExecuteTime": {
     "end_time": "2025-05-08T12:24:08.738622Z",
     "start_time": "2025-05-08T12:24:08.727246Z"
    }
   },
   "cell_type": "code",
   "source": [
    "def train(generator, discriminator):\n",
    "    # Optimizadores\n",
    "    opt_generator, opt_discriminator = initialize_optimizers(generator, discriminator)\n",
    "\n",
    "    # Dataloader\n",
    "    train_loader = DataLoader(train_dataset, batch_size=BATCH_SIZE, shuffle=True, drop_last=True, num_workers=4)\n",
    "\n",
    "    # Función de pérdida\n",
    "    loss_fn = nn.BCELoss()\n",
    "\n",
    "    device = get_device()\n",
    "    make_directory_for_run()\n",
    "\n",
    "    for epoch in range(NUM_EPOCHS):\n",
    "        # Barra de progreso\n",
    "        bar = tqdm(total=len(train_loader), dynamic_ncols=True, leave=False, position=0, desc=f\"Train epoch {epoch}\")\n",
    "\n",
    "        train_loss_disc = 0.0\n",
    "        train_loss_gen = 0.0\n",
    "\n",
    "        for i, (x, _) in enumerate(train_loader):\n",
    "            real_label, fake_label = 1.0, 0.0\n",
    "\n",
    "            real_images = x.to(device)\n",
    "            label = torch.full((BATCH_SIZE, 1), real_label, device=device)\n",
    "\n",
    "            # PASO 1: Entrenamiento del discriminador\n",
    "            efficient_zero_grad(discriminator)\n",
    "\n",
    "            # Imágenes reales\n",
    "            real_images = real_images.view(real_images.size(0), -1)\n",
    "            y = discriminator(real_images)\n",
    "            loss_disc_real = loss_fn(y, label)\n",
    "            loss_disc_real.backward()\n",
    "\n",
    "            # Imágenes falsas\n",
    "            noise = generate_noise(BATCH_SIZE, device=device)\n",
    "            generated_images = generator(noise)\n",
    "            label.fill_(fake_label)\n",
    "            y = discriminator(generated_images.detach())  # Como aquí no entrenamos el generador, tenemos que usar detach() para que PyTorch no tenga en cuenta su gradiente\n",
    "            loss_disc_fake = loss_fn(y, label)\n",
    "            loss_disc_fake.backward()\n",
    "\n",
    "            opt_discriminator.step()\n",
    "\n",
    "            ########################################\n",
    "\n",
    "            # PASO 2: Entrenamiento del generador\n",
    "            efficient_zero_grad(generator)\n",
    "            label.fill_(real_label)\n",
    "            y = discriminator(generated_images)  # Como aquí no entrenamos el generador, tenemos que usar detach() para que PyTorch no tenga en cuenta su gradiente\n",
    "            loss_gen = loss_fn(y, label)\n",
    "            loss_gen.backward()\n",
    "            opt_generator.step()\n",
    "\n",
    "            #####################################\n",
    "\n",
    "            # Pérdidas finales\n",
    "            loss_disc = loss_disc_real + loss_disc_fake\n",
    "\n",
    "            train_loss_disc += loss_disc.item()\n",
    "            train_loss_gen += loss_gen.item()\n",
    "\n",
    "            bar.set_postfix(\n",
    "            loss_disc=f\"{train_loss_disc/(i+1):.4f}\",\n",
    "            loss_gen=f\"{train_loss_gen/(i+1):.4f}\",\n",
    "            )\n",
    "            bar.update()\n",
    "\n",
    "        bar.close()\n",
    "\n",
    "        # Guardamos los modelos para cada epoch (checkpointing)\n",
    "        save_models(generator, discriminator, epoch)\n",
    "\n",
    "        # Guardamos las imágenes del generador\n",
    "        generate_image(generator, epoch=epoch, batch=i)\n",
    "\n",
    "        # Liberamos la memoria tras cada epoch\n",
    "        torch.cuda.empty_cache()"
   ],
   "id": "2d5ce4cc1ceae1e2",
   "outputs": [],
   "execution_count": 12
  },
  {
   "metadata": {},
   "cell_type": "markdown",
   "source": "Por último, entrenamos nuestros modelos:",
   "id": "658e46a7dc1754b7"
  },
  {
   "metadata": {
    "ExecuteTime": {
     "end_time": "2025-05-08T12:29:47.912204Z",
     "start_time": "2025-05-08T12:24:08.802767Z"
    }
   },
   "cell_type": "code",
   "source": [
    "generator, discriminator = initialize_models()\n",
    "train(generator, discriminator)"
   ],
   "id": "6785a41a3985d9bd",
   "outputs": [
    {
     "name": "stdout",
     "output_type": "stream",
     "text": [
      "Preparando la ejecución d7441c09-da17-4cd0-9c08-c6975f1cd905\n"
     ]
    },
    {
     "name": "stderr",
     "output_type": "stream",
     "text": [
      "                                                                                                     \r"
     ]
    }
   ],
   "execution_count": 13
  },
  {
   "metadata": {},
   "cell_type": "markdown",
   "source": [
    "Imágenes generador en la primera epoch:\n",
    "\n",
    "<img src=\"./runs/d7441c09-da17-4cd0-9c08-c6975f1cd905/images/epoch0_batch467.jpg\" width=500 />\n",
    "\n",
    "Imágenes generador en la última epoch:\n",
    "\n",
    "<img src=\"./runs/d7441c09-da17-4cd0-9c08-c6975f1cd905/images/epoch49_batch467.jpg\" width=500 />"
   ],
   "id": "bb89bcd0e227fe9"
  }
 ],
 "metadata": {
  "kernelspec": {
   "display_name": "Python 3",
   "language": "python",
   "name": "python3"
  },
  "language_info": {
   "codemirror_mode": {
    "name": "ipython",
    "version": 2
   },
   "file_extension": ".py",
   "mimetype": "text/x-python",
   "name": "python",
   "nbconvert_exporter": "python",
   "pygments_lexer": "ipython2",
   "version": "2.7.6"
  }
 },
 "nbformat": 4,
 "nbformat_minor": 5
}
